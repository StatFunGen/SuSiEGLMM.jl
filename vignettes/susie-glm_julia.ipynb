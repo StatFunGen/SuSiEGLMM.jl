{
 "cells": [
  {
   "cell_type": "markdown",
   "id": "41b4738a-51b2-4281-a792-a56cb19fe1ab",
   "metadata": {},
   "source": [
    "## Julia installation\n",
    "\n",
    "Julia can be downloaded from [Julia](https://julialang.org/downloads/) and is automatically recognized by JupyterLab if it has already been installed.  Julia can also be called by simlink."
   ]
  },
  {
   "cell_type": "markdown",
   "id": "39e13cd4-7723-4da2-b431-f36a90cc0fb2",
   "metadata": {},
   "source": [
    "## Adding packages on Jupyter notebook\n",
    "\n",
    "After launching a Jupyter notebook for Julia, you first need to add a package manager `Pkg` and add any necessary packages via `Pkg`."
   ]
  },
  {
   "cell_type": "code",
   "execution_count": null,
   "id": "ab0ea463-e038-4ef0-83fe-472da40c6b5a",
   "metadata": {},
   "outputs": [],
   "source": [
    "using Pkg #install a package manager\n",
    "Pkg.add(url=\"https://github.com/cumc/SuSiEGLMM.jl.git\") # download from the source\n",
    "\n",
    "#other necessary packages\n",
    "Pkg.add([\"Statistics\", \"Distributions\", \"StatsBase\", \"Random\", \"LinearAlgebra\", \"DelimitedFiles\", \"Distributed\", \"GLM\"])\n",
    "Pkg.add(\"Plots\")"
   ]
  },
  {
   "cell_type": "markdown",
   "id": "0bf32ccf-3cc0-43b0-83cb-d5808f40028d",
   "metadata": {},
   "source": [
    "## Distributed computing\n",
    "\n",
    "Parallelization (`@distributed`) is performed at the chromosome level; that is, a set of SNPs in each chromosome is assigned to each worker (or process).  One can generate workers up to the number of chromosomes. After that packages need to be loaded with `@everyhwere`, so that all workers can access the packages.  Note that this distributed computing does not have to send all data to all workers; data are accessible on the main process only.\n"
   ]
  },
  {
   "cell_type": "code",
   "execution_count": null,
   "id": "0a2867b5-613d-49cb-86eb-a35072843fb4",
   "metadata": {},
   "outputs": [],
   "source": [
    "using Distributed \n",
    "addprocs(2) # for this small data set case\n",
    "\n",
    "using Statistics, Distributions, StatsBase, Random, LinearAlgebra\n",
    "@everywhere using SuSiEGLMM"
   ]
  },
  {
   "cell_type": "code",
   "execution_count": null,
   "id": "b5aecd9b-52d0-4247-b969-6d708452153b",
   "metadata": {},
   "outputs": [],
   "source": [
    "procs() # can check workers' id's. \n",
    "#can also use `nprocs()`, `nworkers()` to check the number of processes, workers, resepctively"
   ]
  },
  {
   "cell_type": "markdown",
   "id": "e3ce07b7-4e49-44cf-a5a2-0d6d7abde1c3",
   "metadata": {},
   "source": [
    "## Reading and preprocessing data\n",
    "\n",
    "We need `genotypes`, `traits(or phenotypes)`, and `SNP information (SNP names, chromosomes, positions)`, or  `covariates(optional)`.  Genotypes, phenotypes, and covariates need to be imputed for missing values and their types are either Matrix{Float64} or Vector{Float64} (double precision).  One can check their types using the function, `typeof()`.    Since Julia is type-specific, if they are not double precision, use `convert` to change their types.\n",
    "For instance, on the REPL\n",
    "\n",
    "```julia\n",
    "Julia> typeof(pheno)\n",
    "Vector{Any} (alias for Array{Any, 1})\n",
    "\n",
    "Julia> pheno = convert(Vector{Float64},pheno)\n",
    "\n",
    "```"
   ]
  },
  {
   "cell_type": "code",
   "execution_count": null,
   "id": "d832017e-6136-4b57-ae1d-4bffcd2225fc",
   "metadata": {},
   "outputs": [],
   "source": [
    "using DelimitedFiles #reading files"
   ]
  },
  {
   "cell_type": "code",
   "execution_count": 2,
   "id": "3c2003b2-cd08-42f0-af02-ec802bb1234f",
   "metadata": {},
   "outputs": [
    {
     "data": {
      "text/plain": [
       "\"/Users/jeankim/GIT/SuSiEGLMM.jl/vignettes\""
      ]
     },
     "execution_count": 2,
     "metadata": {},
     "output_type": "execute_result"
    }
   ],
   "source": [
    "pwd() #check the working directory"
   ]
  },
  {
   "cell_type": "code",
   "execution_count": null,
   "id": "e95f405e-0c83-4431-b1a1-3c88d096bc93",
   "metadata": {},
   "outputs": [],
   "source": [
    "# use a relative path to read a genotype file\n",
    "# the first row (column names) is skipped \n",
    "@time geno=readdlm(string(@__DIR__,\"/../testdata/causal3/fam_folder/ascertained_fam_genotype_12_10.txt\";skipstart=1); "
   ]
  },
  {
   "cell_type": "markdown",
   "id": "615f65e3-e229-4506-886b-a52b3697b2b9",
   "metadata": {},
   "source": [
    "Check for the detail on [readdlm](https://docs.julialang.org/en/v1/stdlib/DelimitedFiles/)"
   ]
  },
  {
   "cell_type": "code",
   "execution_count": null,
   "id": "96593821-76a6-4782-9d76-ec805456350d",
   "metadata": {},
   "outputs": [],
   "source": [
    "# read SNP info using an abosolute path\n",
    "info=readdlm(homedir()*\"/GIT/SuSiEGLMM.jl/testdata/causal3/fam_folder/ascertained_fam_12_10.bim\");"
   ]
  },
  {
   "cell_type": "code",
   "execution_count": null,
   "id": "08fb040b-be63-442e-bbc5-894bbc78d7c4",
   "metadata": {},
   "outputs": [],
   "source": [
    "# check the data\n",
    "info[1:5,:]"
   ]
  },
  {
   "cell_type": "markdown",
   "id": "e7088b9b-ffca-48df-87f4-d706626e967d",
   "metadata": {},
   "source": [
    "* Genotypes should be imputed (e.g. filling out by the SNP mean) to be normalized.\n",
    "* **Note!!** Julia is column-majored; looping by column is fast and efficient."
   ]
  },
  {
   "cell_type": "code",
   "execution_count": null,
   "id": "a330dd00-5285-4afc-b157-520325e31e5d",
   "metadata": {},
   "outputs": [],
   "source": [
    "# check if there are missing values (or \"NA\") and impute them \n",
    "X = geno[:,6:end]\n",
    "\n",
    "for j =axes(X,2)\n",
    "    idx = findall(X[:,j].==\"NA\")\n",
    "    X[idx,j].= missing\n",
    "    X[idx,j] .= mean(skipmissing(X[:,j]))\n",
    "end\n",
    "\n",
    "# normalization by SNP \n",
    "X1= (X.-mean(X,dims=2))./std(X,dims=2) # column-wise standardization"
   ]
  },
  {
   "cell_type": "markdown",
   "id": "f6d886a2-4618-42a8-b8f1-779582472fb3",
   "metadata": {},
   "source": [
    "- read a phenotype file \n",
    "- `header= true` separates a matrix of phenotypes (pheno[1]) from their column names (pheno[2])\n",
    "\n",
    "```julia\n",
    "julia> pheno=readdlm(homedir()*\"/GIT/SuSiEGLMM.jl/testdata/causal3/fam_folder/ascertained_fam_phenotype_12_10.txt\";header=true);\n",
    "\n",
    "#covariates (optional) : sex\n",
    "julia> C = pheno[1][:,end-1]\n",
    "julia> C[C.==1].=0.0\n",
    "julia> C[C.==2].=1.0\n",
    "\n",
    "#phenotypes (not needed for simulation)\n",
    "julia> y=pheno[1][:,end]\n",
    "julia> y= convert(Vector{Float64},y); \n",
    "\n",
    "```"
   ]
  },
  {
   "cell_type": "markdown",
   "id": "7799cd22-1895-454e-87c8-b03e7fcda88f",
   "metadata": {},
   "source": [
    "## Simulation"
   ]
  },
  {
   "cell_type": "markdown",
   "id": "9451139f-1c73-4384-9ca9-d277ec0beb2c",
   "metadata": {},
   "source": [
    "We need a particular type of arrays for SNP information for distributed computing: type `struct`: `GenoInfo`.  Fine mapping for SuSiE-GLM is run by `fineQTL_glm`. For help, type `?GenoInfo`, `?fineQTL_glm` about the detail, respectively."
   ]
  },
  {
   "cell_type": "code",
   "execution_count": null,
   "id": "e785d4bc-2f9d-4b19-b058-5ad6a916b902",
   "metadata": {},
   "outputs": [],
   "source": [
    "# a struct of arrays for SNP information: `SNP names, chromosomes, positions` in this order\n",
    "G= GenoInfo(info[:,2],info[:,1],info[:,3])"
   ]
  },
  {
   "cell_type": "code",
   "execution_count": null,
   "id": "f5ddbade-8ab0-4562-8de8-bf23cdea7446",
   "metadata": {},
   "outputs": [],
   "source": [
    "# assign workers to seeds\n",
    "Seed(124)"
   ]
  },
  {
   "cell_type": "code",
   "execution_count": null,
   "id": "59ab23ed-ffee-4855-9a8d-618c0586222d",
   "metadata": {},
   "outputs": [],
   "source": [
    "n,p = size(X1) # get the dimenson of the genotype matrix\n",
    "L=3; B=100;q=5;\n",
    "\n",
    "b_true=zeros(p);\n",
    "b_1s=zeros(B);b_2s=zeros(B); b_3s=zeros(B);\n",
    "\n",
    "res=[];Tm=zeros(B);"
   ]
  },
  {
   "cell_type": "code",
   "execution_count": null,
   "id": "d3fc9066-8922-4aa6-b7f2-18902f613643",
   "metadata": {},
   "outputs": [],
   "source": [
    "# simulations for 3 causal variants, 2 chromosome cases\n",
    "\n",
    "for j = 1:B\n",
    "    # give 3 signals only to the first chromosome\n",
    "    b_true[1]= randn(1)[1] \n",
    "    b_true[2]=randn(1)[1]\n",
    "    b_true[3]=randn(1)[1]\n",
    "    b_1s[j] = b_true[1]\n",
    "    b_2s[j] = b_true[2]\n",
    "    b_3s[j] = b_true[3]\n",
    "    # generating X directly from N(0,1)\n",
    "    # X= randn(n,p)\n",
    "    # generating covariates and the effects\n",
    "    X₀ = randn(n,q)\n",
    "    δ=randn(q) \n",
    "    #generating binary outcome\n",
    "    Y= logistic.(X1*b_true+X₀*δ).>rand(n) \n",
    "    Y=convert(Vector{Float64},Y)\n",
    "    \n",
    "  t0=@elapsed  res0= fineQTL_glm(G,Y,X1,X₀;L=L,tol=1e-4) # can adjust the tolerance\n",
    "    #  t0=@elapsed  res0= fineQTL_glm(G,Y,X1;L=L) for no covariates (intercept only)\n",
    "    res=[res;res0]; Tm[j]=t0\n",
    "end\n"
   ]
  },
  {
   "cell_type": "code",
   "execution_count": null,
   "id": "14bee30c-3a8f-42d2-af43-b8785ab73050",
   "metadata": {},
   "outputs": [],
   "source": [
    "println(\"min, median, max runtimes for susie-glm are $(minimum(Tm)), $(median(Tm)),$(maximum(Tm)).\")"
   ]
  },
  {
   "cell_type": "code",
   "execution_count": null,
   "id": "d4ae7842-399d-464b-93c7-4ca78521f7af",
   "metadata": {},
   "outputs": [],
   "source": [
    "# Posterior estimates\n",
    "b̂1=zeros(B);b̂2=zeros(B);b̂3=zeros(B);\n",
    "for j=1:B\n",
    "A = sum(res[2j-1].α.*res[2j-1].ν,dims=2)[:,1]    \n",
    "b̂1[j]=A[1]\n",
    "b̂2[j]=A[2]\n",
    "b̂3[j]=A[3]\n",
    "end\n",
    "\n",
    "#PIPs\n",
    "α̂1 = [maximum(res[2j-1].α[1,:]) for j=1:B]\n",
    "α̂2=[maximum(res[2j-1].α[2,:]) for j=1:B]\n",
    "α̂3=[maximum(res[2j-1].α[3,:]) for j=1:B]"
   ]
  },
  {
   "cell_type": "code",
   "execution_count": null,
   "id": "81a5535f-669e-4402-ae80-d3b26eae7950",
   "metadata": {},
   "outputs": [],
   "source": [
    "using Plots\n",
    "ll=@layout[a;b]; \n",
    "\n",
    "p1=scatter(b_1s,b̂1,xlabel= \"True effects\", ylabel=\"Posterior estimate\",label=false,title=\"SuSiE-GLM+random covariates\")\n",
    "p2=scatter(b_1s,α̂1, xlabel=\"True effects\",ylabel=\"PIP\",label=false)\n",
    "plot(p1,p2,layout=ll)"
   ]
  },
  {
   "cell_type": "code",
   "execution_count": null,
   "id": "ba49941d-3f41-4128-ab74-ef300dbf66df",
   "metadata": {},
   "outputs": [],
   "source": [
    "# 2x2 subplots\n",
    "l2=@layout[a b;c d]\n",
    "\n",
    "p3=scatter(b_2s,b̂2,xlabel= \"True effects\", ylabel=\"Posterior estimate\",label=false,title=\"SuSiE-GLM+random covariates\")\n",
    "p4=scatter(b_2s,α̂2, xlabel=\"True effects\",ylabel=\"PIP\",label=false)\n",
    "p5=scatter(b_3s,b̂3,xlabel= \"True effects\", ylabel=\"Posterior estimate\",label=false)\n",
    "p6=scatter(b_3s,α̂3, xlabel=\"True effects\",ylabel=\"PIP\",label=false)\n",
    "\n",
    "plot(p3,p5,p4,p6,layout=ll2)"
   ]
  },
  {
   "cell_type": "markdown",
   "id": "2279f286-8706-4172-882c-6db4b95ad78d",
   "metadata": {},
   "source": [
    "### FYI, Julia from R/Python \n",
    "----\n",
    "\n",
    "- Well-maintained packages: \n",
    "    - [JuliaCall](https://github.com/Non-Contradiction/JuliaCall) among others (`XRJulia`, `RJulia` ) in R\n",
    "    - [PyJulia](https://github.com/JuliaPy/pyjulia) in Python: can also use in Julia REPL after `using PyCall`\n",
    "\n",
    "- Documentations: \n",
    "   - JuliaCall vignette : https://nbviewer.org/github/Non-Contradiction/JuliaCall/blob/master/example/JuliaCall_in_Jupyter_R_Notebook.ipynb\n",
    "   - PyJulia documentation: https://pyjulia.readthedocs.io/en/latest/\n"
   ]
  },
  {
   "cell_type": "code",
   "execution_count": null,
   "id": "de285d6b-8948-439b-99bd-8ffa61635eb7",
   "metadata": {},
   "outputs": [],
   "source": []
  }
 ],
 "metadata": {
  "kernelspec": {
   "display_name": "Julia 1.6.1",
   "language": "julia",
   "name": "julia-1.6"
  },
  "language_info": {
   "file_extension": ".jl",
   "mimetype": "application/julia",
   "name": "julia",
   "version": "1.6.5"
  }
 },
 "nbformat": 4,
 "nbformat_minor": 5
}
