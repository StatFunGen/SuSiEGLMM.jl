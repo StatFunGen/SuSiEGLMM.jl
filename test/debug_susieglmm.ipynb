{
 "cells": [
  {
   "cell_type": "code",
   "execution_count": 56,
   "id": "69caf947-f9b7-4f43-91cb-fd4becff5c2e",
   "metadata": {},
   "outputs": [],
   "source": [
    "using Revise"
   ]
  },
  {
   "cell_type": "code",
   "execution_count": 2,
   "id": "0f85cab6-d3ff-477c-956a-9237ea2ac74c",
   "metadata": {},
   "outputs": [
    {
     "name": "stderr",
     "output_type": "stream",
     "text": [
      "\u001b[32m\u001b[1m  Activating\u001b[22m\u001b[39m project at `~/GIT/susie-glmm/SuSiEGLMM.jl`\n"
     ]
    }
   ],
   "source": [
    "using Pkg\n",
    "Pkg.activate(homedir()*\"/GIT/susie-glmm/SuSiEGLMM.jl\")"
   ]
  },
  {
   "cell_type": "code",
   "execution_count": 3,
   "id": "c6a05db2-a193-42a9-88ce-c1426cf5144e",
   "metadata": {},
   "outputs": [],
   "source": [
    "using Statistics, Distributions, StatsBase, Random, LinearAlgebra, Distributed,GLM,DelimitedFiles"
   ]
  },
  {
   "cell_type": "code",
   "execution_count": 173,
   "id": "526be504-baa4-4737-9aba-656b5ee7e4b9",
   "metadata": {},
   "outputs": [],
   "source": [
    "using SuSiEGLMM"
   ]
  },
  {
   "cell_type": "code",
   "execution_count": 105,
   "id": "ce74fd2f-11d1-40c2-a6c0-8da80e12c116",
   "metadata": {},
   "outputs": [
    {
     "name": "stdout",
     "output_type": "stream",
     "text": [
      "search: \u001b[0m\u001b[1mg\u001b[22m\u001b[0m\u001b[1ml\u001b[22m\u001b[0m\u001b[1mm\u001b[22m\u001b[0m\u001b[1mm\u001b[22m\u001b[0m\u001b[1mS\u001b[22m\u001b[0m\u001b[1mu\u001b[22m\u001b[0m\u001b[1ms\u001b[22m\u001b[0m\u001b[1mi\u001b[22m\u001b[0m\u001b[1me\u001b[22m\n",
      "\n"
     ]
    },
    {
     "data": {
      "text/latex": [
       "\\begin{verbatim}\n",
       " glmmSusie(y::Vector{Float64},X::Matrix{Float64},X₀::Union{Matrix{Float64},Vector{Float64}},T::Matrix{Float64},\n",
       "      S::Vector{Float64};tol=1e-4,τ²::Float64 = 1.99,L::Int64=10,Π::Vector{Float64}=ones(size(X,2))/size(X,2),σ0::Vector{Float64} = ones(L))\n",
       "\n",
       "\n",
       " Fit a logistic mixed model for SUSIE (sum of single effects).  Returns a type of `Result`, struct of arrays.\n",
       "\\end{verbatim}\n"
      ],
      "text/markdown": [
       "```\n",
       " glmmSusie(y::Vector{Float64},X::Matrix{Float64},X₀::Union{Matrix{Float64},Vector{Float64}},T::Matrix{Float64},\n",
       "      S::Vector{Float64};tol=1e-4,τ²::Float64 = 1.99,L::Int64=10,Π::Vector{Float64}=ones(size(X,2))/size(X,2),σ0::Vector{Float64} = ones(L))\n",
       "\n",
       "\n",
       " Fit a logistic mixed model for SUSIE (sum of single effects).  Returns a type of `Result`, struct of arrays.\n",
       "```\n"
      ],
      "text/plain": [
       "\u001b[36m   glmmSusie(y::Vector{Float64},X::Matrix{Float64},X₀::Union{Matrix{Float64},Vector{Float64}},T::Matrix{Float64},\u001b[39m\n",
       "\u001b[36m        S::Vector{Float64};tol=1e-4,τ²::Float64 = 1.99,L::Int64=10,Π::Vector{Float64}=ones(size(X,2))/size(X,2),σ0::Vector{Float64} = ones(L))\u001b[39m\n",
       "\u001b[36m  \u001b[39m\n",
       "\u001b[36m  \u001b[39m\n",
       "\u001b[36m   Fit a logistic mixed model for SUSIE (sum of single effects).  Returns a type of `Result`, struct of arrays.\u001b[39m"
      ]
     },
     "execution_count": 105,
     "metadata": {},
     "output_type": "execute_result"
    }
   ],
   "source": [
    "?glmmSusie"
   ]
  },
  {
   "cell_type": "code",
   "execution_count": 106,
   "id": "59011ad5-4392-4e02-9fa1-873a3b4c2dc6",
   "metadata": {},
   "outputs": [
    {
     "name": "stdout",
     "output_type": "stream",
     "text": [
      "  1.095364 seconds (18.08 M allocations: 513.283 MiB, 6.31% gc time, 10.40% compilation time)\n"
     ]
    }
   ],
   "source": [
    "#genotype matrix and impute missing values\n",
    "@time geno=readdlm(homedir()*\"/GIT/SuSiEGLMM.jl/testdata/causal1/pop/ascertained_pop_genotype_12_10.txt\";header=true);\n",
    "\n",
    "X = geno[1][:,6:end]\n",
    "\n",
    "for j =axes(X,2)\n",
    "    idx = findall(X[:,j].==\"NA\")\n",
    "    X[idx,j].= missing\n",
    "    X[idx,j] .= mean(skipmissing(X[:,j]))\n",
    "end\n",
    "\n",
    "#empirical grm\n",
    "K0=readdlm(homedir()*\"/GIT/SuSiEGLMM.jl/testdata/causal1/pop/pop_grm.txt\");\n",
    "K0=Symmetric(K0);K0=convert(Matrix{Float64}, K0);"
   ]
  },
  {
   "cell_type": "code",
   "execution_count": 107,
   "id": "4e7ec21e-529d-40e7-9cca-61b74eb48da2",
   "metadata": {},
   "outputs": [],
   "source": [
    "Seed(24)"
   ]
  },
  {
   "cell_type": "code",
   "execution_count": 108,
   "id": "d4488e7f-a1a1-4c4f-af0c-5efe8104d20c",
   "metadata": {},
   "outputs": [
    {
     "data": {
      "text/plain": [
       "([-0.03009495162366858 -0.031199170200303952 … 0.02250555702743749 -0.032300622574000716; 0.018922699570053384 -0.011274405950787193 … -0.08587528642298964 -0.06720273463442801; … ; 0.030711943755013932 -0.08417309847479863 … 0.001685475850207202 -0.02001944231048721; -0.044587796206770926 -0.0445877962067711 … -0.04458779620677096 -0.04458779620677122], [1.8498635657424751, 1.8261737315279054, 1.8023586994816634, 1.795369895112748, 1.7886748954597398, 1.77722900960392, 1.76599079160014, 1.7489955943284636, 1.7484990825208595, 1.73815229501913  …  0.4543734391818463, 0.45258719285154625, 0.4482105576406595, 0.4445639720846187, 0.44317598472484143, 0.438904667753285, 0.43267495350217544, 0.4293582332306149, 0.4197027678053472, 1.7510186732697898e-15])"
      ]
     },
     "execution_count": 108,
     "metadata": {},
     "output_type": "execute_result"
    }
   ],
   "source": [
    "T,S = svdK(K0;LOCO=false) "
   ]
  },
  {
   "cell_type": "code",
   "execution_count": 109,
   "id": "779c3e19-2165-485a-b6dc-b7bed8905b87",
   "metadata": {},
   "outputs": [
    {
     "data": {
      "text/plain": [
       "(503, 4000)"
      ]
     },
     "execution_count": 109,
     "metadata": {},
     "output_type": "execute_result"
    }
   ],
   "source": [
    "size(X)"
   ]
  },
  {
   "cell_type": "code",
   "execution_count": 110,
   "id": "52bfb5b2-a04e-42c0-b165-48af744a7742",
   "metadata": {},
   "outputs": [],
   "source": [
    "X1= (X.-mean(X,dims=1))./std(X,dims=1)\n",
    "n,p = size(X1)\n",
    "\n",
    "L=1; B=1;\n",
    "tol=1e-4\n",
    "b_true=zeros(p);\n",
    "b_1s=zeros(B); \n"
   ]
  },
  {
   "cell_type": "code",
   "execution_count": 11,
   "id": "626b398e-86ac-4378-9c02-0bcef3adb7a4",
   "metadata": {},
   "outputs": [],
   "source": [
    "# data preparation\n",
    "    τ2= 1.5  # true τ²\n",
    "\n",
    "#for j = 1:B\n",
    "    b_true[1]= randn(1)[1] \n",
    "\n",
    "    g=rand(MvNormal(τ2*K0)) #grm\n",
    "    p= logistic.(X1*b_true+g) \n",
    "    #generating binary outcome\n",
    "    Y=convert(Vector{Float64} ,rand.(Bernoulli.(p))) ;  \n",
    "    X₀=ones(n,1); #covariates(intercepts)"
   ]
  },
  {
   "cell_type": "code",
   "execution_count": 12,
   "id": "34cd2c88-13d1-4295-9ce2-62d85d6f854e",
   "metadata": {},
   "outputs": [
    {
     "data": {
      "text/plain": [
       "0.12169754246032718"
      ]
     },
     "execution_count": 12,
     "metadata": {},
     "output_type": "execute_result"
    }
   ],
   "source": [
    "b_true[1] # true b"
   ]
  },
  {
   "cell_type": "code",
   "execution_count": 38,
   "id": "85681441-bd5b-410b-ad69-55f415326481",
   "metadata": {},
   "outputs": [
    {
     "data": {
      "text/plain": [
       "([0.6203341866904861 1.2821380992099884 … 1.043867526136292 -0.1389906140735533; -0.6509038299601514 -1.2818875721823844 … -1.4765123447412196 0.9787359714523717; … ; 0.3973684522059859 -0.6252119514266032 … 0.2937676417753836 -0.4056734188047211; 2.498001805406602e-16 -1.3877787807814457e-15 … -1.3877787807814457e-15 -3.7192471324942744e-15], [8.104628079763643e-15; -1.7763568394002505e-15; … ; 5.176414852314792e-15; -22.427661492005853;;], [0.7380182007198995, 0.4932809620366664, -0.20932647335519852, 0.23574420649902875, -0.3390369393086783, -0.3800707480870755, 0.4493067890313288, -0.07527503784950619, 1.0065495959264241, 0.34437937462374313  …  -0.5050540161006902, 0.04812784483224336, 0.6473613710563536, -0.19269570999865615, -0.06470431183997619, 0.7611326098578076, -0.03169940760200806, -0.14082160584554093, -0.07353240261188163, 0.6911108412049504])"
      ]
     },
     "execution_count": 38,
     "metadata": {},
     "output_type": "execute_result"
    }
   ],
   "source": [
    " # transforming data         \n",
    "     Xt, Xt₀, y1 = SuSiEGLMM.rotate(Y,X1,X₀,T)   \n",
    "#      y1= SuSiEGLMM.rotateY(Y1,T)\n",
    "\n",
    "#initial values\n",
    "#     τ² =2.0.^[-10:0.5:2.5;] # the range of τ²\n",
    "  "
   ]
  },
  {
   "cell_type": "code",
   "execution_count": 13,
   "id": "04f39cc4-8fa4-442e-b34e-3f4e882e44d5",
   "metadata": {},
   "outputs": [
    {
     "name": "stdout",
     "output_type": "stream",
     "text": [
      "603\n",
      " 27.252065 seconds (15.07 M allocations: 34.603 GiB, 11.85% gc time, 16.14% compilation time)\n"
     ]
    },
    {
     "data": {
      "text/plain": [
       "Result([0.6524901182755911, 0.6184070968466127, 0.5943665763273984, 0.59448456203368, 0.5994032482415731, 0.6004846477838822, 0.6042359291378836, 0.5823473445565246, 0.6744000444794052, 0.5916156772494535  …  0.30955338895943496, 0.3053677182659665, 0.309713935703812, 0.3031921977927418, 0.3022731558892352, 0.3085713469350707, 0.29870644878756264, 0.2978323051344029, 0.2943472226636677, 387.11614412912763], [-17.22842782143601], [0.00011555910625579783], 0.21061676102332783, -659.5636349583392, [0.00026010953356224697; 0.00025035081029284485; … ; 0.00024955448027751093; 0.0002528484160712172;;], [0.0032477313605729103; -0.001350480971123967; … ; -0.0010475188478008975; 0.0020219294738140635;;], [0.00011404312077513636; 0.00011404517578826095; … ; 0.00011404499816229501; 0.00011404502041071244;;])"
      ]
     },
     "execution_count": 13,
     "metadata": {},
     "output_type": "execute_result"
    }
   ],
   "source": [
    "#debugging\n",
    "@time res= glmmSusie(Y,X1,X₀,T,S;tol=tol,τ²= 2.5,L=L)\n"
   ]
  },
  {
   "cell_type": "code",
   "execution_count": 31,
   "id": "5a8d4e54-a5e3-4b74-a435-697e19064385",
   "metadata": {},
   "outputs": [
    {
     "data": {
      "text/plain": [
       "0.5730600703457543"
      ]
     },
     "execution_count": 31,
     "metadata": {},
     "output_type": "execute_result"
    }
   ],
   "source": [
    "logistic(minimum(res.ξ))"
   ]
  },
  {
   "cell_type": "code",
   "execution_count": 300,
   "id": "bb1439dc-f6d8-4c29-8eaa-039694df87ce",
   "metadata": {},
   "outputs": [
    {
     "data": {
      "text/plain": [
       "503×1 Matrix{Float64}:\n",
       " 1.0\n",
       " 1.0\n",
       " 1.0\n",
       " 1.0\n",
       " 1.0\n",
       " 1.0\n",
       " 1.0\n",
       " 1.0\n",
       " 1.0\n",
       " 1.0\n",
       " 1.0\n",
       " 1.0\n",
       " 1.0\n",
       " ⋮\n",
       " 1.0\n",
       " 1.0\n",
       " 1.0\n",
       " 1.0\n",
       " 1.0\n",
       " 1.0\n",
       " 1.0\n",
       " 1.0\n",
       " 1.0\n",
       " 1.0\n",
       " 1.0\n",
       " 1.0"
      ]
     },
     "execution_count": 300,
     "metadata": {},
     "output_type": "execute_result"
    }
   ],
   "source": [
    "X₀"
   ]
  },
  {
   "cell_type": "code",
   "execution_count": 242,
   "id": "95f9d816-d72c-4273-b66d-0dbc37a29229",
   "metadata": {},
   "outputs": [
    {
     "data": {
      "text/plain": [
       "intOut([0.4307742070354993;;], [-35.981727194550245], [0.7380182007199507, 0.4932809620366551, -0.20932647335519286, 0.23574420649905492, -0.3390369393086967, -0.38007074808708086, 0.44930678903129045, -0.07527503784950708, 1.0065495959263921, 0.34437937462373386  …  -0.5050540161006711, 0.04812784483220738, 0.6473613710564481, -0.19269570999859847, -0.06470431183994825, 0.7611326098578247, -0.031699407602064515, -0.14082160584559789, -0.0735324026118394, 0.401086479829557], [0.17561276958721417, 0.17624690280351132, 0.17686404107337775, 0.17705289578756672, 0.1772204811097033, 0.1775268778410138, 0.17783076804123119, 0.1782866724091776, 0.1783054751785328, 0.1785844113702009  …  0.22506367991207377, 0.2251500584550706, 0.225363119768363, 0.22553800695881884, 0.22561818879569284, 0.22581374737654525, 0.22611998026381633, 0.2262800597987398, 0.22675300657374733, 0.0003593920617007933], [1.4232761835615985e-15 -3.1307739121812847e-16 … 1.1737676310353795e-15 -0.008060323502739473], [2.677765737631914e-29 -5.890268671068533e-30 … 2.2083379056218758e-29 -1.516477150334532e-16; -5.869075589330222e-30 1.2910177909191304e-30 … -4.840192669856166e-30 3.323785534979796e-17; … ; 1.71028530845326e-29 -3.7621065313502786e-30 … 1.4104623952002734e-29 -9.685718785527063e-17; -7.410090003815616e-14 1.6299940052961053e-14 … -6.111058338496514e-14 0.4196495613782246])"
      ]
     },
     "execution_count": 242,
     "metadata": {},
     "output_type": "execute_result"
    }
   ],
   "source": [
    "τ²=1.99; Π=ones(p)/p;σ0=ones(L);\n",
    "Σ0= 2(cov(Xt₀)+I) # initial variance of prior β\n",
    "ξ0=guessξ0(y1,Xt₀,Xt,S,Σ0,τ²,σ0,Π,n,L)\n",
    "\n",
    "Xy₀=SuSiEGLMM.getXy('T',Xt₀,y1)\n",
    "Badj= intβOut(Xy₀,y1,Xt₀,Σ0,ξ0,n) "
   ]
  },
  {
   "cell_type": "code",
   "execution_count": 289,
   "id": "fd76f6cb-b517-4b46-b890-e0379b117057",
   "metadata": {},
   "outputs": [
    {
     "data": {
      "text/plain": [
       "1-element Vector{Float64}:\n",
       " -23.640100541443648"
      ]
     },
     "execution_count": 289,
     "metadata": {},
     "output_type": "execute_result"
    }
   ],
   "source": [
    "Badj.β̂"
   ]
  },
  {
   "cell_type": "code",
   "execution_count": 277,
   "id": "dd720e02-33d4-410f-8b6e-fbeb7acb5862",
   "metadata": {},
   "outputs": [
    {
     "data": {
      "text/plain": [
       "-688.3037305907769"
      ]
     },
     "execution_count": 277,
     "metadata": {},
     "output_type": "execute_result"
    }
   ],
   "source": [
    "#  ghat =zeros(n); Vg = zeros(n);\n",
    "#     ghat2=zeros(n); τ2_new=zeros(1); τ2 =[τ²]; \n",
    "    \n",
    "#     βhat=zeros(c)\n",
    "#     A0 =repeat(Π,outer=(1,L)) ; \n",
    "#     B0=zeros(p,L); AB2=zeros(p,L)\n",
    "   \n",
    "#     A1 =copy(A0); B1=zeros(p,L); Sig1=zeros(p,L)\n",
    "#     σ0_new = zeros(L); ξ_new = zeros(n);\n",
    "\n",
    "#  el0=0.0;\n",
    "# Badj= intβOut(Xy₀,y1,Xt₀,Σ0,ξ0,n) \n",
    "# postG!(ghat,Vg,Badj,Xt,S,τ2,A0,B0)\n",
    "# emG!(ghat2,τ2_new,Vg,ghat,S)\n",
    "\n",
    "postB!(A1, B1, Sig1,Badj,ghat,Xt,σ0,A0,B0,Π,L)\n",
    "σ0_new, AB2 = emB(A1, B1, Sig1,L)\n",
    "mStep!(ξ_new,A1,B1,Sig1,ghat,Vg,Badj,Xt,Xt₀,n)\n",
    "el1=ELBO(ξ_new,σ0_new,τ2_new,Badj,A1,B1,AB2,Sig1,Π,ghat,ghat2,Vg,S,Xt,Xy₀,Σ0,L,n)\n",
    "\n",
    "# crit=abs(el1-el0)\n",
    "# ξ0[:]=ξ_new; τ2[:]=τ2_new;el0=el1;σ0[:]=σ0_new;βhat[:]=Badj.β̂;\n",
    "#          A0[:,:]=A1;B0[:,:]=B1\n",
    "        "
   ]
  },
  {
   "cell_type": "code",
   "execution_count": 278,
   "id": "3bd56469-d374-41f5-bdb1-df5eca3c160d",
   "metadata": {},
   "outputs": [
    {
     "data": {
      "text/plain": [
       "1×2 Matrix{Float64}:\n",
       " 0.0116125  0.00773446"
      ]
     },
     "execution_count": 278,
     "metadata": {},
     "output_type": "execute_result"
    }
   ],
   "source": [
    "[σ0 σ0_new]"
   ]
  },
  {
   "cell_type": "code",
   "execution_count": 279,
   "id": "75939ce1-e16d-4edd-b8c5-55c179f4093d",
   "metadata": {},
   "outputs": [
    {
     "data": {
      "text/plain": [
       "503×2 Matrix{Float64}:\n",
       "   2.18471     2.13398\n",
       "   1.77679     1.73949\n",
       "   1.48504     1.4605\n",
       "   1.50019     1.47505\n",
       "   1.58349     1.55437\n",
       "   1.62096     1.59003\n",
       "   1.69475     1.66074\n",
       "   1.41481     1.39306\n",
       "   2.64347     2.58615\n",
       "   1.57112     1.54229\n",
       "   1.86755     1.82661\n",
       "   3.28979     3.23635\n",
       "   1.48032     1.45544\n",
       "   ⋮         \n",
       "   0.874822    0.85898\n",
       "   1.03308     1.00929\n",
       "   0.932049    0.91323\n",
       "   0.854354    0.839341\n",
       "   0.972162    0.951067\n",
       "   0.858492    0.843031\n",
       "   0.847381    0.832447\n",
       "   1.00356     0.980685\n",
       "   0.837853    0.823091\n",
       "   0.840699    0.825659\n",
       "   0.828403    0.8137\n",
       " 619.969     530.915"
      ]
     },
     "execution_count": 279,
     "metadata": {},
     "output_type": "execute_result"
    }
   ],
   "source": [
    "[ξ0 ξ_new]"
   ]
  },
  {
   "cell_type": "code",
   "execution_count": 275,
   "id": "d8e20294-0dd4-4d23-8ef6-85081517a986",
   "metadata": {},
   "outputs": [
    {
     "data": {
      "text/plain": [
       "503×4 Matrix{Float64}:\n",
       "  1.55317       4.52246      1.84986      2.11013\n",
       "  0.993047      3.00602      1.82617      2.01988\n",
       " -0.408181      2.12222      1.80236      1.95561\n",
       "  0.4586        2.16388      1.79537      1.95357\n",
       " -0.663658      2.40312      1.78867      1.96268\n",
       " -0.743439      2.51402      1.77723      1.96131\n",
       "  0.881018      2.74219      1.76599      1.96599\n",
       " -0.143756      1.93135      1.749        1.91068\n",
       "  2.12691       6.64125      1.7485       2.11752\n",
       "  0.662307      2.36622      1.73815      1.92757\n",
       " -1.16037       3.31738      1.73116      1.97091\n",
       " -2.86231      10.3999       1.72723      2.2071\n",
       " -0.454689      2.10769      1.71896      1.90095\n",
       "  ⋮                                       \n",
       " -0.156691      0.735142     0.459797     0.71059\n",
       " -0.551709      1.01347      0.456579     0.709088\n",
       " -0.355644      0.83099      0.454373     0.704508\n",
       "  0.0336485     0.702103     0.452587     0.700971\n",
       "  0.450798      0.900373     0.448211     0.697155\n",
       " -0.133036      0.708328     0.444564     0.690629\n",
       " -0.0443154     0.690624     0.443176     0.688661\n",
       "  0.521214      0.957148     0.438905     0.685484\n",
       " -0.0214522     0.67527      0.432675     0.67481\n",
       " -0.0942603     0.67938      0.429358     0.670495\n",
       " -0.0483491     0.659936     0.419703     0.657599\n",
       "  8.56185e-16   3.24909e-15  1.75102e-15  3.24909e-15"
      ]
     },
     "execution_count": 275,
     "metadata": {},
     "output_type": "execute_result"
    }
   ],
   "source": [
    "# gs=zeros(n,4)\n",
    "gs[:,:]=[ghat ghat2 S Vg]\n",
    "gs"
   ]
  },
  {
   "cell_type": "code",
   "execution_count": 258,
   "id": "f405d019-d568-47b4-be5c-a3935c7eb998",
   "metadata": {},
   "outputs": [
    {
     "data": {
      "text/plain": [
       "503×4 Matrix{Float64}:\n",
       "  1.59677       4.72592     1.84986      2.17624\n",
       "  1.02103       3.12787     1.82617      2.08537\n",
       " -0.418988      2.19075     1.80236      2.0152\n",
       "  0.469304      2.23398     1.79537      2.01374\n",
       " -0.682421      2.48971     1.78867      2.02401\n",
       " -0.764698      2.60784     1.77723      2.02308\n",
       "  0.906089      2.84969     1.76599      2.02869\n",
       " -0.148333      1.98951     1.749        1.9675\n",
       "  2.17879       6.91998     1.7485       2.17283\n",
       "  0.681169      2.45153     1.73815      1.98754\n",
       " -1.19469       3.46088     1.73116      2.03359\n",
       " -2.91015      10.7162      1.72723      2.24721\n",
       " -0.467309      2.17716     1.71896      1.95878\n",
       "  ⋮                                      \n",
       " -0.161591      0.761613    0.459797     0.735501\n",
       " -0.570481      1.05968     0.456579     0.734231\n",
       " -0.368159      0.864858    0.454373     0.729317\n",
       "  0.034719      0.726774    0.452587     0.725568\n",
       "  0.46611       0.93911     0.448211     0.721851\n",
       " -0.137922      0.733956    0.444564     0.714934\n",
       " -0.045357      0.714958    0.443176     0.7129\n",
       "  0.539159      1.00058     0.438905     0.709884\n",
       " -0.022347      0.699136    0.432675     0.698637\n",
       " -0.0973516     0.703684    0.429358     0.694207\n",
       " -0.0501704     0.683435    0.419703     0.680918\n",
       "  1.04192e-15   3.3853e-15  1.75102e-15  3.3853e-15"
      ]
     },
     "execution_count": 258,
     "metadata": {},
     "output_type": "execute_result"
    }
   ],
   "source": [
    "[ghat ghat2 S Vg]"
   ]
  },
  {
   "cell_type": "code",
   "execution_count": 232,
   "id": "013f2d58-94db-4855-ac93-42dc987d47eb",
   "metadata": {},
   "outputs": [
    {
     "data": {
      "text/plain": [
       "1-element view(::Vector{Float64}, :) with eltype Float64:\n",
       " 1.787907725248363"
      ]
     },
     "execution_count": 232,
     "metadata": {},
     "output_type": "execute_result"
    }
   ],
   "source": [
    " #posterior\n",
    "#         Vg[:]= 1.0./(Badj.λ+1.0./(τ2[1]*S))\n",
    "        \n",
    "#         ghat[:]= SuSiEGLMM.getXy('N',Xt,sum(A0.*B0,dims=2)[:,1])\n",
    "#         ghat[:]= Badj.Ŷ -lmul!(Diagonal(Badj.λ),ghat)\n",
    "#         lmul!(Diagonal(Vg),ghat)\n",
    "#          ghat2[:]= Vg+ghat.^2 \n",
    "    #m-step for τ²\n",
    "    τ2_new[:].= mean(ghat2./S)"
   ]
  },
  {
   "cell_type": "code",
   "execution_count": 276,
   "id": "31286e3b-0f8a-46a9-906d-db015be5363c",
   "metadata": {},
   "outputs": [
    {
     "data": {
      "text/plain": [
       "1×2 Matrix{Float64}:\n",
       " 1.85555  1.78609"
      ]
     },
     "execution_count": 276,
     "metadata": {},
     "output_type": "execute_result"
    }
   ],
   "source": [
    "[τ2 τ2_new]"
   ]
  },
  {
   "cell_type": "markdown",
   "id": "2926646a-d40d-4287-934a-a0b5dd9a91bd",
   "metadata": {},
   "source": [
    "## Testing score test "
   ]
  },
  {
   "cell_type": "code",
   "execution_count": 111,
   "id": "49f5e28b-ef87-4296-a36d-48cfe9319b4a",
   "metadata": {},
   "outputs": [
    {
     "name": "stdout",
     "output_type": "stream",
     "text": [
      "0.12169754246032718\n"
     ]
    }
   ],
   "source": [
    "#fix true values of parameters\n",
    "τ2=0.5;b_true[1]=randn(1)[1]\n",
    "println(b_true[1])#true b\n",
    "# init0=[]; init1=[]\n",
    "B=200\n",
    "\n",
    "#  tt=zeros(B);\n",
    "#Ps=zeros(p,R); \n",
    "#  Ts1=zeros(p,B);#Ps1=zeros(p,R);\n",
    "Y0=zeros(n,B);\n",
    "Y1=zeros(n,B);\n",
    "\n",
    "\n",
    "for j = 1:B\n",
    "#     b_true[1]= randn(1)[1] # true b \n",
    "#     b_1s[j] = b_true[1]   \n",
    "   \n",
    "# data generation\n",
    "    g=rand(MvNormal(τ2*K0)) #grm\n",
    "    \n",
    "    p0= logistic.(g)\n",
    "    p1=logistic.(X1*b_true+g) \n",
    "    \n",
    "    Y0[:,j]=rand.(Bernoulli.(p0)) #H0 data\n",
    "    Y1[:,j]=rand.(Bernoulli.(p1)) #H1 data\n",
    "    # similarily :\n",
    "#     Y[:,j] = collect(Iterators.flatten(rand.(Bernoulli.(p1), 1))) \n",
    "    # Y0[:,j]=Y1\n",
    "end"
   ]
  },
  {
   "cell_type": "code",
   "execution_count": 120,
   "id": "43e72faf-d0ff-436d-8f29-44061763e1d9",
   "metadata": {},
   "outputs": [
    {
     "data": {
      "text/plain": [
       "200-element Vector{Matrix{Float64}}:\n",
       " [3.4284292342498155 2.819471699704196]\n",
       " [13.489377765911394 2.640503408030776]\n",
       " [2.819471699704192 4.8850836892275025]\n",
       " [209.8960528571761 4.885083689227508]\n",
       " [6.88398586002103 565.7155903023825]\n",
       " [47.20419301714131 2.4376274432093163]\n",
       " [2.8194716997041915 6.883985860021055]\n",
       " [298.1825142576825 2.399343709750721]\n",
       " [209.89605285717812 2.8194716997041933]\n",
       " [123.55477143133304 2.4376274432093132]\n",
       " [565.7155903023806 2.437627443209316]\n",
       " [2.8194716997041933 4.88508368922753]\n",
       " [3.4284292342498257 4.885083689227525]\n",
       " ⋮\n",
       " [2.437627443209314 2.819471699704192]\n",
       " [2.4376274432093146 2.8194716997041933]\n",
       " [834.2744758270882 2.8194716997041858]\n",
       " [3.4284292342498213 2.3993437097507213]\n",
       " [4.88508368922751 565.7155903023821]\n",
       " [3.070726738372716 6.883985860020989]\n",
       " [3.4284292342498155 2.8194716997041955]\n",
       " [2.6405034080307814 1282.406069599408]\n",
       " [387.1161441291258 2.516357105094869]\n",
       " [3.0707267383727146 209.8960528571761]\n",
       " [2.437627443209316 2.516357105094871]\n",
       " [565.715590302379 1641.07713906671]"
      ]
     },
     "execution_count": 120,
     "metadata": {},
     "output_type": "execute_result"
    }
   ],
   "source": [
    "Mx=[maximum([init0[j].ξ init1[j].ξ];dims=1) for j=1:B] # check max ξ for each replicate"
   ]
  },
  {
   "cell_type": "code",
   "execution_count": 171,
   "id": "6e857c4d-b29d-44e9-b93d-aa0159065c28",
   "metadata": {},
   "outputs": [
    {
     "data": {
      "text/plain": [
       "1×2 Matrix{Float64}:\n",
       " 655.183  2.6405"
      ]
     },
     "execution_count": 171,
     "metadata": {},
     "output_type": "execute_result"
    }
   ],
   "source": [
    "Mx[158]"
   ]
  },
  {
   "cell_type": "code",
   "execution_count": 130,
   "id": "cb2b17b3-2b02-4f72-bd18-04da2ccccf02",
   "metadata": {},
   "outputs": [
    {
     "data": {
      "text/plain": [
       "158"
      ]
     },
     "execution_count": 130,
     "metadata": {},
     "output_type": "execute_result"
    }
   ],
   "source": [
    "Inx=findall(Pv0.<0.05);\n",
    "Pv0[Inx]\n",
    "Inx[31] #pick one that is extremely small"
   ]
  },
  {
   "cell_type": "code",
   "execution_count": 117,
   "id": "691864d7-e618-4a51-8ce4-910a552e38b5",
   "metadata": {},
   "outputs": [
    {
     "data": {
      "text/plain": [
       "1×2 Matrix{Any}:\n",
       " 24.8793  18.7425"
      ]
     },
     "execution_count": 117,
     "metadata": {},
     "output_type": "execute_result"
    }
   ],
   "source": [
    "minimum([V0 V1],dims=1) #minimum variances in  H0, H1 data"
   ]
  },
  {
   "cell_type": "code",
   "execution_count": 134,
   "id": "982a3a97-d542-4dff-afdf-45c0e586c87a",
   "metadata": {},
   "outputs": [
    {
     "data": {
      "text/plain": [
       "1×2 Matrix{Float64}:\n",
       " 1.0  0.933423"
      ]
     },
     "execution_count": 134,
     "metadata": {},
     "output_type": "execute_result"
    }
   ],
   "source": [
    "logistic.(maximum([init0[158].ξ init1[158].ξ];dims=1))"
   ]
  },
  {
   "cell_type": "code",
   "execution_count": 119,
   "id": "e8a1d8c0-948e-4800-b110-4d0aa4184a4b",
   "metadata": {},
   "outputs": [
    {
     "data": {
      "text/plain": [
       "3×2 Matrix{Float64}:\n",
       "  5.97398e-5   0.00203614\n",
       " 23.6193      22.2284\n",
       " 34.6268      51.9195"
      ]
     },
     "metadata": {},
     "output_type": "display_data"
    }
   ],
   "source": [
    "display([Pv0[158] P1[158];S0[158] S1[158];V0[158] V1[158]])"
   ]
  },
  {
   "cell_type": "code",
   "execution_count": 102,
   "id": "e050d441-d77f-4b4a-8a8e-2e00bafe6b91",
   "metadata": {},
   "outputs": [
    {
     "data": {
      "text/plain": [
       "0.12169754246032718"
      ]
     },
     "execution_count": 102,
     "metadata": {},
     "output_type": "execute_result"
    }
   ],
   "source": [
    "b_true[1]"
   ]
  },
  {
   "cell_type": "code",
   "execution_count": 150,
   "id": "1b242e60-28e9-4a70-bc4b-0653988e4309",
   "metadata": {},
   "outputs": [],
   "source": [
    "# ŷ \n",
    "r₀=similar(Y0); r₁=similar(Y1);ŷ0=zeros(n,B);ŷ1=zeros(n,B);ŷ2=zeros(n,B);ŷ3=zeros(n,B);\n",
    "for j=1:B\n",
    "   r₀[:,j] =  (2Y0[:,j].-1.0).*(SuSiEGLMM.getXy('N',X₀,init0[j].β)+SuSiEGLMM.getXy('T',T,init0[j].μ)) \n",
    "   r₁[:,j] =  (2Y1[:,j].-1.0).*(SuSiEGLMM.getXy('N',X₀,init1[j].β)+SuSiEGLMM.getXy('T',T,init1[j].μ)) \n",
    "   ŷ0[:,j] = logistic.(init0[j].ξ).*exp.(0.5*(r₀[:,j]-init0[j].ξ))\n",
    "   ŷ1[:,j] = logistic.(init1[j].ξ).*exp.(0.5*(r₁[:,j]-init1[j].ξ))   \n",
    "    # full lower bound\n",
    "   ŷ2[:,j] = log.(logistic.(init0[j].ξ))+0.5*(r₀[:,j]-init0[j].ξ)-Lambda.(init0[j].ξ).*(r₀[:,j].^2-init0[j].ξ.^2)\n",
    "   ŷ2[:,j] =  exp.(ŷ2[:,j])\n",
    "   ŷ3[:,j] =  log.(logistic.(init1[j].ξ))+0.5*(r₁[:,j]-init1[j].ξ)-Lambda.(init1[j].ξ).*(r₁[:,j].^2-init1[j].ξ.^2)\n",
    "    ŷ3[:,j] = exp.(ŷ3[:,j])   \n",
    "end"
   ]
  },
  {
   "cell_type": "code",
   "execution_count": 187,
   "id": "101a5484-abba-4005-9c54-562993d00e2a",
   "metadata": {},
   "outputs": [
    {
     "data": {
      "text/plain": [
       "503×5 Matrix{Float64}:\n",
       " 1.0          1.09408e6    -8.35408e-13  5.06556e-86  1.97412e85\n",
       " 1.0          1.08535e6    -8.48908e-13  4.46749e-86  2.2384e85\n",
       " 2.2093e-13   2.30145e-7    4.34509e6    2.85045e-98  3.50822e97\n",
       " 2.25568e-13  2.32796e-7    4.29561e6    3.34586e-98  2.98877e97\n",
       " 1.0          1.09845e6    -8.28784e-13  3.00309e-86  3.3299e85\n",
       " 1.0          1.09629e6    -8.32047e-13  2.70645e-86  3.69488e85\n",
       " 1.0          1.07352e6    -8.67719e-13  5.49096e-86  1.82118e85\n",
       " 1.0          1.08332e6    -8.52088e-13  4.23874e-86  2.35919e85\n",
       " 1.0          1.09514e6    -8.33795e-13  3.22928e-86  3.09667e85\n",
       " 2.27846e-13  2.33975e-7    4.27397e6    3.86958e-98  2.58426e97\n",
       " 2.2262e-13   2.31322e-7    4.32297e6    2.66505e-98  3.75228e97\n",
       " 1.0          1.08931e6    -8.42742e-13  3.18139e-86  3.14328e85\n",
       " 2.19192e-13  2.29617e-7    4.35508e6    2.01147e-98  4.97148e97\n",
       " ⋮                                                    \n",
       " 1.0          1.10055e6    -8.25627e-13  4.72099e-87  2.1182e86\n",
       " 2.20315e-13  2.33461e-7    4.28337e6    2.99694e-99  3.33674e98\n",
       " 2.25446e-13  2.36169e-7    4.23425e6    4.22188e-99  2.36862e98\n",
       " 1.0          1.11854e6    -7.9928e-13   2.95757e-87  3.38115e86\n",
       " 1.0          1.11311e6    -8.071e-13    3.37192e-87  2.96567e86\n",
       " 2.21327e-13  2.34033e-7    4.27291e6    3.14103e-99  3.18367e98\n",
       " 1.0          1.10884e6    -8.13315e-13  3.73372e-87  2.6783e86\n",
       " 1.0          1.08767e6    -8.4529e-13   6.45553e-87  1.54906e86\n",
       " 1.0          1.10278e6    -8.22286e-13  4.35187e-87  2.29786e86\n",
       " 2.19996e-13  2.33366e-7    4.28512e6    2.8036e-99   3.56685e98\n",
       " 1.0          1.10188e6    -8.23626e-13  4.68985e-87  2.13227e86\n",
       " 2.18597e-13  2.5039e-149   3.99377e148  2.44438e-7   4.09102e6"
      ]
     },
     "execution_count": 187,
     "metadata": {},
     "output_type": "execute_result"
    }
   ],
   "source": [
    "#extreme case\n",
    "[logistic.(r₀[:,158]) ŷ0[:,158] 1.0./(ŷ0[:,158].*(1.0.-ŷ0[:,158])) ŷ2[:,158] 1.0./(ŷ2[:,158].*(1.0.-ŷ2[:,158]))]"
   ]
  },
  {
   "cell_type": "code",
   "execution_count": 186,
   "id": "aa5873e2-0ab6-4fda-bc61-d6fe62b47831",
   "metadata": {},
   "outputs": [
    {
     "data": {
      "text/plain": [
       "503×5 Matrix{Float64}:\n",
       " 0.562134  0.529928  4.01438  0.594951  4.14965\n",
       " 0.568686  0.540339  4.02621  0.597502  4.15812\n",
       " 0.493372  0.464127  4.0207   0.523188  4.00862\n",
       " 0.560445  0.528218  4.01278  0.593284  4.14425\n",
       " 0.560081  0.530326  4.01477  0.59036   4.13505\n",
       " 0.5341    0.502429  4.00009  0.56639   4.07179\n",
       " 0.540694  0.500316  4.0      0.582062  4.11073\n",
       " 0.568889  0.541593  4.02787  0.596619  4.15516\n",
       " 0.514017  0.47395   4.01089  0.555105  4.04918\n",
       " 0.551275  0.522628  4.00821  0.580414  4.10621\n",
       " 0.488343  0.457364  4.0293   0.519969  4.00639\n",
       " 0.517479  0.463458  4.02148  0.573334  4.08794\n",
       " 0.502878  0.474234  4.01065  0.532058  4.01651\n",
       " ⋮                                      \n",
       " 0.556901  0.551113  4.04224  0.562709  4.06393\n",
       " 0.489755  0.481199  4.00566  0.498361  4.00004\n",
       " 0.569645  0.565685  4.07024  0.573615  4.08863\n",
       " 0.5106    0.502242  4.00008  0.519003  4.00579\n",
       " 0.560041  0.554082  4.04735  0.566021  4.07098\n",
       " 0.52687   0.519003  4.00579  0.534775  4.01944\n",
       " 0.547107  0.540614  4.02657  0.553625  4.04655\n",
       " 0.504495  0.496221  4.00023  0.512814  4.00263\n",
       " 0.491007  0.483249  4.00449  0.498806  4.00002\n",
       " 0.528619  0.521144  4.00717  0.536129  4.02099\n",
       " 0.563259  0.559039  4.05656  0.56749   4.07423\n",
       " 0.507023  0.176914  6.8674   0.881878  9.5998"
      ]
     },
     "execution_count": 186,
     "metadata": {},
     "output_type": "execute_result"
    }
   ],
   "source": [
    "# ordinary one\n",
    "[logistic.(r₀[:,1]) ŷ0[:,1] 1.0./(ŷ0[:,1].*(1.0.-ŷ0[:,1])) ŷ2[:,1] 1.0./(ŷ2[:,1].*(1.0.-ŷ2[:,1]))]"
   ]
  },
  {
   "cell_type": "code",
   "execution_count": 172,
   "id": "e57d839b-4f3d-479a-b316-093aa967b7c5",
   "metadata": {},
   "outputs": [
    {
     "data": {
      "text/plain": [
       "1×3 Matrix{Float64}:\n",
       " 0.550639  0.541826  0.851698"
      ]
     },
     "execution_count": 172,
     "metadata": {},
     "output_type": "execute_result"
    }
   ],
   "source": [
    "maximum([logistic.(r₁[:,158]) ŷ1[:,158] ŷ3[:,158]];dims=1)"
   ]
  },
  {
   "cell_type": "code",
   "execution_count": 174,
   "id": "cc87f12f-c917-4436-bf1c-74beadf036c3",
   "metadata": {},
   "outputs": [],
   "source": [
    "#score test\n",
    "# B=1\n",
    "Ts0=[];Pv0=[];S0=[];V0=[]; #init0=[];init1=[]\n",
    "Ts1=zeros(B);P1=zeros(B);S1=zeros(B);V1=zeros(B);\n",
    "τ0=2.0\n",
    " #ŷ=h(ξ)\n",
    "for j =1:B\n",
    "#        est0,Xt₀ = glmmNull(Y0[:,j],X₀,T,S;tol=tol,τ0=τ0)\n",
    "       T0, P0, s0, v0 = testStats(init0[j],Y0[:,j],X1[:,[1]],Xt[:,[1]],X₀,Xt₀,T,S)\n",
    "        Ts0=[Ts0;T0];Pv0=[Pv0;P0];S0=[S0;s0];V0=[V0;v0]\n",
    "       \n",
    "#        est1,Xt₀ = glmmNull(Y1[:,j],X₀,T,S;tol=tol,τ0=τ0)\n",
    "       Ts1[[j]], P1[[j]], S1[[j]], V1[[j]] = testStats(init1[j],Y1[:,j],X1[:,[1]],Xt[:,[1]],X₀,Xt₀,T,S)\n",
    "#        init0=[init0;est0]; init1=[init1;est1]\n",
    "end\n",
    "       \n",
    "\n",
    "    "
   ]
  },
  {
   "cell_type": "code",
   "execution_count": 175,
   "id": "c60bd554-5ce5-4280-b6d8-8907822d07c0",
   "metadata": {},
   "outputs": [
    {
     "data": {
      "text/plain": [
       "0.185"
      ]
     },
     "execution_count": 175,
     "metadata": {},
     "output_type": "execute_result"
    }
   ],
   "source": [
    "α=mean(Pv0.<0.05) # type 1 error estimate"
   ]
  },
  {
   "cell_type": "code",
   "execution_count": 176,
   "id": "70027338-25c6-4c41-b7b8-75e89657d751",
   "metadata": {},
   "outputs": [
    {
     "data": {
      "text/plain": [
       "0.69"
      ]
     },
     "execution_count": 176,
     "metadata": {},
     "output_type": "execute_result"
    }
   ],
   "source": [
    "mean(P1.<α) # power"
   ]
  },
  {
   "cell_type": "code",
   "execution_count": 168,
   "id": "d299dbcc-0cec-4873-92bc-c7ec26944feb",
   "metadata": {},
   "outputs": [
    {
     "ename": "LoadError",
     "evalue": "DomainError with -8.747320313091935:\nsqrt will only return a complex result if called with a complex argument. Try sqrt(Complex(x)).",
     "output_type": "error",
     "traceback": [
      "DomainError with -8.747320313091935:\nsqrt will only return a complex result if called with a complex argument. Try sqrt(Complex(x)).",
      "",
      "Stacktrace:",
      "  [1] throw_complex_domainerror(f::Symbol, x::Float64)",
      "    @ Base.Math ./math.jl:33",
      "  [2] sqrt",
      "    @ ./math.jl:567 [inlined]",
      "  [3] _broadcast_getindex_evalf",
      "    @ ./broadcast.jl:670 [inlined]",
      "  [4] _broadcast_getindex",
      "    @ ./broadcast.jl:643 [inlined]",
      "  [5] copyto!(dest::Diagonal{Float64, Vector{Float64}}, bc::Base.Broadcast.Broadcasted{LinearAlgebra.StructuredMatrixStyle{Diagonal{Float64, Vector{Float64}}}, Tuple{Base.OneTo{Int64}, Base.OneTo{Int64}}, typeof(sqrt), Tuple{Diagonal{Float64, Vector{Float64}}}})",
      "    @ LinearAlgebra /Applications/Julia-1.7.app/Contents/Resources/julia/share/julia/stdlib/v1.7/LinearAlgebra/src/structuredbroadcast.jl:159",
      "  [6] copy",
      "    @ ./broadcast.jl:885 [inlined]",
      "  [7] materialize",
      "    @ ./broadcast.jl:860 [inlined]",
      "  [8] Projector!(P₁::Matrix{Float64}, W⁻::Vector{Float64}, Xt₀::Matrix{Float64}, S::Vector{Float64}, τ2::Float64)",
      "    @ SuSiEGLMM ~/GIT/susie-glmm/SuSiEGLMM.jl/src/GLMM.jl:190",
      "  [9] testStats(init0::Approx0, y::Vector{Float64}, X::Matrix{Float64}, Xt::Matrix{Float64}, X₀::Matrix{Float64}, Xt₀::Matrix{Float64}, T::Matrix{Float64}, S::Vector{Float64})",
      "    @ SuSiEGLMM ~/GIT/susie-glmm/SuSiEGLMM.jl/src/GLMM.jl:254",
      " [10] top-level scope",
      "    @ ./In[168]:5",
      " [11] eval",
      "    @ ./boot.jl:373 [inlined]",
      " [12] include_string(mapexpr::typeof(REPL.softscope), mod::Module, code::String, filename::String)",
      "    @ Base ./loading.jl:1196"
     ]
    }
   ],
   "source": [
    "ts=[];pv=[];sco=[];sv=[];\n",
    " ts1=[];pv1=[];sco1=[];sv1=[];\n",
    "#full lower bound ŷ =h(ξ)exp(0.5*(x-r))\n",
    "for j=1:B\n",
    "    T0, P0, s0, v0 = testStats(init0[j],Y0[:,j],X1[:,[1]],Xt[:,[1]],X₀,Xt₀,T,S)  \n",
    "    T1, P1, S1, V1 = testStats(init1[j],Y1[:,j],X1[:,[1]],Xt[:,[1]],X₀,Xt₀,T,S)\n",
    "    ts=[ts;T0];pv=[pv;P0];sco=[sco;s0];sv=[sv;v0]\n",
    "    ts1=[ts1;T1];pv1=[pv1;P1];sco1=[sco1;S1];sv1=[sv1;V1]\n",
    "end"
   ]
  },
  {
   "cell_type": "code",
   "execution_count": 155,
   "id": "d09c2d06-6ae1-491a-a18e-7c3996413041",
   "metadata": {},
   "outputs": [],
   "source": [
    " tstat=[];pval=[];score=[];svar=[];\n",
    " tstat1=[];pval1=[];score1=[];svar1=[];\n",
    "#full lower bound ŷ =h(ξ)exp(0.5*(x-r)-Λ(ξ)(x^2-r^2)\n",
    "for j=1:B\n",
    "    T0, P0, s0, v0 = testStats(init0[j],Y0[:,j],X1[:,[1]],Xt[:,[1]],X₀,Xt₀,T,S)  \n",
    "    T1, P1, S1, V1 = testStats(init1[j],Y1[:,j],X1[:,[1]],Xt[:,[1]],X₀,Xt₀,T,S)\n",
    "    tstat=[tstat;T0];pval=[pval;P0];score=[score;s0];svar=[svar;v0]\n",
    "    tstat1=[tstat1;T1];pval1=[pval1;P1];score1=[score1;S1];svar1=[svar1;V1]\n",
    "end\n",
    " "
   ]
  },
  {
   "cell_type": "code",
   "execution_count": 156,
   "id": "14cf72e4-f95b-4747-a3dc-70009924e3e0",
   "metadata": {},
   "outputs": [
    {
     "data": {
      "text/plain": [
       "0.375"
      ]
     },
     "execution_count": 156,
     "metadata": {},
     "output_type": "execute_result"
    }
   ],
   "source": [
    "α1=mean(pval.<0.05)"
   ]
  },
  {
   "cell_type": "code",
   "execution_count": 157,
   "id": "fce8feaf-0137-44bd-a58d-223cf0524580",
   "metadata": {},
   "outputs": [
    {
     "data": {
      "text/plain": [
       "0.81"
      ]
     },
     "execution_count": 157,
     "metadata": {},
     "output_type": "execute_result"
    }
   ],
   "source": [
    "mean(pval1.<α1)"
   ]
  },
  {
   "cell_type": "code",
   "execution_count": 26,
   "id": "8e7b5875-3837-4757-baf3-546e8b8ecf07",
   "metadata": {},
   "outputs": [],
   "source": [
    "using Plots"
   ]
  },
  {
   "cell_type": "code",
   "execution_count": 180,
   "id": "1e820796-50bb-4047-b14e-4d55e8bba70d",
   "metadata": {},
   "outputs": [
    {
     "data": {
      "image/svg+xml": [
       "<?xml version=\"1.0\" encoding=\"utf-8\"?>\n",
       "<svg xmlns=\"http://www.w3.org/2000/svg\" xmlns:xlink=\"http://www.w3.org/1999/xlink\" width=\"600\" height=\"400\" viewBox=\"0 0 2400 1600\">\n",
       "<defs>\n",
       "  <clipPath id=\"clip470\">\n",
       "    <rect x=\"0\" y=\"0\" width=\"2400\" height=\"1600\"/>\n",
       "  </clipPath>\n",
       "</defs>\n",
       "<path clip-path=\"url(#clip470)\" d=\"\n",
       "M0 1600 L2400 1600 L2400 0 L0 0  Z\n",
       "  \" fill=\"#ffffff\" fill-rule=\"evenodd\" fill-opacity=\"1\"/>\n",
       "<defs>\n",
       "  <clipPath id=\"clip471\">\n",
       "    <rect x=\"480\" y=\"0\" width=\"1681\" height=\"1600\"/>\n",
       "  </clipPath>\n",
       "</defs>\n",
       "<path clip-path=\"url(#clip470)\" d=\"\n",
       "M140.696 1486.45 L2352.76 1486.45 L2352.76 47.2441 L140.696 47.2441  Z\n",
       "  \" fill=\"#ffffff\" fill-rule=\"evenodd\" fill-opacity=\"1\"/>\n",
       "<defs>\n",
       "  <clipPath id=\"clip472\">\n",
       "    <rect x=\"140\" y=\"47\" width=\"2213\" height=\"1440\"/>\n",
       "  </clipPath>\n",
       "</defs>\n",
       "<polyline clip-path=\"url(#clip472)\" style=\"stroke:#000000; stroke-linecap:butt; stroke-linejoin:round; stroke-width:2; stroke-opacity:0.1; fill:none\" points=\"\n",
       "  262.363,1486.45 262.363,47.2441 \n",
       "  \"/>\n",
       "<polyline clip-path=\"url(#clip472)\" style=\"stroke:#000000; stroke-linecap:butt; stroke-linejoin:round; stroke-width:2; stroke-opacity:0.1; fill:none\" points=\"\n",
       "  754.544,1486.45 754.544,47.2441 \n",
       "  \"/>\n",
       "<polyline clip-path=\"url(#clip472)\" style=\"stroke:#000000; stroke-linecap:butt; stroke-linejoin:round; stroke-width:2; stroke-opacity:0.1; fill:none\" points=\"\n",
       "  1246.73,1486.45 1246.73,47.2441 \n",
       "  \"/>\n",
       "<polyline clip-path=\"url(#clip472)\" style=\"stroke:#000000; stroke-linecap:butt; stroke-linejoin:round; stroke-width:2; stroke-opacity:0.1; fill:none\" points=\"\n",
       "  1738.91,1486.45 1738.91,47.2441 \n",
       "  \"/>\n",
       "<polyline clip-path=\"url(#clip472)\" style=\"stroke:#000000; stroke-linecap:butt; stroke-linejoin:round; stroke-width:2; stroke-opacity:0.1; fill:none\" points=\"\n",
       "  2231.09,1486.45 2231.09,47.2441 \n",
       "  \"/>\n",
       "<polyline clip-path=\"url(#clip470)\" style=\"stroke:#000000; stroke-linecap:butt; stroke-linejoin:round; stroke-width:4; stroke-opacity:1; fill:none\" points=\"\n",
       "  140.696,1486.45 2352.76,1486.45 \n",
       "  \"/>\n",
       "<polyline clip-path=\"url(#clip470)\" style=\"stroke:#000000; stroke-linecap:butt; stroke-linejoin:round; stroke-width:4; stroke-opacity:1; fill:none\" points=\"\n",
       "  262.363,1486.45 262.363,1467.55 \n",
       "  \"/>\n",
       "<polyline clip-path=\"url(#clip470)\" style=\"stroke:#000000; stroke-linecap:butt; stroke-linejoin:round; stroke-width:4; stroke-opacity:1; fill:none\" points=\"\n",
       "  754.544,1486.45 754.544,1467.55 \n",
       "  \"/>\n",
       "<polyline clip-path=\"url(#clip470)\" style=\"stroke:#000000; stroke-linecap:butt; stroke-linejoin:round; stroke-width:4; stroke-opacity:1; fill:none\" points=\"\n",
       "  1246.73,1486.45 1246.73,1467.55 \n",
       "  \"/>\n",
       "<polyline clip-path=\"url(#clip470)\" style=\"stroke:#000000; stroke-linecap:butt; stroke-linejoin:round; stroke-width:4; stroke-opacity:1; fill:none\" points=\"\n",
       "  1738.91,1486.45 1738.91,1467.55 \n",
       "  \"/>\n",
       "<polyline clip-path=\"url(#clip470)\" style=\"stroke:#000000; stroke-linecap:butt; stroke-linejoin:round; stroke-width:4; stroke-opacity:1; fill:none\" points=\"\n",
       "  2231.09,1486.45 2231.09,1467.55 \n",
       "  \"/>\n",
       "<path clip-path=\"url(#clip470)\" d=\"M224.666 1517.37 Q221.055 1517.37 219.226 1520.93 Q217.421 1524.47 217.421 1531.6 Q217.421 1538.71 219.226 1542.27 Q221.055 1545.82 224.666 1545.82 Q228.3 1545.82 230.106 1542.27 Q231.935 1538.71 231.935 1531.6 Q231.935 1524.47 230.106 1520.93 Q228.3 1517.37 224.666 1517.37 M224.666 1513.66 Q230.476 1513.66 233.532 1518.27 Q236.611 1522.85 236.611 1531.6 Q236.611 1540.33 233.532 1544.94 Q230.476 1549.52 224.666 1549.52 Q218.856 1549.52 215.777 1544.94 Q212.722 1540.33 212.722 1531.6 Q212.722 1522.85 215.777 1518.27 Q218.856 1513.66 224.666 1513.66 Z\" fill=\"#000000\" fill-rule=\"evenodd\" fill-opacity=\"1\" /><path clip-path=\"url(#clip470)\" d=\"M244.828 1542.97 L249.712 1542.97 L249.712 1548.85 L244.828 1548.85 L244.828 1542.97 Z\" fill=\"#000000\" fill-rule=\"evenodd\" fill-opacity=\"1\" /><path clip-path=\"url(#clip470)\" d=\"M269.897 1517.37 Q266.286 1517.37 264.458 1520.93 Q262.652 1524.47 262.652 1531.6 Q262.652 1538.71 264.458 1542.27 Q266.286 1545.82 269.897 1545.82 Q273.532 1545.82 275.337 1542.27 Q277.166 1538.71 277.166 1531.6 Q277.166 1524.47 275.337 1520.93 Q273.532 1517.37 269.897 1517.37 M269.897 1513.66 Q275.708 1513.66 278.763 1518.27 Q281.842 1522.85 281.842 1531.6 Q281.842 1540.33 278.763 1544.94 Q275.708 1549.52 269.897 1549.52 Q264.087 1549.52 261.009 1544.94 Q257.953 1540.33 257.953 1531.6 Q257.953 1522.85 261.009 1518.27 Q264.087 1513.66 269.897 1513.66 Z\" fill=\"#000000\" fill-rule=\"evenodd\" fill-opacity=\"1\" /><path clip-path=\"url(#clip470)\" d=\"M300.059 1517.37 Q296.448 1517.37 294.62 1520.93 Q292.814 1524.47 292.814 1531.6 Q292.814 1538.71 294.62 1542.27 Q296.448 1545.82 300.059 1545.82 Q303.694 1545.82 305.499 1542.27 Q307.328 1538.71 307.328 1531.6 Q307.328 1524.47 305.499 1520.93 Q303.694 1517.37 300.059 1517.37 M300.059 1513.66 Q305.87 1513.66 308.925 1518.27 Q312.004 1522.85 312.004 1531.6 Q312.004 1540.33 308.925 1544.94 Q305.87 1549.52 300.059 1549.52 Q294.249 1549.52 291.171 1544.94 Q288.115 1540.33 288.115 1531.6 Q288.115 1522.85 291.171 1518.27 Q294.249 1513.66 300.059 1513.66 Z\" fill=\"#000000\" fill-rule=\"evenodd\" fill-opacity=\"1\" /><path clip-path=\"url(#clip470)\" d=\"M717.345 1517.37 Q713.734 1517.37 711.906 1520.93 Q710.1 1524.47 710.1 1531.6 Q710.1 1538.71 711.906 1542.27 Q713.734 1545.82 717.345 1545.82 Q720.98 1545.82 722.785 1542.27 Q724.614 1538.71 724.614 1531.6 Q724.614 1524.47 722.785 1520.93 Q720.98 1517.37 717.345 1517.37 M717.345 1513.66 Q723.156 1513.66 726.211 1518.27 Q729.29 1522.85 729.29 1531.6 Q729.29 1540.33 726.211 1544.94 Q723.156 1549.52 717.345 1549.52 Q711.535 1549.52 708.457 1544.94 Q705.401 1540.33 705.401 1531.6 Q705.401 1522.85 708.457 1518.27 Q711.535 1513.66 717.345 1513.66 Z\" fill=\"#000000\" fill-rule=\"evenodd\" fill-opacity=\"1\" /><path clip-path=\"url(#clip470)\" d=\"M737.507 1542.97 L742.392 1542.97 L742.392 1548.85 L737.507 1548.85 L737.507 1542.97 Z\" fill=\"#000000\" fill-rule=\"evenodd\" fill-opacity=\"1\" /><path clip-path=\"url(#clip470)\" d=\"M756.604 1544.91 L772.924 1544.91 L772.924 1548.85 L750.979 1548.85 L750.979 1544.91 Q753.641 1542.16 758.225 1537.53 Q762.831 1532.88 764.012 1531.53 Q766.257 1529.01 767.137 1527.27 Q768.04 1525.51 768.04 1523.82 Q768.04 1521.07 766.095 1519.33 Q764.174 1517.6 761.072 1517.6 Q758.873 1517.6 756.419 1518.36 Q753.989 1519.13 751.211 1520.68 L751.211 1515.95 Q754.035 1514.82 756.489 1514.24 Q758.942 1513.66 760.979 1513.66 Q766.35 1513.66 769.544 1516.35 Q772.739 1519.03 772.739 1523.52 Q772.739 1525.65 771.928 1527.57 Q771.141 1529.47 769.035 1532.07 Q768.456 1532.74 765.354 1535.95 Q762.253 1539.15 756.604 1544.91 Z\" fill=\"#000000\" fill-rule=\"evenodd\" fill-opacity=\"1\" /><path clip-path=\"url(#clip470)\" d=\"M782.785 1514.29 L801.141 1514.29 L801.141 1518.22 L787.067 1518.22 L787.067 1526.7 Q788.086 1526.35 789.104 1526.19 Q790.123 1526 791.141 1526 Q796.928 1526 800.308 1529.17 Q803.688 1532.34 803.688 1537.76 Q803.688 1543.34 800.215 1546.44 Q796.743 1549.52 790.424 1549.52 Q788.248 1549.52 785.979 1549.15 Q783.734 1548.78 781.327 1548.04 L781.327 1543.34 Q783.41 1544.47 785.632 1545.03 Q787.854 1545.58 790.331 1545.58 Q794.336 1545.58 796.674 1543.48 Q799.012 1541.37 799.012 1537.76 Q799.012 1534.15 796.674 1532.04 Q794.336 1529.94 790.331 1529.94 Q788.456 1529.94 786.581 1530.35 Q784.729 1530.77 782.785 1531.65 L782.785 1514.29 Z\" fill=\"#000000\" fill-rule=\"evenodd\" fill-opacity=\"1\" /><path clip-path=\"url(#clip470)\" d=\"M1209.03 1517.37 Q1205.42 1517.37 1203.59 1520.93 Q1201.78 1524.47 1201.78 1531.6 Q1201.78 1538.71 1203.59 1542.27 Q1205.42 1545.82 1209.03 1545.82 Q1212.66 1545.82 1214.47 1542.27 Q1216.3 1538.71 1216.3 1531.6 Q1216.3 1524.47 1214.47 1520.93 Q1212.66 1517.37 1209.03 1517.37 M1209.03 1513.66 Q1214.84 1513.66 1217.89 1518.27 Q1220.97 1522.85 1220.97 1531.6 Q1220.97 1540.33 1217.89 1544.94 Q1214.84 1549.52 1209.03 1549.52 Q1203.22 1549.52 1200.14 1544.94 Q1197.08 1540.33 1197.08 1531.6 Q1197.08 1522.85 1200.14 1518.27 Q1203.22 1513.66 1209.03 1513.66 Z\" fill=\"#000000\" fill-rule=\"evenodd\" fill-opacity=\"1\" /><path clip-path=\"url(#clip470)\" d=\"M1229.19 1542.97 L1234.08 1542.97 L1234.08 1548.85 L1229.19 1548.85 L1229.19 1542.97 Z\" fill=\"#000000\" fill-rule=\"evenodd\" fill-opacity=\"1\" /><path clip-path=\"url(#clip470)\" d=\"M1244.31 1514.29 L1262.66 1514.29 L1262.66 1518.22 L1248.59 1518.22 L1248.59 1526.7 Q1249.61 1526.35 1250.63 1526.19 Q1251.64 1526 1252.66 1526 Q1258.45 1526 1261.83 1529.17 Q1265.21 1532.34 1265.21 1537.76 Q1265.21 1543.34 1261.74 1546.44 Q1258.27 1549.52 1251.95 1549.52 Q1249.77 1549.52 1247.5 1549.15 Q1245.26 1548.78 1242.85 1548.04 L1242.85 1543.34 Q1244.93 1544.47 1247.15 1545.03 Q1249.38 1545.58 1251.85 1545.58 Q1255.86 1545.58 1258.2 1543.48 Q1260.53 1541.37 1260.53 1537.76 Q1260.53 1534.15 1258.2 1532.04 Q1255.86 1529.94 1251.85 1529.94 Q1249.98 1529.94 1248.1 1530.35 Q1246.25 1530.77 1244.31 1531.65 L1244.31 1514.29 Z\" fill=\"#000000\" fill-rule=\"evenodd\" fill-opacity=\"1\" /><path clip-path=\"url(#clip470)\" d=\"M1284.42 1517.37 Q1280.81 1517.37 1278.98 1520.93 Q1277.18 1524.47 1277.18 1531.6 Q1277.18 1538.71 1278.98 1542.27 Q1280.81 1545.82 1284.42 1545.82 Q1288.06 1545.82 1289.86 1542.27 Q1291.69 1538.71 1291.69 1531.6 Q1291.69 1524.47 1289.86 1520.93 Q1288.06 1517.37 1284.42 1517.37 M1284.42 1513.66 Q1290.23 1513.66 1293.29 1518.27 Q1296.37 1522.85 1296.37 1531.6 Q1296.37 1540.33 1293.29 1544.94 Q1290.23 1549.52 1284.42 1549.52 Q1278.61 1549.52 1275.53 1544.94 Q1272.48 1540.33 1272.48 1531.6 Q1272.48 1522.85 1275.53 1518.27 Q1278.61 1513.66 1284.42 1513.66 Z\" fill=\"#000000\" fill-rule=\"evenodd\" fill-opacity=\"1\" /><path clip-path=\"url(#clip470)\" d=\"M1701.71 1517.37 Q1698.1 1517.37 1696.27 1520.93 Q1694.46 1524.47 1694.46 1531.6 Q1694.46 1538.71 1696.27 1542.27 Q1698.1 1545.82 1701.71 1545.82 Q1705.34 1545.82 1707.15 1542.27 Q1708.98 1538.71 1708.98 1531.6 Q1708.98 1524.47 1707.15 1520.93 Q1705.34 1517.37 1701.71 1517.37 M1701.71 1513.66 Q1707.52 1513.66 1710.57 1518.27 Q1713.65 1522.85 1713.65 1531.6 Q1713.65 1540.33 1710.57 1544.94 Q1707.52 1549.52 1701.71 1549.52 Q1695.9 1549.52 1692.82 1544.94 Q1689.76 1540.33 1689.76 1531.6 Q1689.76 1522.85 1692.82 1518.27 Q1695.9 1513.66 1701.71 1513.66 Z\" fill=\"#000000\" fill-rule=\"evenodd\" fill-opacity=\"1\" /><path clip-path=\"url(#clip470)\" d=\"M1721.87 1542.97 L1726.75 1542.97 L1726.75 1548.85 L1721.87 1548.85 L1721.87 1542.97 Z\" fill=\"#000000\" fill-rule=\"evenodd\" fill-opacity=\"1\" /><path clip-path=\"url(#clip470)\" d=\"M1735.76 1514.29 L1757.98 1514.29 L1757.98 1516.28 L1745.43 1548.85 L1740.55 1548.85 L1752.36 1518.22 L1735.76 1518.22 L1735.76 1514.29 Z\" fill=\"#000000\" fill-rule=\"evenodd\" fill-opacity=\"1\" /><path clip-path=\"url(#clip470)\" d=\"M1767.15 1514.29 L1785.5 1514.29 L1785.5 1518.22 L1771.43 1518.22 L1771.43 1526.7 Q1772.45 1526.35 1773.47 1526.19 Q1774.49 1526 1775.5 1526 Q1781.29 1526 1784.67 1529.17 Q1788.05 1532.34 1788.05 1537.76 Q1788.05 1543.34 1784.58 1546.44 Q1781.11 1549.52 1774.79 1549.52 Q1772.61 1549.52 1770.34 1549.15 Q1768.1 1548.78 1765.69 1548.04 L1765.69 1543.34 Q1767.77 1544.47 1769.99 1545.03 Q1772.22 1545.58 1774.69 1545.58 Q1778.7 1545.58 1781.04 1543.48 Q1783.37 1541.37 1783.37 1537.76 Q1783.37 1534.15 1781.04 1532.04 Q1778.7 1529.94 1774.69 1529.94 Q1772.82 1529.94 1770.94 1530.35 Q1769.09 1530.77 1767.15 1531.65 L1767.15 1514.29 Z\" fill=\"#000000\" fill-rule=\"evenodd\" fill-opacity=\"1\" /><path clip-path=\"url(#clip470)\" d=\"M2183.16 1544.91 L2190.8 1544.91 L2190.8 1518.55 L2182.49 1520.21 L2182.49 1515.95 L2190.75 1514.29 L2195.43 1514.29 L2195.43 1544.91 L2203.07 1544.91 L2203.07 1548.85 L2183.16 1548.85 L2183.16 1544.91 Z\" fill=\"#000000\" fill-rule=\"evenodd\" fill-opacity=\"1\" /><path clip-path=\"url(#clip470)\" d=\"M2212.51 1542.97 L2217.4 1542.97 L2217.4 1548.85 L2212.51 1548.85 L2212.51 1542.97 Z\" fill=\"#000000\" fill-rule=\"evenodd\" fill-opacity=\"1\" /><path clip-path=\"url(#clip470)\" d=\"M2237.58 1517.37 Q2233.97 1517.37 2232.14 1520.93 Q2230.34 1524.47 2230.34 1531.6 Q2230.34 1538.71 2232.14 1542.27 Q2233.97 1545.82 2237.58 1545.82 Q2241.22 1545.82 2243.02 1542.27 Q2244.85 1538.71 2244.85 1531.6 Q2244.85 1524.47 2243.02 1520.93 Q2241.22 1517.37 2237.58 1517.37 M2237.58 1513.66 Q2243.39 1513.66 2246.45 1518.27 Q2249.53 1522.85 2249.53 1531.6 Q2249.53 1540.33 2246.45 1544.94 Q2243.39 1549.52 2237.58 1549.52 Q2231.77 1549.52 2228.69 1544.94 Q2225.64 1540.33 2225.64 1531.6 Q2225.64 1522.85 2228.69 1518.27 Q2231.77 1513.66 2237.58 1513.66 Z\" fill=\"#000000\" fill-rule=\"evenodd\" fill-opacity=\"1\" /><path clip-path=\"url(#clip470)\" d=\"M2267.74 1517.37 Q2264.13 1517.37 2262.3 1520.93 Q2260.5 1524.47 2260.5 1531.6 Q2260.5 1538.71 2262.3 1542.27 Q2264.13 1545.82 2267.74 1545.82 Q2271.38 1545.82 2273.18 1542.27 Q2275.01 1538.71 2275.01 1531.6 Q2275.01 1524.47 2273.18 1520.93 Q2271.38 1517.37 2267.74 1517.37 M2267.74 1513.66 Q2273.55 1513.66 2276.61 1518.27 Q2279.69 1522.85 2279.69 1531.6 Q2279.69 1540.33 2276.61 1544.94 Q2273.55 1549.52 2267.74 1549.52 Q2261.93 1549.52 2258.85 1544.94 Q2255.8 1540.33 2255.8 1531.6 Q2255.8 1522.85 2258.85 1518.27 Q2261.93 1513.66 2267.74 1513.66 Z\" fill=\"#000000\" fill-rule=\"evenodd\" fill-opacity=\"1\" /><polyline clip-path=\"url(#clip472)\" style=\"stroke:#000000; stroke-linecap:butt; stroke-linejoin:round; stroke-width:2; stroke-opacity:0.1; fill:none\" points=\"\n",
       "  140.696,1445.72 2352.76,1445.72 \n",
       "  \"/>\n",
       "<polyline clip-path=\"url(#clip472)\" style=\"stroke:#000000; stroke-linecap:butt; stroke-linejoin:round; stroke-width:2; stroke-opacity:0.1; fill:none\" points=\"\n",
       "  140.696,1078.76 2352.76,1078.76 \n",
       "  \"/>\n",
       "<polyline clip-path=\"url(#clip472)\" style=\"stroke:#000000; stroke-linecap:butt; stroke-linejoin:round; stroke-width:2; stroke-opacity:0.1; fill:none\" points=\"\n",
       "  140.696,711.802 2352.76,711.802 \n",
       "  \"/>\n",
       "<polyline clip-path=\"url(#clip472)\" style=\"stroke:#000000; stroke-linecap:butt; stroke-linejoin:round; stroke-width:2; stroke-opacity:0.1; fill:none\" points=\"\n",
       "  140.696,344.846 2352.76,344.846 \n",
       "  \"/>\n",
       "<polyline clip-path=\"url(#clip470)\" style=\"stroke:#000000; stroke-linecap:butt; stroke-linejoin:round; stroke-width:4; stroke-opacity:1; fill:none\" points=\"\n",
       "  140.696,1486.45 140.696,47.2441 \n",
       "  \"/>\n",
       "<polyline clip-path=\"url(#clip470)\" style=\"stroke:#000000; stroke-linecap:butt; stroke-linejoin:round; stroke-width:4; stroke-opacity:1; fill:none\" points=\"\n",
       "  140.696,1445.72 159.593,1445.72 \n",
       "  \"/>\n",
       "<polyline clip-path=\"url(#clip470)\" style=\"stroke:#000000; stroke-linecap:butt; stroke-linejoin:round; stroke-width:4; stroke-opacity:1; fill:none\" points=\"\n",
       "  140.696,1078.76 159.593,1078.76 \n",
       "  \"/>\n",
       "<polyline clip-path=\"url(#clip470)\" style=\"stroke:#000000; stroke-linecap:butt; stroke-linejoin:round; stroke-width:4; stroke-opacity:1; fill:none\" points=\"\n",
       "  140.696,711.802 159.593,711.802 \n",
       "  \"/>\n",
       "<polyline clip-path=\"url(#clip470)\" style=\"stroke:#000000; stroke-linecap:butt; stroke-linejoin:round; stroke-width:4; stroke-opacity:1; fill:none\" points=\"\n",
       "  140.696,344.846 159.593,344.846 \n",
       "  \"/>\n",
       "<path clip-path=\"url(#clip470)\" d=\"M92.7512 1431.51 Q89.1401 1431.51 87.3114 1435.08 Q85.5058 1438.62 85.5058 1445.75 Q85.5058 1452.86 87.3114 1456.42 Q89.1401 1459.96 92.7512 1459.96 Q96.3854 1459.96 98.1909 1456.42 Q100.02 1452.86 100.02 1445.75 Q100.02 1438.62 98.1909 1435.08 Q96.3854 1431.51 92.7512 1431.51 M92.7512 1427.81 Q98.5613 1427.81 101.617 1432.42 Q104.696 1437 104.696 1445.75 Q104.696 1454.48 101.617 1459.08 Q98.5613 1463.67 92.7512 1463.67 Q86.941 1463.67 83.8623 1459.08 Q80.8068 1454.48 80.8068 1445.75 Q80.8068 1437 83.8623 1432.42 Q86.941 1427.81 92.7512 1427.81 Z\" fill=\"#000000\" fill-rule=\"evenodd\" fill-opacity=\"1\" /><path clip-path=\"url(#clip470)\" d=\"M53.3995 1092.1 L61.0384 1092.1 L61.0384 1065.74 L52.7282 1067.4 L52.7282 1063.15 L60.9921 1061.48 L65.668 1061.48 L65.668 1092.1 L73.3068 1092.1 L73.3068 1096.04 L53.3995 1096.04 L53.3995 1092.1 Z\" fill=\"#000000\" fill-rule=\"evenodd\" fill-opacity=\"1\" /><path clip-path=\"url(#clip470)\" d=\"M92.7512 1064.56 Q89.1401 1064.56 87.3114 1068.12 Q85.5058 1071.66 85.5058 1078.79 Q85.5058 1085.9 87.3114 1089.47 Q89.1401 1093.01 92.7512 1093.01 Q96.3854 1093.01 98.1909 1089.47 Q100.02 1085.9 100.02 1078.79 Q100.02 1071.66 98.1909 1068.12 Q96.3854 1064.56 92.7512 1064.56 M92.7512 1060.85 Q98.5613 1060.85 101.617 1065.46 Q104.696 1070.04 104.696 1078.79 Q104.696 1087.52 101.617 1092.13 Q98.5613 1096.71 92.7512 1096.71 Q86.941 1096.71 83.8623 1092.13 Q80.8068 1087.52 80.8068 1078.79 Q80.8068 1070.04 83.8623 1065.46 Q86.941 1060.85 92.7512 1060.85 Z\" fill=\"#000000\" fill-rule=\"evenodd\" fill-opacity=\"1\" /><path clip-path=\"url(#clip470)\" d=\"M56.6171 725.147 L72.9365 725.147 L72.9365 729.082 L50.9921 729.082 L50.9921 725.147 Q53.6541 722.393 58.2375 717.763 Q62.8439 713.11 64.0245 711.768 Q66.2698 709.245 67.1494 707.509 Q68.0522 705.749 68.0522 704.059 Q68.0522 701.305 66.1078 699.569 Q64.1865 697.833 61.0847 697.833 Q58.8856 697.833 56.4319 698.597 Q54.0014 699.36 51.2236 700.911 L51.2236 696.189 Q54.0477 695.055 56.5014 694.476 Q58.955 693.897 60.9921 693.897 Q66.3624 693.897 69.5568 696.583 Q72.7513 699.268 72.7513 703.759 Q72.7513 705.888 71.9411 707.809 Q71.1541 709.708 69.0476 712.3 Q68.4689 712.971 65.367 716.189 Q62.2652 719.383 56.6171 725.147 Z\" fill=\"#000000\" fill-rule=\"evenodd\" fill-opacity=\"1\" /><path clip-path=\"url(#clip470)\" d=\"M92.7512 697.601 Q89.1401 697.601 87.3114 701.166 Q85.5058 704.708 85.5058 711.837 Q85.5058 718.944 87.3114 722.508 Q89.1401 726.05 92.7512 726.05 Q96.3854 726.05 98.1909 722.508 Q100.02 718.944 100.02 711.837 Q100.02 704.708 98.1909 701.166 Q96.3854 697.601 92.7512 697.601 M92.7512 693.897 Q98.5613 693.897 101.617 698.504 Q104.696 703.087 104.696 711.837 Q104.696 720.564 101.617 725.17 Q98.5613 729.754 92.7512 729.754 Q86.941 729.754 83.8623 725.17 Q80.8068 720.564 80.8068 711.837 Q80.8068 703.087 83.8623 698.504 Q86.941 693.897 92.7512 693.897 Z\" fill=\"#000000\" fill-rule=\"evenodd\" fill-opacity=\"1\" /><path clip-path=\"url(#clip470)\" d=\"M66.7559 343.492 Q70.1124 344.209 71.9874 346.478 Q73.8855 348.746 73.8855 352.08 Q73.8855 357.195 70.367 359.996 Q66.8485 362.797 60.3671 362.797 Q58.1912 362.797 55.8764 362.357 Q53.5847 361.941 51.131 361.084 L51.131 356.57 Q53.0754 357.705 55.3903 358.283 Q57.7051 358.862 60.2282 358.862 Q64.6263 358.862 66.918 357.126 Q69.2328 355.39 69.2328 352.08 Q69.2328 349.024 67.08 347.311 Q64.9504 345.575 61.131 345.575 L57.1032 345.575 L57.1032 341.732 L61.3161 341.732 Q64.7652 341.732 66.5939 340.367 Q68.4226 338.978 68.4226 336.385 Q68.4226 333.723 66.5245 332.311 Q64.6495 330.876 61.131 330.876 Q59.2097 330.876 57.0106 331.293 Q54.8115 331.709 52.1727 332.589 L52.1727 328.422 Q54.8347 327.682 57.1495 327.311 Q59.4875 326.941 61.5476 326.941 Q66.8717 326.941 69.9735 329.371 Q73.0753 331.779 73.0753 335.899 Q73.0753 338.77 71.4318 340.76 Q69.7883 342.728 66.7559 343.492 Z\" fill=\"#000000\" fill-rule=\"evenodd\" fill-opacity=\"1\" /><path clip-path=\"url(#clip470)\" d=\"M92.7512 330.645 Q89.1401 330.645 87.3114 334.209 Q85.5058 337.751 85.5058 344.881 Q85.5058 351.987 87.3114 355.552 Q89.1401 359.094 92.7512 359.094 Q96.3854 359.094 98.1909 355.552 Q100.02 351.987 100.02 344.881 Q100.02 337.751 98.1909 334.209 Q96.3854 330.645 92.7512 330.645 M92.7512 326.941 Q98.5613 326.941 101.617 331.547 Q104.696 336.131 104.696 344.881 Q104.696 353.607 101.617 358.214 Q98.5613 362.797 92.7512 362.797 Q86.941 362.797 83.8623 358.214 Q80.8068 353.607 80.8068 344.881 Q80.8068 336.131 83.8623 331.547 Q86.941 326.941 92.7512 326.941 Z\" fill=\"#000000\" fill-rule=\"evenodd\" fill-opacity=\"1\" /><path clip-path=\"url(#clip472)\" d=\"\n",
       "M262.363 87.9763 L262.363 1445.72 L360.799 1445.72 L360.799 87.9763 L262.363 87.9763 L262.363 87.9763  Z\n",
       "  \" fill=\"#009af9\" fill-rule=\"evenodd\" fill-opacity=\"1\"/>\n",
       "<polyline clip-path=\"url(#clip472)\" style=\"stroke:#000000; stroke-linecap:butt; stroke-linejoin:round; stroke-width:4; stroke-opacity:1; fill:none\" points=\"\n",
       "  262.363,87.9763 262.363,1445.72 360.799,1445.72 360.799,87.9763 262.363,87.9763 \n",
       "  \"/>\n",
       "<path clip-path=\"url(#clip472)\" d=\"\n",
       "M360.799 931.976 L360.799 1445.72 L459.235 1445.72 L459.235 931.976 L360.799 931.976 L360.799 931.976  Z\n",
       "  \" fill=\"#009af9\" fill-rule=\"evenodd\" fill-opacity=\"1\"/>\n",
       "<polyline clip-path=\"url(#clip472)\" style=\"stroke:#000000; stroke-linecap:butt; stroke-linejoin:round; stroke-width:4; stroke-opacity:1; fill:none\" points=\"\n",
       "  360.799,931.976 360.799,1445.72 459.235,1445.72 459.235,931.976 360.799,931.976 \n",
       "  \"/>\n",
       "<path clip-path=\"url(#clip472)\" d=\"\n",
       "M459.235 858.585 L459.235 1445.72 L557.672 1445.72 L557.672 858.585 L459.235 858.585 L459.235 858.585  Z\n",
       "  \" fill=\"#009af9\" fill-rule=\"evenodd\" fill-opacity=\"1\"/>\n",
       "<polyline clip-path=\"url(#clip472)\" style=\"stroke:#000000; stroke-linecap:butt; stroke-linejoin:round; stroke-width:4; stroke-opacity:1; fill:none\" points=\"\n",
       "  459.235,858.585 459.235,1445.72 557.672,1445.72 557.672,858.585 459.235,858.585 \n",
       "  \"/>\n",
       "<path clip-path=\"url(#clip472)\" d=\"\n",
       "M557.672 968.672 L557.672 1445.72 L656.108 1445.72 L656.108 968.672 L557.672 968.672 L557.672 968.672  Z\n",
       "  \" fill=\"#009af9\" fill-rule=\"evenodd\" fill-opacity=\"1\"/>\n",
       "<polyline clip-path=\"url(#clip472)\" style=\"stroke:#000000; stroke-linecap:butt; stroke-linejoin:round; stroke-width:4; stroke-opacity:1; fill:none\" points=\"\n",
       "  557.672,968.672 557.672,1445.72 656.108,1445.72 656.108,968.672 557.672,968.672 \n",
       "  \"/>\n",
       "<path clip-path=\"url(#clip472)\" d=\"\n",
       "M656.108 1042.06 L656.108 1445.72 L754.544 1445.72 L754.544 1042.06 L656.108 1042.06 L656.108 1042.06  Z\n",
       "  \" fill=\"#009af9\" fill-rule=\"evenodd\" fill-opacity=\"1\"/>\n",
       "<polyline clip-path=\"url(#clip472)\" style=\"stroke:#000000; stroke-linecap:butt; stroke-linejoin:round; stroke-width:4; stroke-opacity:1; fill:none\" points=\"\n",
       "  656.108,1042.06 656.108,1445.72 754.544,1445.72 754.544,1042.06 656.108,1042.06 \n",
       "  \"/>\n",
       "<path clip-path=\"url(#clip472)\" d=\"\n",
       "M754.544 1078.76 L754.544 1445.72 L852.981 1445.72 L852.981 1078.76 L754.544 1078.76 L754.544 1078.76  Z\n",
       "  \" fill=\"#009af9\" fill-rule=\"evenodd\" fill-opacity=\"1\"/>\n",
       "<polyline clip-path=\"url(#clip472)\" style=\"stroke:#000000; stroke-linecap:butt; stroke-linejoin:round; stroke-width:4; stroke-opacity:1; fill:none\" points=\"\n",
       "  754.544,1078.76 754.544,1445.72 852.981,1445.72 852.981,1078.76 754.544,1078.76 \n",
       "  \"/>\n",
       "<path clip-path=\"url(#clip472)\" d=\"\n",
       "M852.981 931.976 L852.981 1445.72 L951.417 1445.72 L951.417 931.976 L852.981 931.976 L852.981 931.976  Z\n",
       "  \" fill=\"#009af9\" fill-rule=\"evenodd\" fill-opacity=\"1\"/>\n",
       "<polyline clip-path=\"url(#clip472)\" style=\"stroke:#000000; stroke-linecap:butt; stroke-linejoin:round; stroke-width:4; stroke-opacity:1; fill:none\" points=\"\n",
       "  852.981,931.976 852.981,1445.72 951.417,1445.72 951.417,931.976 852.981,931.976 \n",
       "  \"/>\n",
       "<path clip-path=\"url(#clip472)\" d=\"\n",
       "M951.417 1078.76 L951.417 1445.72 L1049.85 1445.72 L1049.85 1078.76 L951.417 1078.76 L951.417 1078.76  Z\n",
       "  \" fill=\"#009af9\" fill-rule=\"evenodd\" fill-opacity=\"1\"/>\n",
       "<polyline clip-path=\"url(#clip472)\" style=\"stroke:#000000; stroke-linecap:butt; stroke-linejoin:round; stroke-width:4; stroke-opacity:1; fill:none\" points=\"\n",
       "  951.417,1078.76 951.417,1445.72 1049.85,1445.72 1049.85,1078.76 951.417,1078.76 \n",
       "  \"/>\n",
       "<path clip-path=\"url(#clip472)\" d=\"\n",
       "M1049.85 1115.45 L1049.85 1445.72 L1148.29 1445.72 L1148.29 1115.45 L1049.85 1115.45 L1049.85 1115.45  Z\n",
       "  \" fill=\"#009af9\" fill-rule=\"evenodd\" fill-opacity=\"1\"/>\n",
       "<polyline clip-path=\"url(#clip472)\" style=\"stroke:#000000; stroke-linecap:butt; stroke-linejoin:round; stroke-width:4; stroke-opacity:1; fill:none\" points=\"\n",
       "  1049.85,1115.45 1049.85,1445.72 1148.29,1445.72 1148.29,1115.45 1049.85,1115.45 \n",
       "  \"/>\n",
       "<path clip-path=\"url(#clip472)\" d=\"\n",
       "M1148.29 1372.32 L1148.29 1445.72 L1246.73 1445.72 L1246.73 1372.32 L1148.29 1372.32 L1148.29 1372.32  Z\n",
       "  \" fill=\"#009af9\" fill-rule=\"evenodd\" fill-opacity=\"1\"/>\n",
       "<polyline clip-path=\"url(#clip472)\" style=\"stroke:#000000; stroke-linecap:butt; stroke-linejoin:round; stroke-width:4; stroke-opacity:1; fill:none\" points=\"\n",
       "  1148.29,1372.32 1148.29,1445.72 1246.73,1445.72 1246.73,1372.32 1148.29,1372.32 \n",
       "  \"/>\n",
       "<path clip-path=\"url(#clip472)\" d=\"\n",
       "M1246.73 1188.85 L1246.73 1445.72 L1345.16 1445.72 L1345.16 1188.85 L1246.73 1188.85 L1246.73 1188.85  Z\n",
       "  \" fill=\"#009af9\" fill-rule=\"evenodd\" fill-opacity=\"1\"/>\n",
       "<polyline clip-path=\"url(#clip472)\" style=\"stroke:#000000; stroke-linecap:butt; stroke-linejoin:round; stroke-width:4; stroke-opacity:1; fill:none\" points=\"\n",
       "  1246.73,1188.85 1246.73,1445.72 1345.16,1445.72 1345.16,1188.85 1246.73,1188.85 \n",
       "  \"/>\n",
       "<path clip-path=\"url(#clip472)\" d=\"\n",
       "M1345.16 1225.54 L1345.16 1445.72 L1443.6 1445.72 L1443.6 1225.54 L1345.16 1225.54 L1345.16 1225.54  Z\n",
       "  \" fill=\"#009af9\" fill-rule=\"evenodd\" fill-opacity=\"1\"/>\n",
       "<polyline clip-path=\"url(#clip472)\" style=\"stroke:#000000; stroke-linecap:butt; stroke-linejoin:round; stroke-width:4; stroke-opacity:1; fill:none\" points=\"\n",
       "  1345.16,1225.54 1345.16,1445.72 1443.6,1445.72 1443.6,1225.54 1345.16,1225.54 \n",
       "  \"/>\n",
       "<path clip-path=\"url(#clip472)\" d=\"\n",
       "M1443.6 1225.54 L1443.6 1445.72 L1542.03 1445.72 L1542.03 1225.54 L1443.6 1225.54 L1443.6 1225.54  Z\n",
       "  \" fill=\"#009af9\" fill-rule=\"evenodd\" fill-opacity=\"1\"/>\n",
       "<polyline clip-path=\"url(#clip472)\" style=\"stroke:#000000; stroke-linecap:butt; stroke-linejoin:round; stroke-width:4; stroke-opacity:1; fill:none\" points=\"\n",
       "  1443.6,1225.54 1443.6,1445.72 1542.03,1445.72 1542.03,1225.54 1443.6,1225.54 \n",
       "  \"/>\n",
       "<path clip-path=\"url(#clip472)\" d=\"\n",
       "M1542.03 1262.24 L1542.03 1445.72 L1640.47 1445.72 L1640.47 1262.24 L1542.03 1262.24 L1542.03 1262.24  Z\n",
       "  \" fill=\"#009af9\" fill-rule=\"evenodd\" fill-opacity=\"1\"/>\n",
       "<polyline clip-path=\"url(#clip472)\" style=\"stroke:#000000; stroke-linecap:butt; stroke-linejoin:round; stroke-width:4; stroke-opacity:1; fill:none\" points=\"\n",
       "  1542.03,1262.24 1542.03,1445.72 1640.47,1445.72 1640.47,1262.24 1542.03,1262.24 \n",
       "  \"/>\n",
       "<path clip-path=\"url(#clip472)\" d=\"\n",
       "M1640.47 1372.32 L1640.47 1445.72 L1738.91 1445.72 L1738.91 1372.32 L1640.47 1372.32 L1640.47 1372.32  Z\n",
       "  \" fill=\"#009af9\" fill-rule=\"evenodd\" fill-opacity=\"1\"/>\n",
       "<polyline clip-path=\"url(#clip472)\" style=\"stroke:#000000; stroke-linecap:butt; stroke-linejoin:round; stroke-width:4; stroke-opacity:1; fill:none\" points=\"\n",
       "  1640.47,1372.32 1640.47,1445.72 1738.91,1445.72 1738.91,1372.32 1640.47,1372.32 \n",
       "  \"/>\n",
       "<path clip-path=\"url(#clip472)\" d=\"\n",
       "M1738.91 1262.24 L1738.91 1445.72 L1837.34 1445.72 L1837.34 1262.24 L1738.91 1262.24 L1738.91 1262.24  Z\n",
       "  \" fill=\"#009af9\" fill-rule=\"evenodd\" fill-opacity=\"1\"/>\n",
       "<polyline clip-path=\"url(#clip472)\" style=\"stroke:#000000; stroke-linecap:butt; stroke-linejoin:round; stroke-width:4; stroke-opacity:1; fill:none\" points=\"\n",
       "  1738.91,1262.24 1738.91,1445.72 1837.34,1445.72 1837.34,1262.24 1738.91,1262.24 \n",
       "  \"/>\n",
       "<path clip-path=\"url(#clip472)\" d=\"\n",
       "M1837.34 1225.54 L1837.34 1445.72 L1935.78 1445.72 L1935.78 1225.54 L1837.34 1225.54 L1837.34 1225.54  Z\n",
       "  \" fill=\"#009af9\" fill-rule=\"evenodd\" fill-opacity=\"1\"/>\n",
       "<polyline clip-path=\"url(#clip472)\" style=\"stroke:#000000; stroke-linecap:butt; stroke-linejoin:round; stroke-width:4; stroke-opacity:1; fill:none\" points=\"\n",
       "  1837.34,1225.54 1837.34,1445.72 1935.78,1445.72 1935.78,1225.54 1837.34,1225.54 \n",
       "  \"/>\n",
       "<path clip-path=\"url(#clip472)\" d=\"\n",
       "M1935.78 1078.76 L1935.78 1445.72 L2034.22 1445.72 L2034.22 1078.76 L1935.78 1078.76 L1935.78 1078.76  Z\n",
       "  \" fill=\"#009af9\" fill-rule=\"evenodd\" fill-opacity=\"1\"/>\n",
       "<polyline clip-path=\"url(#clip472)\" style=\"stroke:#000000; stroke-linecap:butt; stroke-linejoin:round; stroke-width:4; stroke-opacity:1; fill:none\" points=\"\n",
       "  1935.78,1078.76 1935.78,1445.72 2034.22,1445.72 2034.22,1078.76 1935.78,1078.76 \n",
       "  \"/>\n",
       "<path clip-path=\"url(#clip472)\" d=\"\n",
       "M2034.22 1188.85 L2034.22 1445.72 L2132.65 1445.72 L2132.65 1188.85 L2034.22 1188.85 L2034.22 1188.85  Z\n",
       "  \" fill=\"#009af9\" fill-rule=\"evenodd\" fill-opacity=\"1\"/>\n",
       "<polyline clip-path=\"url(#clip472)\" style=\"stroke:#000000; stroke-linecap:butt; stroke-linejoin:round; stroke-width:4; stroke-opacity:1; fill:none\" points=\"\n",
       "  2034.22,1188.85 2034.22,1445.72 2132.65,1445.72 2132.65,1188.85 2034.22,1188.85 \n",
       "  \"/>\n",
       "<path clip-path=\"url(#clip472)\" d=\"\n",
       "M2132.65 1078.76 L2132.65 1445.72 L2231.09 1445.72 L2231.09 1078.76 L2132.65 1078.76 L2132.65 1078.76  Z\n",
       "  \" fill=\"#009af9\" fill-rule=\"evenodd\" fill-opacity=\"1\"/>\n",
       "<polyline clip-path=\"url(#clip472)\" style=\"stroke:#000000; stroke-linecap:butt; stroke-linejoin:round; stroke-width:4; stroke-opacity:1; fill:none\" points=\"\n",
       "  2132.65,1078.76 2132.65,1445.72 2231.09,1445.72 2231.09,1078.76 2132.65,1078.76 \n",
       "  \"/>\n",
       "<circle clip-path=\"url(#clip472)\" style=\"fill:#009af9; stroke:none; fill-opacity:0\" cx=\"311.581\" cy=\"87.9763\" r=\"2\"/>\n",
       "<circle clip-path=\"url(#clip472)\" style=\"fill:#009af9; stroke:none; fill-opacity:0\" cx=\"410.017\" cy=\"931.976\" r=\"2\"/>\n",
       "<circle clip-path=\"url(#clip472)\" style=\"fill:#009af9; stroke:none; fill-opacity:0\" cx=\"508.454\" cy=\"858.585\" r=\"2\"/>\n",
       "<circle clip-path=\"url(#clip472)\" style=\"fill:#009af9; stroke:none; fill-opacity:0\" cx=\"606.89\" cy=\"968.672\" r=\"2\"/>\n",
       "<circle clip-path=\"url(#clip472)\" style=\"fill:#009af9; stroke:none; fill-opacity:0\" cx=\"705.326\" cy=\"1042.06\" r=\"2\"/>\n",
       "<circle clip-path=\"url(#clip472)\" style=\"fill:#009af9; stroke:none; fill-opacity:0\" cx=\"803.762\" cy=\"1078.76\" r=\"2\"/>\n",
       "<circle clip-path=\"url(#clip472)\" style=\"fill:#009af9; stroke:none; fill-opacity:0\" cx=\"902.199\" cy=\"931.976\" r=\"2\"/>\n",
       "<circle clip-path=\"url(#clip472)\" style=\"fill:#009af9; stroke:none; fill-opacity:0\" cx=\"1000.63\" cy=\"1078.76\" r=\"2\"/>\n",
       "<circle clip-path=\"url(#clip472)\" style=\"fill:#009af9; stroke:none; fill-opacity:0\" cx=\"1099.07\" cy=\"1115.45\" r=\"2\"/>\n",
       "<circle clip-path=\"url(#clip472)\" style=\"fill:#009af9; stroke:none; fill-opacity:0\" cx=\"1197.51\" cy=\"1372.32\" r=\"2\"/>\n",
       "<circle clip-path=\"url(#clip472)\" style=\"fill:#009af9; stroke:none; fill-opacity:0\" cx=\"1295.94\" cy=\"1188.85\" r=\"2\"/>\n",
       "<circle clip-path=\"url(#clip472)\" style=\"fill:#009af9; stroke:none; fill-opacity:0\" cx=\"1394.38\" cy=\"1225.54\" r=\"2\"/>\n",
       "<circle clip-path=\"url(#clip472)\" style=\"fill:#009af9; stroke:none; fill-opacity:0\" cx=\"1492.82\" cy=\"1225.54\" r=\"2\"/>\n",
       "<circle clip-path=\"url(#clip472)\" style=\"fill:#009af9; stroke:none; fill-opacity:0\" cx=\"1591.25\" cy=\"1262.24\" r=\"2\"/>\n",
       "<circle clip-path=\"url(#clip472)\" style=\"fill:#009af9; stroke:none; fill-opacity:0\" cx=\"1689.69\" cy=\"1372.32\" r=\"2\"/>\n",
       "<circle clip-path=\"url(#clip472)\" style=\"fill:#009af9; stroke:none; fill-opacity:0\" cx=\"1788.13\" cy=\"1262.24\" r=\"2\"/>\n",
       "<circle clip-path=\"url(#clip472)\" style=\"fill:#009af9; stroke:none; fill-opacity:0\" cx=\"1886.56\" cy=\"1225.54\" r=\"2\"/>\n",
       "<circle clip-path=\"url(#clip472)\" style=\"fill:#009af9; stroke:none; fill-opacity:0\" cx=\"1985\" cy=\"1078.76\" r=\"2\"/>\n",
       "<circle clip-path=\"url(#clip472)\" style=\"fill:#009af9; stroke:none; fill-opacity:0\" cx=\"2083.43\" cy=\"1188.85\" r=\"2\"/>\n",
       "<circle clip-path=\"url(#clip472)\" style=\"fill:#009af9; stroke:none; fill-opacity:0\" cx=\"2181.87\" cy=\"1078.76\" r=\"2\"/>\n",
       "<path clip-path=\"url(#clip470)\" d=\"\n",
       "M1980.81 198.898 L2279.02 198.898 L2279.02 95.2176 L1980.81 95.2176  Z\n",
       "  \" fill=\"#ffffff\" fill-rule=\"evenodd\" fill-opacity=\"1\"/>\n",
       "<polyline clip-path=\"url(#clip470)\" style=\"stroke:#000000; stroke-linecap:butt; stroke-linejoin:round; stroke-width:4; stroke-opacity:1; fill:none\" points=\"\n",
       "  1980.81,198.898 2279.02,198.898 2279.02,95.2176 1980.81,95.2176 1980.81,198.898 \n",
       "  \"/>\n",
       "<path clip-path=\"url(#clip470)\" d=\"\n",
       "M2005.38 167.794 L2152.85 167.794 L2152.85 126.322 L2005.38 126.322 L2005.38 167.794  Z\n",
       "  \" fill=\"#009af9\" fill-rule=\"evenodd\" fill-opacity=\"1\"/>\n",
       "<polyline clip-path=\"url(#clip470)\" style=\"stroke:#000000; stroke-linecap:butt; stroke-linejoin:round; stroke-width:4; stroke-opacity:1; fill:none\" points=\"\n",
       "  2005.38,167.794 2152.85,167.794 2152.85,126.322 2005.38,126.322 2005.38,167.794 \n",
       "  \"/>\n",
       "<path clip-path=\"url(#clip470)\" d=\"M2191.28 166.745 Q2189.47 171.375 2187.76 172.787 Q2186.04 174.199 2183.17 174.199 L2179.77 174.199 L2179.77 170.634 L2182.27 170.634 Q2184.03 170.634 2185 169.8 Q2185.98 168.967 2187.16 165.865 L2187.92 163.921 L2177.43 138.412 L2181.95 138.412 L2190.05 158.689 L2198.15 138.412 L2202.66 138.412 L2191.28 166.745 Z\" fill=\"#000000\" fill-rule=\"evenodd\" fill-opacity=\"1\" /><path clip-path=\"url(#clip470)\" d=\"M2209.96 160.402 L2217.6 160.402 L2217.6 134.037 L2209.29 135.703 L2209.29 131.444 L2217.55 129.778 L2222.22 129.778 L2222.22 160.402 L2229.86 160.402 L2229.86 164.338 L2209.96 164.338 L2209.96 160.402 Z\" fill=\"#000000\" fill-rule=\"evenodd\" fill-opacity=\"1\" /></svg>\n"
      ]
     },
     "execution_count": 180,
     "metadata": {},
     "output_type": "execute_result"
    }
   ],
   "source": [
    "histogram(Pv0,bins=0:0.05:1.0) # ŷ by H0 data using optimal lower bound, h(ξ)"
   ]
  },
  {
   "cell_type": "code",
   "execution_count": 181,
   "id": "13f88c0a-0264-46e1-afce-cd205358ac87",
   "metadata": {},
   "outputs": [
    {
     "data": {
      "image/svg+xml": [
       "<?xml version=\"1.0\" encoding=\"utf-8\"?>\n",
       "<svg xmlns=\"http://www.w3.org/2000/svg\" xmlns:xlink=\"http://www.w3.org/1999/xlink\" width=\"600\" height=\"400\" viewBox=\"0 0 2400 1600\">\n",
       "<defs>\n",
       "  <clipPath id=\"clip510\">\n",
       "    <rect x=\"0\" y=\"0\" width=\"2400\" height=\"1600\"/>\n",
       "  </clipPath>\n",
       "</defs>\n",
       "<path clip-path=\"url(#clip510)\" d=\"\n",
       "M0 1600 L2400 1600 L2400 0 L0 0  Z\n",
       "  \" fill=\"#ffffff\" fill-rule=\"evenodd\" fill-opacity=\"1\"/>\n",
       "<defs>\n",
       "  <clipPath id=\"clip511\">\n",
       "    <rect x=\"480\" y=\"0\" width=\"1681\" height=\"1600\"/>\n",
       "  </clipPath>\n",
       "</defs>\n",
       "<path clip-path=\"url(#clip510)\" d=\"\n",
       "M169.121 1486.45 L2352.76 1486.45 L2352.76 47.2441 L169.121 47.2441  Z\n",
       "  \" fill=\"#ffffff\" fill-rule=\"evenodd\" fill-opacity=\"1\"/>\n",
       "<defs>\n",
       "  <clipPath id=\"clip512\">\n",
       "    <rect x=\"169\" y=\"47\" width=\"2185\" height=\"1440\"/>\n",
       "  </clipPath>\n",
       "</defs>\n",
       "<polyline clip-path=\"url(#clip512)\" style=\"stroke:#000000; stroke-linecap:butt; stroke-linejoin:round; stroke-width:2; stroke-opacity:0.1; fill:none\" points=\"\n",
       "  289.225,1486.45 289.225,47.2441 \n",
       "  \"/>\n",
       "<polyline clip-path=\"url(#clip512)\" style=\"stroke:#000000; stroke-linecap:butt; stroke-linejoin:round; stroke-width:2; stroke-opacity:0.1; fill:none\" points=\"\n",
       "  775.082,1486.45 775.082,47.2441 \n",
       "  \"/>\n",
       "<polyline clip-path=\"url(#clip512)\" style=\"stroke:#000000; stroke-linecap:butt; stroke-linejoin:round; stroke-width:2; stroke-opacity:0.1; fill:none\" points=\"\n",
       "  1260.94,1486.45 1260.94,47.2441 \n",
       "  \"/>\n",
       "<polyline clip-path=\"url(#clip512)\" style=\"stroke:#000000; stroke-linecap:butt; stroke-linejoin:round; stroke-width:2; stroke-opacity:0.1; fill:none\" points=\"\n",
       "  1746.8,1486.45 1746.8,47.2441 \n",
       "  \"/>\n",
       "<polyline clip-path=\"url(#clip512)\" style=\"stroke:#000000; stroke-linecap:butt; stroke-linejoin:round; stroke-width:2; stroke-opacity:0.1; fill:none\" points=\"\n",
       "  2232.65,1486.45 2232.65,47.2441 \n",
       "  \"/>\n",
       "<polyline clip-path=\"url(#clip510)\" style=\"stroke:#000000; stroke-linecap:butt; stroke-linejoin:round; stroke-width:4; stroke-opacity:1; fill:none\" points=\"\n",
       "  169.121,1486.45 2352.76,1486.45 \n",
       "  \"/>\n",
       "<polyline clip-path=\"url(#clip510)\" style=\"stroke:#000000; stroke-linecap:butt; stroke-linejoin:round; stroke-width:4; stroke-opacity:1; fill:none\" points=\"\n",
       "  289.225,1486.45 289.225,1467.55 \n",
       "  \"/>\n",
       "<polyline clip-path=\"url(#clip510)\" style=\"stroke:#000000; stroke-linecap:butt; stroke-linejoin:round; stroke-width:4; stroke-opacity:1; fill:none\" points=\"\n",
       "  775.082,1486.45 775.082,1467.55 \n",
       "  \"/>\n",
       "<polyline clip-path=\"url(#clip510)\" style=\"stroke:#000000; stroke-linecap:butt; stroke-linejoin:round; stroke-width:4; stroke-opacity:1; fill:none\" points=\"\n",
       "  1260.94,1486.45 1260.94,1467.55 \n",
       "  \"/>\n",
       "<polyline clip-path=\"url(#clip510)\" style=\"stroke:#000000; stroke-linecap:butt; stroke-linejoin:round; stroke-width:4; stroke-opacity:1; fill:none\" points=\"\n",
       "  1746.8,1486.45 1746.8,1467.55 \n",
       "  \"/>\n",
       "<polyline clip-path=\"url(#clip510)\" style=\"stroke:#000000; stroke-linecap:butt; stroke-linejoin:round; stroke-width:4; stroke-opacity:1; fill:none\" points=\"\n",
       "  2232.65,1486.45 2232.65,1467.55 \n",
       "  \"/>\n",
       "<path clip-path=\"url(#clip510)\" d=\"M251.529 1517.37 Q247.917 1517.37 246.089 1520.93 Q244.283 1524.47 244.283 1531.6 Q244.283 1538.71 246.089 1542.27 Q247.917 1545.82 251.529 1545.82 Q255.163 1545.82 256.968 1542.27 Q258.797 1538.71 258.797 1531.6 Q258.797 1524.47 256.968 1520.93 Q255.163 1517.37 251.529 1517.37 M251.529 1513.66 Q257.339 1513.66 260.394 1518.27 Q263.473 1522.85 263.473 1531.6 Q263.473 1540.33 260.394 1544.94 Q257.339 1549.52 251.529 1549.52 Q245.718 1549.52 242.64 1544.94 Q239.584 1540.33 239.584 1531.6 Q239.584 1522.85 242.64 1518.27 Q245.718 1513.66 251.529 1513.66 Z\" fill=\"#000000\" fill-rule=\"evenodd\" fill-opacity=\"1\" /><path clip-path=\"url(#clip510)\" d=\"M271.69 1542.97 L276.575 1542.97 L276.575 1548.85 L271.69 1548.85 L271.69 1542.97 Z\" fill=\"#000000\" fill-rule=\"evenodd\" fill-opacity=\"1\" /><path clip-path=\"url(#clip510)\" d=\"M296.76 1517.37 Q293.149 1517.37 291.32 1520.93 Q289.514 1524.47 289.514 1531.6 Q289.514 1538.71 291.32 1542.27 Q293.149 1545.82 296.76 1545.82 Q300.394 1545.82 302.2 1542.27 Q304.028 1538.71 304.028 1531.6 Q304.028 1524.47 302.2 1520.93 Q300.394 1517.37 296.76 1517.37 M296.76 1513.66 Q302.57 1513.66 305.625 1518.27 Q308.704 1522.85 308.704 1531.6 Q308.704 1540.33 305.625 1544.94 Q302.57 1549.52 296.76 1549.52 Q290.95 1549.52 287.871 1544.94 Q284.815 1540.33 284.815 1531.6 Q284.815 1522.85 287.871 1518.27 Q290.95 1513.66 296.76 1513.66 Z\" fill=\"#000000\" fill-rule=\"evenodd\" fill-opacity=\"1\" /><path clip-path=\"url(#clip510)\" d=\"M326.922 1517.37 Q323.311 1517.37 321.482 1520.93 Q319.676 1524.47 319.676 1531.6 Q319.676 1538.71 321.482 1542.27 Q323.311 1545.82 326.922 1545.82 Q330.556 1545.82 332.361 1542.27 Q334.19 1538.71 334.19 1531.6 Q334.19 1524.47 332.361 1520.93 Q330.556 1517.37 326.922 1517.37 M326.922 1513.66 Q332.732 1513.66 335.787 1518.27 Q338.866 1522.85 338.866 1531.6 Q338.866 1540.33 335.787 1544.94 Q332.732 1549.52 326.922 1549.52 Q321.112 1549.52 318.033 1544.94 Q314.977 1540.33 314.977 1531.6 Q314.977 1522.85 318.033 1518.27 Q321.112 1513.66 326.922 1513.66 Z\" fill=\"#000000\" fill-rule=\"evenodd\" fill-opacity=\"1\" /><path clip-path=\"url(#clip510)\" d=\"M737.883 1517.37 Q734.272 1517.37 732.443 1520.93 Q730.638 1524.47 730.638 1531.6 Q730.638 1538.71 732.443 1542.27 Q734.272 1545.82 737.883 1545.82 Q741.517 1545.82 743.323 1542.27 Q745.151 1538.71 745.151 1531.6 Q745.151 1524.47 743.323 1520.93 Q741.517 1517.37 737.883 1517.37 M737.883 1513.66 Q743.693 1513.66 746.749 1518.27 Q749.827 1522.85 749.827 1531.6 Q749.827 1540.33 746.749 1544.94 Q743.693 1549.52 737.883 1549.52 Q732.073 1549.52 728.994 1544.94 Q725.939 1540.33 725.939 1531.6 Q725.939 1522.85 728.994 1518.27 Q732.073 1513.66 737.883 1513.66 Z\" fill=\"#000000\" fill-rule=\"evenodd\" fill-opacity=\"1\" /><path clip-path=\"url(#clip510)\" d=\"M758.045 1542.97 L762.929 1542.97 L762.929 1548.85 L758.045 1548.85 L758.045 1542.97 Z\" fill=\"#000000\" fill-rule=\"evenodd\" fill-opacity=\"1\" /><path clip-path=\"url(#clip510)\" d=\"M777.142 1544.91 L793.461 1544.91 L793.461 1548.85 L771.517 1548.85 L771.517 1544.91 Q774.179 1542.16 778.762 1537.53 Q783.369 1532.88 784.549 1531.53 Q786.795 1529.01 787.674 1527.27 Q788.577 1525.51 788.577 1523.82 Q788.577 1521.07 786.633 1519.33 Q784.711 1517.6 781.61 1517.6 Q779.411 1517.6 776.957 1518.36 Q774.526 1519.13 771.749 1520.68 L771.749 1515.95 Q774.573 1514.82 777.026 1514.24 Q779.48 1513.66 781.517 1513.66 Q786.887 1513.66 790.082 1516.35 Q793.276 1519.03 793.276 1523.52 Q793.276 1525.65 792.466 1527.57 Q791.679 1529.47 789.573 1532.07 Q788.994 1532.74 785.892 1535.95 Q782.79 1539.15 777.142 1544.91 Z\" fill=\"#000000\" fill-rule=\"evenodd\" fill-opacity=\"1\" /><path clip-path=\"url(#clip510)\" d=\"M803.322 1514.29 L821.679 1514.29 L821.679 1518.22 L807.605 1518.22 L807.605 1526.7 Q808.623 1526.35 809.642 1526.19 Q810.66 1526 811.679 1526 Q817.466 1526 820.846 1529.17 Q824.225 1532.34 824.225 1537.76 Q824.225 1543.34 820.753 1546.44 Q817.281 1549.52 810.961 1549.52 Q808.785 1549.52 806.517 1549.15 Q804.272 1548.78 801.864 1548.04 L801.864 1543.34 Q803.947 1544.47 806.17 1545.03 Q808.392 1545.58 810.869 1545.58 Q814.873 1545.58 817.211 1543.48 Q819.549 1541.37 819.549 1537.76 Q819.549 1534.15 817.211 1532.04 Q814.873 1529.94 810.869 1529.94 Q808.994 1529.94 807.119 1530.35 Q805.267 1530.77 803.322 1531.65 L803.322 1514.29 Z\" fill=\"#000000\" fill-rule=\"evenodd\" fill-opacity=\"1\" /><path clip-path=\"url(#clip510)\" d=\"M1223.24 1517.37 Q1219.63 1517.37 1217.8 1520.93 Q1216 1524.47 1216 1531.6 Q1216 1538.71 1217.8 1542.27 Q1219.63 1545.82 1223.24 1545.82 Q1226.88 1545.82 1228.68 1542.27 Q1230.51 1538.71 1230.51 1531.6 Q1230.51 1524.47 1228.68 1520.93 Q1226.88 1517.37 1223.24 1517.37 M1223.24 1513.66 Q1229.05 1513.66 1232.11 1518.27 Q1235.19 1522.85 1235.19 1531.6 Q1235.19 1540.33 1232.11 1544.94 Q1229.05 1549.52 1223.24 1549.52 Q1217.43 1549.52 1214.35 1544.94 Q1211.3 1540.33 1211.3 1531.6 Q1211.3 1522.85 1214.35 1518.27 Q1217.43 1513.66 1223.24 1513.66 Z\" fill=\"#000000\" fill-rule=\"evenodd\" fill-opacity=\"1\" /><path clip-path=\"url(#clip510)\" d=\"M1243.4 1542.97 L1248.29 1542.97 L1248.29 1548.85 L1243.4 1548.85 L1243.4 1542.97 Z\" fill=\"#000000\" fill-rule=\"evenodd\" fill-opacity=\"1\" /><path clip-path=\"url(#clip510)\" d=\"M1258.52 1514.29 L1276.88 1514.29 L1276.88 1518.22 L1262.8 1518.22 L1262.8 1526.7 Q1263.82 1526.35 1264.84 1526.19 Q1265.86 1526 1266.88 1526 Q1272.66 1526 1276.04 1529.17 Q1279.42 1532.34 1279.42 1537.76 Q1279.42 1543.34 1275.95 1546.44 Q1272.48 1549.52 1266.16 1549.52 Q1263.98 1549.52 1261.71 1549.15 Q1259.47 1548.78 1257.06 1548.04 L1257.06 1543.34 Q1259.14 1544.47 1261.37 1545.03 Q1263.59 1545.58 1266.07 1545.58 Q1270.07 1545.58 1272.41 1543.48 Q1274.75 1541.37 1274.75 1537.76 Q1274.75 1534.15 1272.41 1532.04 Q1270.07 1529.94 1266.07 1529.94 Q1264.19 1529.94 1262.32 1530.35 Q1260.46 1530.77 1258.52 1531.65 L1258.52 1514.29 Z\" fill=\"#000000\" fill-rule=\"evenodd\" fill-opacity=\"1\" /><path clip-path=\"url(#clip510)\" d=\"M1298.64 1517.37 Q1295.02 1517.37 1293.2 1520.93 Q1291.39 1524.47 1291.39 1531.6 Q1291.39 1538.71 1293.2 1542.27 Q1295.02 1545.82 1298.64 1545.82 Q1302.27 1545.82 1304.07 1542.27 Q1305.9 1538.71 1305.9 1531.6 Q1305.9 1524.47 1304.07 1520.93 Q1302.27 1517.37 1298.64 1517.37 M1298.64 1513.66 Q1304.45 1513.66 1307.5 1518.27 Q1310.58 1522.85 1310.58 1531.6 Q1310.58 1540.33 1307.5 1544.94 Q1304.45 1549.52 1298.64 1549.52 Q1292.83 1549.52 1289.75 1544.94 Q1286.69 1540.33 1286.69 1531.6 Q1286.69 1522.85 1289.75 1518.27 Q1292.83 1513.66 1298.64 1513.66 Z\" fill=\"#000000\" fill-rule=\"evenodd\" fill-opacity=\"1\" /><path clip-path=\"url(#clip510)\" d=\"M1709.6 1517.37 Q1705.99 1517.37 1704.16 1520.93 Q1702.35 1524.47 1702.35 1531.6 Q1702.35 1538.71 1704.16 1542.27 Q1705.99 1545.82 1709.6 1545.82 Q1713.23 1545.82 1715.04 1542.27 Q1716.86 1538.71 1716.86 1531.6 Q1716.86 1524.47 1715.04 1520.93 Q1713.23 1517.37 1709.6 1517.37 M1709.6 1513.66 Q1715.41 1513.66 1718.46 1518.27 Q1721.54 1522.85 1721.54 1531.6 Q1721.54 1540.33 1718.46 1544.94 Q1715.41 1549.52 1709.6 1549.52 Q1703.79 1549.52 1700.71 1544.94 Q1697.65 1540.33 1697.65 1531.6 Q1697.65 1522.85 1700.71 1518.27 Q1703.79 1513.66 1709.6 1513.66 Z\" fill=\"#000000\" fill-rule=\"evenodd\" fill-opacity=\"1\" /><path clip-path=\"url(#clip510)\" d=\"M1729.76 1542.97 L1734.64 1542.97 L1734.64 1548.85 L1729.76 1548.85 L1729.76 1542.97 Z\" fill=\"#000000\" fill-rule=\"evenodd\" fill-opacity=\"1\" /><path clip-path=\"url(#clip510)\" d=\"M1743.65 1514.29 L1765.87 1514.29 L1765.87 1516.28 L1753.32 1548.85 L1748.44 1548.85 L1760.24 1518.22 L1743.65 1518.22 L1743.65 1514.29 Z\" fill=\"#000000\" fill-rule=\"evenodd\" fill-opacity=\"1\" /><path clip-path=\"url(#clip510)\" d=\"M1775.04 1514.29 L1793.39 1514.29 L1793.39 1518.22 L1779.32 1518.22 L1779.32 1526.7 Q1780.34 1526.35 1781.36 1526.19 Q1782.37 1526 1783.39 1526 Q1789.18 1526 1792.56 1529.17 Q1795.94 1532.34 1795.94 1537.76 Q1795.94 1543.34 1792.47 1546.44 Q1788.99 1549.52 1782.67 1549.52 Q1780.5 1549.52 1778.23 1549.15 Q1775.99 1548.78 1773.58 1548.04 L1773.58 1543.34 Q1775.66 1544.47 1777.88 1545.03 Q1780.11 1545.58 1782.58 1545.58 Q1786.59 1545.58 1788.92 1543.48 Q1791.26 1541.37 1791.26 1537.76 Q1791.26 1534.15 1788.92 1532.04 Q1786.59 1529.94 1782.58 1529.94 Q1780.71 1529.94 1778.83 1530.35 Q1776.98 1530.77 1775.04 1531.65 L1775.04 1514.29 Z\" fill=\"#000000\" fill-rule=\"evenodd\" fill-opacity=\"1\" /><path clip-path=\"url(#clip510)\" d=\"M2184.72 1544.91 L2192.36 1544.91 L2192.36 1518.55 L2184.05 1520.21 L2184.05 1515.95 L2192.32 1514.29 L2196.99 1514.29 L2196.99 1544.91 L2204.63 1544.91 L2204.63 1548.85 L2184.72 1548.85 L2184.72 1544.91 Z\" fill=\"#000000\" fill-rule=\"evenodd\" fill-opacity=\"1\" /><path clip-path=\"url(#clip510)\" d=\"M2214.08 1542.97 L2218.96 1542.97 L2218.96 1548.85 L2214.08 1548.85 L2214.08 1542.97 Z\" fill=\"#000000\" fill-rule=\"evenodd\" fill-opacity=\"1\" /><path clip-path=\"url(#clip510)\" d=\"M2239.15 1517.37 Q2235.53 1517.37 2233.71 1520.93 Q2231.9 1524.47 2231.9 1531.6 Q2231.9 1538.71 2233.71 1542.27 Q2235.53 1545.82 2239.15 1545.82 Q2242.78 1545.82 2244.58 1542.27 Q2246.41 1538.71 2246.41 1531.6 Q2246.41 1524.47 2244.58 1520.93 Q2242.78 1517.37 2239.15 1517.37 M2239.15 1513.66 Q2244.96 1513.66 2248.01 1518.27 Q2251.09 1522.85 2251.09 1531.6 Q2251.09 1540.33 2248.01 1544.94 Q2244.96 1549.52 2239.15 1549.52 Q2233.33 1549.52 2230.26 1544.94 Q2227.2 1540.33 2227.2 1531.6 Q2227.2 1522.85 2230.26 1518.27 Q2233.33 1513.66 2239.15 1513.66 Z\" fill=\"#000000\" fill-rule=\"evenodd\" fill-opacity=\"1\" /><path clip-path=\"url(#clip510)\" d=\"M2269.31 1517.37 Q2265.7 1517.37 2263.87 1520.93 Q2262.06 1524.47 2262.06 1531.6 Q2262.06 1538.71 2263.87 1542.27 Q2265.7 1545.82 2269.31 1545.82 Q2272.94 1545.82 2274.75 1542.27 Q2276.58 1538.71 2276.58 1531.6 Q2276.58 1524.47 2274.75 1520.93 Q2272.94 1517.37 2269.31 1517.37 M2269.31 1513.66 Q2275.12 1513.66 2278.17 1518.27 Q2281.25 1522.85 2281.25 1531.6 Q2281.25 1540.33 2278.17 1544.94 Q2275.12 1549.52 2269.31 1549.52 Q2263.5 1549.52 2260.42 1544.94 Q2257.36 1540.33 2257.36 1531.6 Q2257.36 1522.85 2260.42 1518.27 Q2263.5 1513.66 2269.31 1513.66 Z\" fill=\"#000000\" fill-rule=\"evenodd\" fill-opacity=\"1\" /><polyline clip-path=\"url(#clip512)\" style=\"stroke:#000000; stroke-linecap:butt; stroke-linejoin:round; stroke-width:2; stroke-opacity:0.1; fill:none\" points=\"\n",
       "  169.121,1445.72 2352.76,1445.72 \n",
       "  \"/>\n",
       "<polyline clip-path=\"url(#clip512)\" style=\"stroke:#000000; stroke-linecap:butt; stroke-linejoin:round; stroke-width:2; stroke-opacity:0.1; fill:none\" points=\"\n",
       "  169.121,1116.17 2352.76,1116.17 \n",
       "  \"/>\n",
       "<polyline clip-path=\"url(#clip512)\" style=\"stroke:#000000; stroke-linecap:butt; stroke-linejoin:round; stroke-width:2; stroke-opacity:0.1; fill:none\" points=\"\n",
       "  169.121,786.619 2352.76,786.619 \n",
       "  \"/>\n",
       "<polyline clip-path=\"url(#clip512)\" style=\"stroke:#000000; stroke-linecap:butt; stroke-linejoin:round; stroke-width:2; stroke-opacity:0.1; fill:none\" points=\"\n",
       "  169.121,457.07 2352.76,457.07 \n",
       "  \"/>\n",
       "<polyline clip-path=\"url(#clip512)\" style=\"stroke:#000000; stroke-linecap:butt; stroke-linejoin:round; stroke-width:2; stroke-opacity:0.1; fill:none\" points=\"\n",
       "  169.121,127.522 2352.76,127.522 \n",
       "  \"/>\n",
       "<polyline clip-path=\"url(#clip510)\" style=\"stroke:#000000; stroke-linecap:butt; stroke-linejoin:round; stroke-width:4; stroke-opacity:1; fill:none\" points=\"\n",
       "  169.121,1486.45 169.121,47.2441 \n",
       "  \"/>\n",
       "<polyline clip-path=\"url(#clip510)\" style=\"stroke:#000000; stroke-linecap:butt; stroke-linejoin:round; stroke-width:4; stroke-opacity:1; fill:none\" points=\"\n",
       "  169.121,1445.72 188.019,1445.72 \n",
       "  \"/>\n",
       "<polyline clip-path=\"url(#clip510)\" style=\"stroke:#000000; stroke-linecap:butt; stroke-linejoin:round; stroke-width:4; stroke-opacity:1; fill:none\" points=\"\n",
       "  169.121,1116.17 188.019,1116.17 \n",
       "  \"/>\n",
       "<polyline clip-path=\"url(#clip510)\" style=\"stroke:#000000; stroke-linecap:butt; stroke-linejoin:round; stroke-width:4; stroke-opacity:1; fill:none\" points=\"\n",
       "  169.121,786.619 188.019,786.619 \n",
       "  \"/>\n",
       "<polyline clip-path=\"url(#clip510)\" style=\"stroke:#000000; stroke-linecap:butt; stroke-linejoin:round; stroke-width:4; stroke-opacity:1; fill:none\" points=\"\n",
       "  169.121,457.07 188.019,457.07 \n",
       "  \"/>\n",
       "<polyline clip-path=\"url(#clip510)\" style=\"stroke:#000000; stroke-linecap:butt; stroke-linejoin:round; stroke-width:4; stroke-opacity:1; fill:none\" points=\"\n",
       "  169.121,127.522 188.019,127.522 \n",
       "  \"/>\n",
       "<path clip-path=\"url(#clip510)\" d=\"M121.177 1431.51 Q117.566 1431.51 115.737 1435.08 Q113.932 1438.62 113.932 1445.75 Q113.932 1452.86 115.737 1456.42 Q117.566 1459.96 121.177 1459.96 Q124.811 1459.96 126.617 1456.42 Q128.445 1452.86 128.445 1445.75 Q128.445 1438.62 126.617 1435.08 Q124.811 1431.51 121.177 1431.51 M121.177 1427.81 Q126.987 1427.81 130.043 1432.42 Q133.121 1437 133.121 1445.75 Q133.121 1454.48 130.043 1459.08 Q126.987 1463.67 121.177 1463.67 Q115.367 1463.67 112.288 1459.08 Q109.233 1454.48 109.233 1445.75 Q109.233 1437 112.288 1432.42 Q115.367 1427.81 121.177 1427.81 Z\" fill=\"#000000\" fill-rule=\"evenodd\" fill-opacity=\"1\" /><path clip-path=\"url(#clip510)\" d=\"M86.0382 1129.51 L102.358 1129.51 L102.358 1133.45 L80.4133 1133.45 L80.4133 1129.51 Q83.0753 1126.76 87.6586 1122.13 Q92.2651 1117.48 93.4456 1116.13 Q95.691 1113.61 96.5706 1111.87 Q97.4734 1110.11 97.4734 1108.42 Q97.4734 1105.67 95.5289 1103.93 Q93.6076 1102.2 90.5058 1102.2 Q88.3067 1102.2 85.8531 1102.96 Q83.4225 1103.73 80.6447 1105.28 L80.6447 1100.55 Q83.4688 1099.42 85.9225 1098.84 Q88.3762 1098.26 90.4132 1098.26 Q95.7836 1098.26 98.978 1100.95 Q102.172 1103.63 102.172 1108.12 Q102.172 1110.25 101.362 1112.17 Q100.575 1114.07 98.4687 1116.66 Q97.89 1117.34 94.7882 1120.55 Q91.6864 1123.75 86.0382 1129.51 Z\" fill=\"#000000\" fill-rule=\"evenodd\" fill-opacity=\"1\" /><path clip-path=\"url(#clip510)\" d=\"M112.219 1098.89 L130.575 1098.89 L130.575 1102.82 L116.501 1102.82 L116.501 1111.29 Q117.52 1110.95 118.538 1110.79 Q119.557 1110.6 120.575 1110.6 Q126.362 1110.6 129.742 1113.77 Q133.121 1116.94 133.121 1122.36 Q133.121 1127.94 129.649 1131.04 Q126.177 1134.12 119.857 1134.12 Q117.682 1134.12 115.413 1133.75 Q113.168 1133.38 110.76 1132.64 L110.76 1127.94 Q112.844 1129.07 115.066 1129.63 Q117.288 1130.18 119.765 1130.18 Q123.77 1130.18 126.107 1128.08 Q128.445 1125.97 128.445 1122.36 Q128.445 1118.75 126.107 1116.64 Q123.77 1114.54 119.765 1114.54 Q117.89 1114.54 116.015 1114.95 Q114.163 1115.37 112.219 1116.25 L112.219 1098.89 Z\" fill=\"#000000\" fill-rule=\"evenodd\" fill-opacity=\"1\" /><path clip-path=\"url(#clip510)\" d=\"M81.0614 769.339 L99.4178 769.339 L99.4178 773.274 L85.3438 773.274 L85.3438 781.746 Q86.3623 781.399 87.3808 781.237 Q88.3993 781.052 89.4178 781.052 Q95.2049 781.052 98.5845 784.223 Q101.964 787.394 101.964 792.811 Q101.964 798.39 98.4919 801.491 Q95.0197 804.57 88.7003 804.57 Q86.5243 804.57 84.2558 804.2 Q82.0105 803.829 79.6031 803.089 L79.6031 798.39 Q81.6864 799.524 83.9086 800.079 Q86.1308 800.635 88.6077 800.635 Q92.6123 800.635 94.9502 798.529 Q97.2882 796.422 97.2882 792.811 Q97.2882 789.2 94.9502 787.093 Q92.6123 784.987 88.6077 784.987 Q86.7327 784.987 84.8577 785.404 Q83.0058 785.82 81.0614 786.7 L81.0614 769.339 Z\" fill=\"#000000\" fill-rule=\"evenodd\" fill-opacity=\"1\" /><path clip-path=\"url(#clip510)\" d=\"M121.177 772.418 Q117.566 772.418 115.737 775.982 Q113.932 779.524 113.932 786.654 Q113.932 793.76 115.737 797.325 Q117.566 800.866 121.177 800.866 Q124.811 800.866 126.617 797.325 Q128.445 793.76 128.445 786.654 Q128.445 779.524 126.617 775.982 Q124.811 772.418 121.177 772.418 M121.177 768.714 Q126.987 768.714 130.043 773.32 Q133.121 777.904 133.121 786.654 Q133.121 795.38 130.043 799.987 Q126.987 804.57 121.177 804.57 Q115.367 804.57 112.288 799.987 Q109.233 795.38 109.233 786.654 Q109.233 777.904 112.288 773.32 Q115.367 768.714 121.177 768.714 Z\" fill=\"#000000\" fill-rule=\"evenodd\" fill-opacity=\"1\" /><path clip-path=\"url(#clip510)\" d=\"M80.8299 439.79 L103.052 439.79 L103.052 441.781 L90.5058 474.35 L85.6216 474.35 L97.4271 443.726 L80.8299 443.726 L80.8299 439.79 Z\" fill=\"#000000\" fill-rule=\"evenodd\" fill-opacity=\"1\" /><path clip-path=\"url(#clip510)\" d=\"M112.219 439.79 L130.575 439.79 L130.575 443.726 L116.501 443.726 L116.501 452.198 Q117.52 451.851 118.538 451.689 Q119.557 451.503 120.575 451.503 Q126.362 451.503 129.742 454.675 Q133.121 457.846 133.121 463.263 Q133.121 468.841 129.649 471.943 Q126.177 475.022 119.857 475.022 Q117.682 475.022 115.413 474.651 Q113.168 474.281 110.76 473.54 L110.76 468.841 Q112.844 469.976 115.066 470.531 Q117.288 471.087 119.765 471.087 Q123.77 471.087 126.107 468.98 Q128.445 466.874 128.445 463.263 Q128.445 459.651 126.107 457.545 Q123.77 455.439 119.765 455.439 Q117.89 455.439 116.015 455.855 Q114.163 456.272 112.219 457.152 L112.219 439.79 Z\" fill=\"#000000\" fill-rule=\"evenodd\" fill-opacity=\"1\" /><path clip-path=\"url(#clip510)\" d=\"M51.6634 140.867 L59.3023 140.867 L59.3023 114.501 L50.9921 116.168 L50.9921 111.909 L59.256 110.242 L63.9319 110.242 L63.9319 140.867 L71.5707 140.867 L71.5707 144.802 L51.6634 144.802 L51.6634 140.867 Z\" fill=\"#000000\" fill-rule=\"evenodd\" fill-opacity=\"1\" /><path clip-path=\"url(#clip510)\" d=\"M91.0151 113.321 Q87.404 113.321 85.5753 116.886 Q83.7697 120.427 83.7697 127.557 Q83.7697 134.663 85.5753 138.228 Q87.404 141.77 91.0151 141.77 Q94.6493 141.77 96.4548 138.228 Q98.2835 134.663 98.2835 127.557 Q98.2835 120.427 96.4548 116.886 Q94.6493 113.321 91.0151 113.321 M91.0151 109.617 Q96.8252 109.617 99.8808 114.224 Q102.959 118.807 102.959 127.557 Q102.959 136.284 99.8808 140.89 Q96.8252 145.473 91.0151 145.473 Q85.2049 145.473 82.1262 140.89 Q79.0707 136.284 79.0707 127.557 Q79.0707 118.807 82.1262 114.224 Q85.2049 109.617 91.0151 109.617 Z\" fill=\"#000000\" fill-rule=\"evenodd\" fill-opacity=\"1\" /><path clip-path=\"url(#clip510)\" d=\"M121.177 113.321 Q117.566 113.321 115.737 116.886 Q113.932 120.427 113.932 127.557 Q113.932 134.663 115.737 138.228 Q117.566 141.77 121.177 141.77 Q124.811 141.77 126.617 138.228 Q128.445 134.663 128.445 127.557 Q128.445 120.427 126.617 116.886 Q124.811 113.321 121.177 113.321 M121.177 109.617 Q126.987 109.617 130.043 114.224 Q133.121 118.807 133.121 127.557 Q133.121 136.284 130.043 140.89 Q126.987 145.473 121.177 145.473 Q115.367 145.473 112.288 140.89 Q109.233 136.284 109.233 127.557 Q109.233 118.807 112.288 114.224 Q115.367 109.617 121.177 109.617 Z\" fill=\"#000000\" fill-rule=\"evenodd\" fill-opacity=\"1\" /><path clip-path=\"url(#clip512)\" d=\"\n",
       "M289.225 87.9763 L289.225 1445.72 L386.396 1445.72 L386.396 87.9763 L289.225 87.9763 L289.225 87.9763  Z\n",
       "  \" fill=\"#009af9\" fill-rule=\"evenodd\" fill-opacity=\"1\"/>\n",
       "<polyline clip-path=\"url(#clip512)\" style=\"stroke:#000000; stroke-linecap:butt; stroke-linejoin:round; stroke-width:4; stroke-opacity:1; fill:none\" points=\"\n",
       "  289.225,87.9763 289.225,1445.72 386.396,1445.72 386.396,87.9763 289.225,87.9763 \n",
       "  \"/>\n",
       "<path clip-path=\"url(#clip512)\" d=\"\n",
       "M386.396 1221.62 L386.396 1445.72 L483.568 1445.72 L483.568 1221.62 L386.396 1221.62 L386.396 1221.62  Z\n",
       "  \" fill=\"#009af9\" fill-rule=\"evenodd\" fill-opacity=\"1\"/>\n",
       "<polyline clip-path=\"url(#clip512)\" style=\"stroke:#000000; stroke-linecap:butt; stroke-linejoin:round; stroke-width:4; stroke-opacity:1; fill:none\" points=\"\n",
       "  386.396,1221.62 386.396,1445.72 483.568,1445.72 483.568,1221.62 386.396,1221.62 \n",
       "  \"/>\n",
       "<path clip-path=\"url(#clip512)\" d=\"\n",
       "M483.568 1327.08 L483.568 1445.72 L580.739 1445.72 L580.739 1327.08 L483.568 1327.08 L483.568 1327.08  Z\n",
       "  \" fill=\"#009af9\" fill-rule=\"evenodd\" fill-opacity=\"1\"/>\n",
       "<polyline clip-path=\"url(#clip512)\" style=\"stroke:#000000; stroke-linecap:butt; stroke-linejoin:round; stroke-width:4; stroke-opacity:1; fill:none\" points=\"\n",
       "  483.568,1327.08 483.568,1445.72 580.739,1445.72 580.739,1327.08 483.568,1327.08 \n",
       "  \"/>\n",
       "<path clip-path=\"url(#clip512)\" d=\"\n",
       "M580.739 1287.53 L580.739 1445.72 L677.911 1445.72 L677.911 1287.53 L580.739 1287.53 L580.739 1287.53  Z\n",
       "  \" fill=\"#009af9\" fill-rule=\"evenodd\" fill-opacity=\"1\"/>\n",
       "<polyline clip-path=\"url(#clip512)\" style=\"stroke:#000000; stroke-linecap:butt; stroke-linejoin:round; stroke-width:4; stroke-opacity:1; fill:none\" points=\"\n",
       "  580.739,1287.53 580.739,1445.72 677.911,1445.72 677.911,1287.53 580.739,1287.53 \n",
       "  \"/>\n",
       "<path clip-path=\"url(#clip512)\" d=\"\n",
       "M677.911 1353.44 L677.911 1445.72 L775.082 1445.72 L775.082 1353.44 L677.911 1353.44 L677.911 1353.44  Z\n",
       "  \" fill=\"#009af9\" fill-rule=\"evenodd\" fill-opacity=\"1\"/>\n",
       "<polyline clip-path=\"url(#clip512)\" style=\"stroke:#000000; stroke-linecap:butt; stroke-linejoin:round; stroke-width:4; stroke-opacity:1; fill:none\" points=\"\n",
       "  677.911,1353.44 677.911,1445.72 775.082,1445.72 775.082,1353.44 677.911,1353.44 \n",
       "  \"/>\n",
       "<path clip-path=\"url(#clip512)\" d=\"\n",
       "M775.082 1406.17 L775.082 1445.72 L872.253 1445.72 L872.253 1406.17 L775.082 1406.17 L775.082 1406.17  Z\n",
       "  \" fill=\"#009af9\" fill-rule=\"evenodd\" fill-opacity=\"1\"/>\n",
       "<polyline clip-path=\"url(#clip512)\" style=\"stroke:#000000; stroke-linecap:butt; stroke-linejoin:round; stroke-width:4; stroke-opacity:1; fill:none\" points=\"\n",
       "  775.082,1406.17 775.082,1445.72 872.253,1445.72 872.253,1406.17 775.082,1406.17 \n",
       "  \"/>\n",
       "<path clip-path=\"url(#clip512)\" d=\"\n",
       "M872.253 1353.44 L872.253 1445.72 L969.425 1445.72 L969.425 1353.44 L872.253 1353.44 L872.253 1353.44  Z\n",
       "  \" fill=\"#009af9\" fill-rule=\"evenodd\" fill-opacity=\"1\"/>\n",
       "<polyline clip-path=\"url(#clip512)\" style=\"stroke:#000000; stroke-linecap:butt; stroke-linejoin:round; stroke-width:4; stroke-opacity:1; fill:none\" points=\"\n",
       "  872.253,1353.44 872.253,1445.72 969.425,1445.72 969.425,1353.44 872.253,1353.44 \n",
       "  \"/>\n",
       "<path clip-path=\"url(#clip512)\" d=\"\n",
       "M969.425 1379.81 L969.425 1445.72 L1066.6 1445.72 L1066.6 1379.81 L969.425 1379.81 L969.425 1379.81  Z\n",
       "  \" fill=\"#009af9\" fill-rule=\"evenodd\" fill-opacity=\"1\"/>\n",
       "<polyline clip-path=\"url(#clip512)\" style=\"stroke:#000000; stroke-linecap:butt; stroke-linejoin:round; stroke-width:4; stroke-opacity:1; fill:none\" points=\"\n",
       "  969.425,1379.81 969.425,1445.72 1066.6,1445.72 1066.6,1379.81 969.425,1379.81 \n",
       "  \"/>\n",
       "<path clip-path=\"url(#clip512)\" d=\"\n",
       "M1066.6 1366.62 L1066.6 1445.72 L1163.77 1445.72 L1163.77 1366.62 L1066.6 1366.62 L1066.6 1366.62  Z\n",
       "  \" fill=\"#009af9\" fill-rule=\"evenodd\" fill-opacity=\"1\"/>\n",
       "<polyline clip-path=\"url(#clip512)\" style=\"stroke:#000000; stroke-linecap:butt; stroke-linejoin:round; stroke-width:4; stroke-opacity:1; fill:none\" points=\"\n",
       "  1066.6,1366.62 1066.6,1445.72 1163.77,1445.72 1163.77,1366.62 1066.6,1366.62 \n",
       "  \"/>\n",
       "<path clip-path=\"url(#clip512)\" d=\"\n",
       "M1163.77 1392.99 L1163.77 1445.72 L1260.94 1445.72 L1260.94 1392.99 L1163.77 1392.99 L1163.77 1392.99  Z\n",
       "  \" fill=\"#009af9\" fill-rule=\"evenodd\" fill-opacity=\"1\"/>\n",
       "<polyline clip-path=\"url(#clip512)\" style=\"stroke:#000000; stroke-linecap:butt; stroke-linejoin:round; stroke-width:4; stroke-opacity:1; fill:none\" points=\"\n",
       "  1163.77,1392.99 1163.77,1445.72 1260.94,1445.72 1260.94,1392.99 1163.77,1392.99 \n",
       "  \"/>\n",
       "<path clip-path=\"url(#clip512)\" d=\"\n",
       "M1260.94 1366.62 L1260.94 1445.72 L1358.11 1445.72 L1358.11 1366.62 L1260.94 1366.62 L1260.94 1366.62  Z\n",
       "  \" fill=\"#009af9\" fill-rule=\"evenodd\" fill-opacity=\"1\"/>\n",
       "<polyline clip-path=\"url(#clip512)\" style=\"stroke:#000000; stroke-linecap:butt; stroke-linejoin:round; stroke-width:4; stroke-opacity:1; fill:none\" points=\"\n",
       "  1260.94,1366.62 1260.94,1445.72 1358.11,1445.72 1358.11,1366.62 1260.94,1366.62 \n",
       "  \"/>\n",
       "<path clip-path=\"url(#clip512)\" d=\"\n",
       "M1358.11 1406.17 L1358.11 1445.72 L1455.28 1445.72 L1455.28 1406.17 L1358.11 1406.17 L1358.11 1406.17  Z\n",
       "  \" fill=\"#009af9\" fill-rule=\"evenodd\" fill-opacity=\"1\"/>\n",
       "<polyline clip-path=\"url(#clip512)\" style=\"stroke:#000000; stroke-linecap:butt; stroke-linejoin:round; stroke-width:4; stroke-opacity:1; fill:none\" points=\"\n",
       "  1358.11,1406.17 1358.11,1445.72 1455.28,1445.72 1455.28,1406.17 1358.11,1406.17 \n",
       "  \"/>\n",
       "<path clip-path=\"url(#clip512)\" d=\"\n",
       "M1455.28 1406.17 L1455.28 1445.72 L1552.45 1445.72 L1552.45 1406.17 L1455.28 1406.17 L1455.28 1406.17  Z\n",
       "  \" fill=\"#009af9\" fill-rule=\"evenodd\" fill-opacity=\"1\"/>\n",
       "<polyline clip-path=\"url(#clip512)\" style=\"stroke:#000000; stroke-linecap:butt; stroke-linejoin:round; stroke-width:4; stroke-opacity:1; fill:none\" points=\"\n",
       "  1455.28,1406.17 1455.28,1445.72 1552.45,1445.72 1552.45,1406.17 1455.28,1406.17 \n",
       "  \"/>\n",
       "<path clip-path=\"url(#clip512)\" d=\"\n",
       "M1552.45 1406.17 L1552.45 1445.72 L1649.62 1445.72 L1649.62 1406.17 L1552.45 1406.17 L1552.45 1406.17  Z\n",
       "  \" fill=\"#009af9\" fill-rule=\"evenodd\" fill-opacity=\"1\"/>\n",
       "<polyline clip-path=\"url(#clip512)\" style=\"stroke:#000000; stroke-linecap:butt; stroke-linejoin:round; stroke-width:4; stroke-opacity:1; fill:none\" points=\"\n",
       "  1552.45,1406.17 1552.45,1445.72 1649.62,1445.72 1649.62,1406.17 1552.45,1406.17 \n",
       "  \"/>\n",
       "<path clip-path=\"url(#clip512)\" d=\"\n",
       "M1649.62 1406.17 L1649.62 1445.72 L1746.8 1445.72 L1746.8 1406.17 L1649.62 1406.17 L1649.62 1406.17  Z\n",
       "  \" fill=\"#009af9\" fill-rule=\"evenodd\" fill-opacity=\"1\"/>\n",
       "<polyline clip-path=\"url(#clip512)\" style=\"stroke:#000000; stroke-linecap:butt; stroke-linejoin:round; stroke-width:4; stroke-opacity:1; fill:none\" points=\"\n",
       "  1649.62,1406.17 1649.62,1445.72 1746.8,1445.72 1746.8,1406.17 1649.62,1406.17 \n",
       "  \"/>\n",
       "<path clip-path=\"url(#clip512)\" d=\"\n",
       "M1746.8 1419.35 L1746.8 1445.72 L1843.97 1445.72 L1843.97 1419.35 L1746.8 1419.35 L1746.8 1419.35  Z\n",
       "  \" fill=\"#009af9\" fill-rule=\"evenodd\" fill-opacity=\"1\"/>\n",
       "<polyline clip-path=\"url(#clip512)\" style=\"stroke:#000000; stroke-linecap:butt; stroke-linejoin:round; stroke-width:4; stroke-opacity:1; fill:none\" points=\"\n",
       "  1746.8,1419.35 1746.8,1445.72 1843.97,1445.72 1843.97,1419.35 1746.8,1419.35 \n",
       "  \"/>\n",
       "<path clip-path=\"url(#clip512)\" d=\"\n",
       "M1843.97 1419.35 L1843.97 1445.72 L1941.14 1445.72 L1941.14 1419.35 L1843.97 1419.35 L1843.97 1419.35  Z\n",
       "  \" fill=\"#009af9\" fill-rule=\"evenodd\" fill-opacity=\"1\"/>\n",
       "<polyline clip-path=\"url(#clip512)\" style=\"stroke:#000000; stroke-linecap:butt; stroke-linejoin:round; stroke-width:4; stroke-opacity:1; fill:none\" points=\"\n",
       "  1843.97,1419.35 1843.97,1445.72 1941.14,1445.72 1941.14,1419.35 1843.97,1419.35 \n",
       "  \"/>\n",
       "<path clip-path=\"url(#clip512)\" d=\"\n",
       "M1941.14 1432.53 L1941.14 1445.72 L2038.31 1445.72 L2038.31 1432.53 L1941.14 1432.53 L1941.14 1432.53  Z\n",
       "  \" fill=\"#009af9\" fill-rule=\"evenodd\" fill-opacity=\"1\"/>\n",
       "<polyline clip-path=\"url(#clip512)\" style=\"stroke:#000000; stroke-linecap:butt; stroke-linejoin:round; stroke-width:4; stroke-opacity:1; fill:none\" points=\"\n",
       "  1941.14,1432.53 1941.14,1445.72 2038.31,1445.72 2038.31,1432.53 1941.14,1432.53 \n",
       "  \"/>\n",
       "<path clip-path=\"url(#clip512)\" d=\"\n",
       "M2038.31 1419.35 L2038.31 1445.72 L2135.48 1445.72 L2135.48 1419.35 L2038.31 1419.35 L2038.31 1419.35  Z\n",
       "  \" fill=\"#009af9\" fill-rule=\"evenodd\" fill-opacity=\"1\"/>\n",
       "<polyline clip-path=\"url(#clip512)\" style=\"stroke:#000000; stroke-linecap:butt; stroke-linejoin:round; stroke-width:4; stroke-opacity:1; fill:none\" points=\"\n",
       "  2038.31,1419.35 2038.31,1445.72 2135.48,1445.72 2135.48,1419.35 2038.31,1419.35 \n",
       "  \"/>\n",
       "<path clip-path=\"url(#clip512)\" d=\"\n",
       "M2135.48 1419.35 L2135.48 1445.72 L2232.65 1445.72 L2232.65 1419.35 L2135.48 1419.35 L2135.48 1419.35  Z\n",
       "  \" fill=\"#009af9\" fill-rule=\"evenodd\" fill-opacity=\"1\"/>\n",
       "<polyline clip-path=\"url(#clip512)\" style=\"stroke:#000000; stroke-linecap:butt; stroke-linejoin:round; stroke-width:4; stroke-opacity:1; fill:none\" points=\"\n",
       "  2135.48,1419.35 2135.48,1445.72 2232.65,1445.72 2232.65,1419.35 2135.48,1419.35 \n",
       "  \"/>\n",
       "<circle clip-path=\"url(#clip512)\" style=\"fill:#009af9; stroke:none; fill-opacity:0\" cx=\"337.811\" cy=\"87.9763\" r=\"2\"/>\n",
       "<circle clip-path=\"url(#clip512)\" style=\"fill:#009af9; stroke:none; fill-opacity:0\" cx=\"434.982\" cy=\"1221.62\" r=\"2\"/>\n",
       "<circle clip-path=\"url(#clip512)\" style=\"fill:#009af9; stroke:none; fill-opacity:0\" cx=\"532.153\" cy=\"1327.08\" r=\"2\"/>\n",
       "<circle clip-path=\"url(#clip512)\" style=\"fill:#009af9; stroke:none; fill-opacity:0\" cx=\"629.325\" cy=\"1287.53\" r=\"2\"/>\n",
       "<circle clip-path=\"url(#clip512)\" style=\"fill:#009af9; stroke:none; fill-opacity:0\" cx=\"726.496\" cy=\"1353.44\" r=\"2\"/>\n",
       "<circle clip-path=\"url(#clip512)\" style=\"fill:#009af9; stroke:none; fill-opacity:0\" cx=\"823.668\" cy=\"1406.17\" r=\"2\"/>\n",
       "<circle clip-path=\"url(#clip512)\" style=\"fill:#009af9; stroke:none; fill-opacity:0\" cx=\"920.839\" cy=\"1353.44\" r=\"2\"/>\n",
       "<circle clip-path=\"url(#clip512)\" style=\"fill:#009af9; stroke:none; fill-opacity:0\" cx=\"1018.01\" cy=\"1379.81\" r=\"2\"/>\n",
       "<circle clip-path=\"url(#clip512)\" style=\"fill:#009af9; stroke:none; fill-opacity:0\" cx=\"1115.18\" cy=\"1366.62\" r=\"2\"/>\n",
       "<circle clip-path=\"url(#clip512)\" style=\"fill:#009af9; stroke:none; fill-opacity:0\" cx=\"1212.35\" cy=\"1392.99\" r=\"2\"/>\n",
       "<circle clip-path=\"url(#clip512)\" style=\"fill:#009af9; stroke:none; fill-opacity:0\" cx=\"1309.52\" cy=\"1366.62\" r=\"2\"/>\n",
       "<circle clip-path=\"url(#clip512)\" style=\"fill:#009af9; stroke:none; fill-opacity:0\" cx=\"1406.7\" cy=\"1406.17\" r=\"2\"/>\n",
       "<circle clip-path=\"url(#clip512)\" style=\"fill:#009af9; stroke:none; fill-opacity:0\" cx=\"1503.87\" cy=\"1406.17\" r=\"2\"/>\n",
       "<circle clip-path=\"url(#clip512)\" style=\"fill:#009af9; stroke:none; fill-opacity:0\" cx=\"1601.04\" cy=\"1406.17\" r=\"2\"/>\n",
       "<circle clip-path=\"url(#clip512)\" style=\"fill:#009af9; stroke:none; fill-opacity:0\" cx=\"1698.21\" cy=\"1406.17\" r=\"2\"/>\n",
       "<circle clip-path=\"url(#clip512)\" style=\"fill:#009af9; stroke:none; fill-opacity:0\" cx=\"1795.38\" cy=\"1419.35\" r=\"2\"/>\n",
       "<circle clip-path=\"url(#clip512)\" style=\"fill:#009af9; stroke:none; fill-opacity:0\" cx=\"1892.55\" cy=\"1419.35\" r=\"2\"/>\n",
       "<circle clip-path=\"url(#clip512)\" style=\"fill:#009af9; stroke:none; fill-opacity:0\" cx=\"1989.72\" cy=\"1432.53\" r=\"2\"/>\n",
       "<circle clip-path=\"url(#clip512)\" style=\"fill:#009af9; stroke:none; fill-opacity:0\" cx=\"2086.9\" cy=\"1419.35\" r=\"2\"/>\n",
       "<circle clip-path=\"url(#clip512)\" style=\"fill:#009af9; stroke:none; fill-opacity:0\" cx=\"2184.07\" cy=\"1419.35\" r=\"2\"/>\n",
       "<path clip-path=\"url(#clip510)\" d=\"\n",
       "M1984.91 198.898 L2279.97 198.898 L2279.97 95.2176 L1984.91 95.2176  Z\n",
       "  \" fill=\"#ffffff\" fill-rule=\"evenodd\" fill-opacity=\"1\"/>\n",
       "<polyline clip-path=\"url(#clip510)\" style=\"stroke:#000000; stroke-linecap:butt; stroke-linejoin:round; stroke-width:4; stroke-opacity:1; fill:none\" points=\"\n",
       "  1984.91,198.898 2279.97,198.898 2279.97,95.2176 1984.91,95.2176 1984.91,198.898 \n",
       "  \"/>\n",
       "<path clip-path=\"url(#clip510)\" d=\"\n",
       "M2009.17 167.794 L2154.75 167.794 L2154.75 126.322 L2009.17 126.322 L2009.17 167.794  Z\n",
       "  \" fill=\"#009af9\" fill-rule=\"evenodd\" fill-opacity=\"1\"/>\n",
       "<polyline clip-path=\"url(#clip510)\" style=\"stroke:#000000; stroke-linecap:butt; stroke-linejoin:round; stroke-width:4; stroke-opacity:1; fill:none\" points=\"\n",
       "  2009.17,167.794 2154.75,167.794 2154.75,126.322 2009.17,126.322 2009.17,167.794 \n",
       "  \"/>\n",
       "<path clip-path=\"url(#clip510)\" d=\"M2192.86 166.745 Q2191.05 171.375 2189.34 172.787 Q2187.62 174.199 2184.75 174.199 L2181.35 174.199 L2181.35 170.634 L2183.85 170.634 Q2185.61 170.634 2186.58 169.8 Q2187.55 168.967 2188.73 165.865 L2189.5 163.921 L2179.01 138.412 L2183.53 138.412 L2191.63 158.689 L2199.73 138.412 L2204.24 138.412 L2192.86 166.745 Z\" fill=\"#000000\" fill-rule=\"evenodd\" fill-opacity=\"1\" /><path clip-path=\"url(#clip510)\" d=\"M2211.54 160.402 L2219.17 160.402 L2219.17 134.037 L2210.86 135.703 L2210.86 131.444 L2219.13 129.778 L2223.8 129.778 L2223.8 160.402 L2231.44 160.402 L2231.44 164.338 L2211.54 164.338 L2211.54 160.402 Z\" fill=\"#000000\" fill-rule=\"evenodd\" fill-opacity=\"1\" /></svg>\n"
      ]
     },
     "execution_count": 181,
     "metadata": {},
     "output_type": "execute_result"
    }
   ],
   "source": [
    "histogram(P1,bins=0:0.05:1.0) # ŷ by H1 data"
   ]
  },
  {
   "cell_type": "code",
   "execution_count": 182,
   "id": "24fe34c5-2ce8-448e-a83e-3590d76e11d9",
   "metadata": {},
   "outputs": [
    {
     "data": {
      "image/svg+xml": [
       "<?xml version=\"1.0\" encoding=\"utf-8\"?>\n",
       "<svg xmlns=\"http://www.w3.org/2000/svg\" xmlns:xlink=\"http://www.w3.org/1999/xlink\" width=\"600\" height=\"400\" viewBox=\"0 0 2400 1600\">\n",
       "<defs>\n",
       "  <clipPath id=\"clip550\">\n",
       "    <rect x=\"0\" y=\"0\" width=\"2400\" height=\"1600\"/>\n",
       "  </clipPath>\n",
       "</defs>\n",
       "<path clip-path=\"url(#clip550)\" d=\"\n",
       "M0 1600 L2400 1600 L2400 0 L0 0  Z\n",
       "  \" fill=\"#ffffff\" fill-rule=\"evenodd\" fill-opacity=\"1\"/>\n",
       "<defs>\n",
       "  <clipPath id=\"clip551\">\n",
       "    <rect x=\"480\" y=\"0\" width=\"1681\" height=\"1600\"/>\n",
       "  </clipPath>\n",
       "</defs>\n",
       "<path clip-path=\"url(#clip550)\" d=\"\n",
       "M141.853 1486.45 L2352.76 1486.45 L2352.76 47.2441 L141.853 47.2441  Z\n",
       "  \" fill=\"#ffffff\" fill-rule=\"evenodd\" fill-opacity=\"1\"/>\n",
       "<defs>\n",
       "  <clipPath id=\"clip552\">\n",
       "    <rect x=\"141\" y=\"47\" width=\"2212\" height=\"1440\"/>\n",
       "  </clipPath>\n",
       "</defs>\n",
       "<polyline clip-path=\"url(#clip552)\" style=\"stroke:#000000; stroke-linecap:butt; stroke-linejoin:round; stroke-width:2; stroke-opacity:0.1; fill:none\" points=\"\n",
       "  263.457,1486.45 263.457,47.2441 \n",
       "  \"/>\n",
       "<polyline clip-path=\"url(#clip552)\" style=\"stroke:#000000; stroke-linecap:butt; stroke-linejoin:round; stroke-width:2; stroke-opacity:0.1; fill:none\" points=\"\n",
       "  755.38,1486.45 755.38,47.2441 \n",
       "  \"/>\n",
       "<polyline clip-path=\"url(#clip552)\" style=\"stroke:#000000; stroke-linecap:butt; stroke-linejoin:round; stroke-width:2; stroke-opacity:0.1; fill:none\" points=\"\n",
       "  1247.3,1486.45 1247.3,47.2441 \n",
       "  \"/>\n",
       "<polyline clip-path=\"url(#clip552)\" style=\"stroke:#000000; stroke-linecap:butt; stroke-linejoin:round; stroke-width:2; stroke-opacity:0.1; fill:none\" points=\"\n",
       "  1739.23,1486.45 1739.23,47.2441 \n",
       "  \"/>\n",
       "<polyline clip-path=\"url(#clip552)\" style=\"stroke:#000000; stroke-linecap:butt; stroke-linejoin:round; stroke-width:2; stroke-opacity:0.1; fill:none\" points=\"\n",
       "  2231.15,1486.45 2231.15,47.2441 \n",
       "  \"/>\n",
       "<polyline clip-path=\"url(#clip550)\" style=\"stroke:#000000; stroke-linecap:butt; stroke-linejoin:round; stroke-width:4; stroke-opacity:1; fill:none\" points=\"\n",
       "  141.853,1486.45 2352.76,1486.45 \n",
       "  \"/>\n",
       "<polyline clip-path=\"url(#clip550)\" style=\"stroke:#000000; stroke-linecap:butt; stroke-linejoin:round; stroke-width:4; stroke-opacity:1; fill:none\" points=\"\n",
       "  263.457,1486.45 263.457,1467.55 \n",
       "  \"/>\n",
       "<polyline clip-path=\"url(#clip550)\" style=\"stroke:#000000; stroke-linecap:butt; stroke-linejoin:round; stroke-width:4; stroke-opacity:1; fill:none\" points=\"\n",
       "  755.38,1486.45 755.38,1467.55 \n",
       "  \"/>\n",
       "<polyline clip-path=\"url(#clip550)\" style=\"stroke:#000000; stroke-linecap:butt; stroke-linejoin:round; stroke-width:4; stroke-opacity:1; fill:none\" points=\"\n",
       "  1247.3,1486.45 1247.3,1467.55 \n",
       "  \"/>\n",
       "<polyline clip-path=\"url(#clip550)\" style=\"stroke:#000000; stroke-linecap:butt; stroke-linejoin:round; stroke-width:4; stroke-opacity:1; fill:none\" points=\"\n",
       "  1739.23,1486.45 1739.23,1467.55 \n",
       "  \"/>\n",
       "<polyline clip-path=\"url(#clip550)\" style=\"stroke:#000000; stroke-linecap:butt; stroke-linejoin:round; stroke-width:4; stroke-opacity:1; fill:none\" points=\"\n",
       "  2231.15,1486.45 2231.15,1467.55 \n",
       "  \"/>\n",
       "<path clip-path=\"url(#clip550)\" d=\"M225.76 1517.37 Q222.149 1517.37 220.32 1520.93 Q218.515 1524.47 218.515 1531.6 Q218.515 1538.71 220.32 1542.27 Q222.149 1545.82 225.76 1545.82 Q229.394 1545.82 231.2 1542.27 Q233.028 1538.71 233.028 1531.6 Q233.028 1524.47 231.2 1520.93 Q229.394 1517.37 225.76 1517.37 M225.76 1513.66 Q231.57 1513.66 234.626 1518.27 Q237.704 1522.85 237.704 1531.6 Q237.704 1540.33 234.626 1544.94 Q231.57 1549.52 225.76 1549.52 Q219.95 1549.52 216.871 1544.94 Q213.816 1540.33 213.816 1531.6 Q213.816 1522.85 216.871 1518.27 Q219.95 1513.66 225.76 1513.66 Z\" fill=\"#000000\" fill-rule=\"evenodd\" fill-opacity=\"1\" /><path clip-path=\"url(#clip550)\" d=\"M245.922 1542.97 L250.806 1542.97 L250.806 1548.85 L245.922 1548.85 L245.922 1542.97 Z\" fill=\"#000000\" fill-rule=\"evenodd\" fill-opacity=\"1\" /><path clip-path=\"url(#clip550)\" d=\"M270.991 1517.37 Q267.38 1517.37 265.551 1520.93 Q263.746 1524.47 263.746 1531.6 Q263.746 1538.71 265.551 1542.27 Q267.38 1545.82 270.991 1545.82 Q274.625 1545.82 276.431 1542.27 Q278.26 1538.71 278.26 1531.6 Q278.26 1524.47 276.431 1520.93 Q274.625 1517.37 270.991 1517.37 M270.991 1513.66 Q276.801 1513.66 279.857 1518.27 Q282.936 1522.85 282.936 1531.6 Q282.936 1540.33 279.857 1544.94 Q276.801 1549.52 270.991 1549.52 Q265.181 1549.52 262.102 1544.94 Q259.047 1540.33 259.047 1531.6 Q259.047 1522.85 262.102 1518.27 Q265.181 1513.66 270.991 1513.66 Z\" fill=\"#000000\" fill-rule=\"evenodd\" fill-opacity=\"1\" /><path clip-path=\"url(#clip550)\" d=\"M301.153 1517.37 Q297.542 1517.37 295.713 1520.93 Q293.908 1524.47 293.908 1531.6 Q293.908 1538.71 295.713 1542.27 Q297.542 1545.82 301.153 1545.82 Q304.787 1545.82 306.593 1542.27 Q308.422 1538.71 308.422 1531.6 Q308.422 1524.47 306.593 1520.93 Q304.787 1517.37 301.153 1517.37 M301.153 1513.66 Q306.963 1513.66 310.019 1518.27 Q313.097 1522.85 313.097 1531.6 Q313.097 1540.33 310.019 1544.94 Q306.963 1549.52 301.153 1549.52 Q295.343 1549.52 292.264 1544.94 Q289.209 1540.33 289.209 1531.6 Q289.209 1522.85 292.264 1518.27 Q295.343 1513.66 301.153 1513.66 Z\" fill=\"#000000\" fill-rule=\"evenodd\" fill-opacity=\"1\" /><path clip-path=\"url(#clip550)\" d=\"M718.182 1517.37 Q714.571 1517.37 712.742 1520.93 Q710.936 1524.47 710.936 1531.6 Q710.936 1538.71 712.742 1542.27 Q714.571 1545.82 718.182 1545.82 Q721.816 1545.82 723.621 1542.27 Q725.45 1538.71 725.45 1531.6 Q725.45 1524.47 723.621 1520.93 Q721.816 1517.37 718.182 1517.37 M718.182 1513.66 Q723.992 1513.66 727.047 1518.27 Q730.126 1522.85 730.126 1531.6 Q730.126 1540.33 727.047 1544.94 Q723.992 1549.52 718.182 1549.52 Q712.371 1549.52 709.293 1544.94 Q706.237 1540.33 706.237 1531.6 Q706.237 1522.85 709.293 1518.27 Q712.371 1513.66 718.182 1513.66 Z\" fill=\"#000000\" fill-rule=\"evenodd\" fill-opacity=\"1\" /><path clip-path=\"url(#clip550)\" d=\"M738.344 1542.97 L743.228 1542.97 L743.228 1548.85 L738.344 1548.85 L738.344 1542.97 Z\" fill=\"#000000\" fill-rule=\"evenodd\" fill-opacity=\"1\" /><path clip-path=\"url(#clip550)\" d=\"M757.441 1544.91 L773.76 1544.91 L773.76 1548.85 L751.816 1548.85 L751.816 1544.91 Q754.478 1542.16 759.061 1537.53 Q763.667 1532.88 764.848 1531.53 Q767.093 1529.01 767.973 1527.27 Q768.876 1525.51 768.876 1523.82 Q768.876 1521.07 766.931 1519.33 Q765.01 1517.6 761.908 1517.6 Q759.709 1517.6 757.255 1518.36 Q754.825 1519.13 752.047 1520.68 L752.047 1515.95 Q754.871 1514.82 757.325 1514.24 Q759.779 1513.66 761.816 1513.66 Q767.186 1513.66 770.38 1516.35 Q773.575 1519.03 773.575 1523.52 Q773.575 1525.65 772.765 1527.57 Q771.978 1529.47 769.871 1532.07 Q769.292 1532.74 766.191 1535.95 Q763.089 1539.15 757.441 1544.91 Z\" fill=\"#000000\" fill-rule=\"evenodd\" fill-opacity=\"1\" /><path clip-path=\"url(#clip550)\" d=\"M783.621 1514.29 L801.977 1514.29 L801.977 1518.22 L787.903 1518.22 L787.903 1526.7 Q788.922 1526.35 789.94 1526.19 Q790.959 1526 791.978 1526 Q797.765 1526 801.144 1529.17 Q804.524 1532.34 804.524 1537.76 Q804.524 1543.34 801.052 1546.44 Q797.579 1549.52 791.26 1549.52 Q789.084 1549.52 786.815 1549.15 Q784.57 1548.78 782.163 1548.04 L782.163 1543.34 Q784.246 1544.47 786.468 1545.03 Q788.69 1545.58 791.167 1545.58 Q795.172 1545.58 797.51 1543.48 Q799.848 1541.37 799.848 1537.76 Q799.848 1534.15 797.51 1532.04 Q795.172 1529.94 791.167 1529.94 Q789.292 1529.94 787.417 1530.35 Q785.566 1530.77 783.621 1531.65 L783.621 1514.29 Z\" fill=\"#000000\" fill-rule=\"evenodd\" fill-opacity=\"1\" /><path clip-path=\"url(#clip550)\" d=\"M1209.61 1517.37 Q1206 1517.37 1204.17 1520.93 Q1202.36 1524.47 1202.36 1531.6 Q1202.36 1538.71 1204.17 1542.27 Q1206 1545.82 1209.61 1545.82 Q1213.24 1545.82 1215.05 1542.27 Q1216.88 1538.71 1216.88 1531.6 Q1216.88 1524.47 1215.05 1520.93 Q1213.24 1517.37 1209.61 1517.37 M1209.61 1513.66 Q1215.42 1513.66 1218.47 1518.27 Q1221.55 1522.85 1221.55 1531.6 Q1221.55 1540.33 1218.47 1544.94 Q1215.42 1549.52 1209.61 1549.52 Q1203.8 1549.52 1200.72 1544.94 Q1197.66 1540.33 1197.66 1531.6 Q1197.66 1522.85 1200.72 1518.27 Q1203.8 1513.66 1209.61 1513.66 Z\" fill=\"#000000\" fill-rule=\"evenodd\" fill-opacity=\"1\" /><path clip-path=\"url(#clip550)\" d=\"M1229.77 1542.97 L1234.65 1542.97 L1234.65 1548.85 L1229.77 1548.85 L1229.77 1542.97 Z\" fill=\"#000000\" fill-rule=\"evenodd\" fill-opacity=\"1\" /><path clip-path=\"url(#clip550)\" d=\"M1244.89 1514.29 L1263.24 1514.29 L1263.24 1518.22 L1249.17 1518.22 L1249.17 1526.7 Q1250.19 1526.35 1251.2 1526.19 Q1252.22 1526 1253.24 1526 Q1259.03 1526 1262.41 1529.17 Q1265.79 1532.34 1265.79 1537.76 Q1265.79 1543.34 1262.32 1546.44 Q1258.84 1549.52 1252.52 1549.52 Q1250.35 1549.52 1248.08 1549.15 Q1245.83 1548.78 1243.43 1548.04 L1243.43 1543.34 Q1245.51 1544.47 1247.73 1545.03 Q1249.95 1545.58 1252.43 1545.58 Q1256.44 1545.58 1258.77 1543.48 Q1261.11 1541.37 1261.11 1537.76 Q1261.11 1534.15 1258.77 1532.04 Q1256.44 1529.94 1252.43 1529.94 Q1250.56 1529.94 1248.68 1530.35 Q1246.83 1530.77 1244.89 1531.65 L1244.89 1514.29 Z\" fill=\"#000000\" fill-rule=\"evenodd\" fill-opacity=\"1\" /><path clip-path=\"url(#clip550)\" d=\"M1285 1517.37 Q1281.39 1517.37 1279.56 1520.93 Q1277.76 1524.47 1277.76 1531.6 Q1277.76 1538.71 1279.56 1542.27 Q1281.39 1545.82 1285 1545.82 Q1288.64 1545.82 1290.44 1542.27 Q1292.27 1538.71 1292.27 1531.6 Q1292.27 1524.47 1290.44 1520.93 Q1288.64 1517.37 1285 1517.37 M1285 1513.66 Q1290.81 1513.66 1293.87 1518.27 Q1296.95 1522.85 1296.95 1531.6 Q1296.95 1540.33 1293.87 1544.94 Q1290.81 1549.52 1285 1549.52 Q1279.19 1549.52 1276.11 1544.94 Q1273.06 1540.33 1273.06 1531.6 Q1273.06 1522.85 1276.11 1518.27 Q1279.19 1513.66 1285 1513.66 Z\" fill=\"#000000\" fill-rule=\"evenodd\" fill-opacity=\"1\" /><path clip-path=\"url(#clip550)\" d=\"M1702.03 1517.37 Q1698.42 1517.37 1696.59 1520.93 Q1694.78 1524.47 1694.78 1531.6 Q1694.78 1538.71 1696.59 1542.27 Q1698.42 1545.82 1702.03 1545.82 Q1705.66 1545.82 1707.47 1542.27 Q1709.3 1538.71 1709.3 1531.6 Q1709.3 1524.47 1707.47 1520.93 Q1705.66 1517.37 1702.03 1517.37 M1702.03 1513.66 Q1707.84 1513.66 1710.9 1518.27 Q1713.97 1522.85 1713.97 1531.6 Q1713.97 1540.33 1710.9 1544.94 Q1707.84 1549.52 1702.03 1549.52 Q1696.22 1549.52 1693.14 1544.94 Q1690.09 1540.33 1690.09 1531.6 Q1690.09 1522.85 1693.14 1518.27 Q1696.22 1513.66 1702.03 1513.66 Z\" fill=\"#000000\" fill-rule=\"evenodd\" fill-opacity=\"1\" /><path clip-path=\"url(#clip550)\" d=\"M1722.19 1542.97 L1727.08 1542.97 L1727.08 1548.85 L1722.19 1548.85 L1722.19 1542.97 Z\" fill=\"#000000\" fill-rule=\"evenodd\" fill-opacity=\"1\" /><path clip-path=\"url(#clip550)\" d=\"M1736.08 1514.29 L1758.3 1514.29 L1758.3 1516.28 L1745.76 1548.85 L1740.87 1548.85 L1752.68 1518.22 L1736.08 1518.22 L1736.08 1514.29 Z\" fill=\"#000000\" fill-rule=\"evenodd\" fill-opacity=\"1\" /><path clip-path=\"url(#clip550)\" d=\"M1767.47 1514.29 L1785.83 1514.29 L1785.83 1518.22 L1771.75 1518.22 L1771.75 1526.7 Q1772.77 1526.35 1773.79 1526.19 Q1774.81 1526 1775.83 1526 Q1781.61 1526 1784.99 1529.17 Q1788.37 1532.34 1788.37 1537.76 Q1788.37 1543.34 1784.9 1546.44 Q1781.43 1549.52 1775.11 1549.52 Q1772.93 1549.52 1770.66 1549.15 Q1768.42 1548.78 1766.01 1548.04 L1766.01 1543.34 Q1768.09 1544.47 1770.32 1545.03 Q1772.54 1545.58 1775.02 1545.58 Q1779.02 1545.58 1781.36 1543.48 Q1783.7 1541.37 1783.7 1537.76 Q1783.7 1534.15 1781.36 1532.04 Q1779.02 1529.94 1775.02 1529.94 Q1773.14 1529.94 1771.27 1530.35 Q1769.41 1530.77 1767.47 1531.65 L1767.47 1514.29 Z\" fill=\"#000000\" fill-rule=\"evenodd\" fill-opacity=\"1\" /><path clip-path=\"url(#clip550)\" d=\"M2183.22 1544.91 L2190.86 1544.91 L2190.86 1518.55 L2182.55 1520.21 L2182.55 1515.95 L2190.82 1514.29 L2195.49 1514.29 L2195.49 1544.91 L2203.13 1544.91 L2203.13 1548.85 L2183.22 1548.85 L2183.22 1544.91 Z\" fill=\"#000000\" fill-rule=\"evenodd\" fill-opacity=\"1\" /><path clip-path=\"url(#clip550)\" d=\"M2212.58 1542.97 L2217.46 1542.97 L2217.46 1548.85 L2212.58 1548.85 L2212.58 1542.97 Z\" fill=\"#000000\" fill-rule=\"evenodd\" fill-opacity=\"1\" /><path clip-path=\"url(#clip550)\" d=\"M2237.65 1517.37 Q2234.03 1517.37 2232.21 1520.93 Q2230.4 1524.47 2230.4 1531.6 Q2230.4 1538.71 2232.21 1542.27 Q2234.03 1545.82 2237.65 1545.82 Q2241.28 1545.82 2243.09 1542.27 Q2244.91 1538.71 2244.91 1531.6 Q2244.91 1524.47 2243.09 1520.93 Q2241.28 1517.37 2237.65 1517.37 M2237.65 1513.66 Q2243.46 1513.66 2246.51 1518.27 Q2249.59 1522.85 2249.59 1531.6 Q2249.59 1540.33 2246.51 1544.94 Q2243.46 1549.52 2237.65 1549.52 Q2231.84 1549.52 2228.76 1544.94 Q2225.7 1540.33 2225.7 1531.6 Q2225.7 1522.85 2228.76 1518.27 Q2231.84 1513.66 2237.65 1513.66 Z\" fill=\"#000000\" fill-rule=\"evenodd\" fill-opacity=\"1\" /><path clip-path=\"url(#clip550)\" d=\"M2267.81 1517.37 Q2264.2 1517.37 2262.37 1520.93 Q2260.56 1524.47 2260.56 1531.6 Q2260.56 1538.71 2262.37 1542.27 Q2264.2 1545.82 2267.81 1545.82 Q2271.44 1545.82 2273.25 1542.27 Q2275.08 1538.71 2275.08 1531.6 Q2275.08 1524.47 2273.25 1520.93 Q2271.44 1517.37 2267.81 1517.37 M2267.81 1513.66 Q2273.62 1513.66 2276.67 1518.27 Q2279.75 1522.85 2279.75 1531.6 Q2279.75 1540.33 2276.67 1544.94 Q2273.62 1549.52 2267.81 1549.52 Q2262 1549.52 2258.92 1544.94 Q2255.86 1540.33 2255.86 1531.6 Q2255.86 1522.85 2258.92 1518.27 Q2262 1513.66 2267.81 1513.66 Z\" fill=\"#000000\" fill-rule=\"evenodd\" fill-opacity=\"1\" /><polyline clip-path=\"url(#clip552)\" style=\"stroke:#000000; stroke-linecap:butt; stroke-linejoin:round; stroke-width:2; stroke-opacity:0.1; fill:none\" points=\"\n",
       "  141.853,1445.72 2352.76,1445.72 \n",
       "  \"/>\n",
       "<polyline clip-path=\"url(#clip552)\" style=\"stroke:#000000; stroke-linecap:butt; stroke-linejoin:round; stroke-width:2; stroke-opacity:0.1; fill:none\" points=\"\n",
       "  141.853,1083.65 2352.76,1083.65 \n",
       "  \"/>\n",
       "<polyline clip-path=\"url(#clip552)\" style=\"stroke:#000000; stroke-linecap:butt; stroke-linejoin:round; stroke-width:2; stroke-opacity:0.1; fill:none\" points=\"\n",
       "  141.853,721.588 2352.76,721.588 \n",
       "  \"/>\n",
       "<polyline clip-path=\"url(#clip552)\" style=\"stroke:#000000; stroke-linecap:butt; stroke-linejoin:round; stroke-width:2; stroke-opacity:0.1; fill:none\" points=\"\n",
       "  141.853,359.524 2352.76,359.524 \n",
       "  \"/>\n",
       "<polyline clip-path=\"url(#clip550)\" style=\"stroke:#000000; stroke-linecap:butt; stroke-linejoin:round; stroke-width:4; stroke-opacity:1; fill:none\" points=\"\n",
       "  141.853,1486.45 141.853,47.2441 \n",
       "  \"/>\n",
       "<polyline clip-path=\"url(#clip550)\" style=\"stroke:#000000; stroke-linecap:butt; stroke-linejoin:round; stroke-width:4; stroke-opacity:1; fill:none\" points=\"\n",
       "  141.853,1445.72 160.751,1445.72 \n",
       "  \"/>\n",
       "<polyline clip-path=\"url(#clip550)\" style=\"stroke:#000000; stroke-linecap:butt; stroke-linejoin:round; stroke-width:4; stroke-opacity:1; fill:none\" points=\"\n",
       "  141.853,1083.65 160.751,1083.65 \n",
       "  \"/>\n",
       "<polyline clip-path=\"url(#clip550)\" style=\"stroke:#000000; stroke-linecap:butt; stroke-linejoin:round; stroke-width:4; stroke-opacity:1; fill:none\" points=\"\n",
       "  141.853,721.588 160.751,721.588 \n",
       "  \"/>\n",
       "<polyline clip-path=\"url(#clip550)\" style=\"stroke:#000000; stroke-linecap:butt; stroke-linejoin:round; stroke-width:4; stroke-opacity:1; fill:none\" points=\"\n",
       "  141.853,359.524 160.751,359.524 \n",
       "  \"/>\n",
       "<path clip-path=\"url(#clip550)\" d=\"M93.9086 1431.51 Q90.2975 1431.51 88.4688 1435.08 Q86.6632 1438.62 86.6632 1445.75 Q86.6632 1452.86 88.4688 1456.42 Q90.2975 1459.96 93.9086 1459.96 Q97.5428 1459.96 99.3483 1456.42 Q101.177 1452.86 101.177 1445.75 Q101.177 1438.62 99.3483 1435.08 Q97.5428 1431.51 93.9086 1431.51 M93.9086 1427.81 Q99.7187 1427.81 102.774 1432.42 Q105.853 1437 105.853 1445.75 Q105.853 1454.48 102.774 1459.08 Q99.7187 1463.67 93.9086 1463.67 Q88.0984 1463.67 85.0197 1459.08 Q81.9642 1454.48 81.9642 1445.75 Q81.9642 1437 85.0197 1432.42 Q88.0984 1427.81 93.9086 1427.81 Z\" fill=\"#000000\" fill-rule=\"evenodd\" fill-opacity=\"1\" /><path clip-path=\"url(#clip550)\" d=\"M57.7745 1097 L74.0939 1097 L74.0939 1100.93 L52.1495 1100.93 L52.1495 1097 Q54.8115 1094.24 59.3949 1089.61 Q64.0013 1084.96 65.1819 1083.62 Q67.4272 1081.09 68.3068 1079.36 Q69.2096 1077.6 69.2096 1075.91 Q69.2096 1073.15 67.2652 1071.42 Q65.3439 1069.68 62.2421 1069.68 Q60.043 1069.68 57.5893 1070.45 Q55.1588 1071.21 52.381 1072.76 L52.381 1068.04 Q55.2051 1066.9 57.6588 1066.33 Q60.1124 1065.75 62.1495 1065.75 Q67.5198 1065.75 70.7142 1068.43 Q73.9087 1071.12 73.9087 1075.61 Q73.9087 1077.74 73.0985 1079.66 Q72.3115 1081.56 70.205 1084.15 Q69.6263 1084.82 66.5245 1088.04 Q63.4226 1091.23 57.7745 1097 Z\" fill=\"#000000\" fill-rule=\"evenodd\" fill-opacity=\"1\" /><path clip-path=\"url(#clip550)\" d=\"M93.9086 1069.45 Q90.2975 1069.45 88.4688 1073.02 Q86.6632 1076.56 86.6632 1083.69 Q86.6632 1090.79 88.4688 1094.36 Q90.2975 1097.9 93.9086 1097.9 Q97.5428 1097.9 99.3483 1094.36 Q101.177 1090.79 101.177 1083.69 Q101.177 1076.56 99.3483 1073.02 Q97.5428 1069.45 93.9086 1069.45 M93.9086 1065.75 Q99.7187 1065.75 102.774 1070.35 Q105.853 1074.94 105.853 1083.69 Q105.853 1092.41 102.774 1097.02 Q99.7187 1101.6 93.9086 1101.6 Q88.0984 1101.6 85.0197 1097.02 Q81.9642 1092.41 81.9642 1083.69 Q81.9642 1074.94 85.0197 1070.35 Q88.0984 1065.75 93.9086 1065.75 Z\" fill=\"#000000\" fill-rule=\"evenodd\" fill-opacity=\"1\" /><path clip-path=\"url(#clip550)\" d=\"M66.5939 708.382 L54.7884 726.831 L66.5939 726.831 L66.5939 708.382 M65.367 704.308 L71.2466 704.308 L71.2466 726.831 L76.1772 726.831 L76.1772 730.72 L71.2466 730.72 L71.2466 738.868 L66.5939 738.868 L66.5939 730.72 L50.9921 730.72 L50.9921 726.206 L65.367 704.308 Z\" fill=\"#000000\" fill-rule=\"evenodd\" fill-opacity=\"1\" /><path clip-path=\"url(#clip550)\" d=\"M93.9086 707.387 Q90.2975 707.387 88.4688 710.951 Q86.6632 714.493 86.6632 721.623 Q86.6632 728.729 88.4688 732.294 Q90.2975 735.836 93.9086 735.836 Q97.5428 735.836 99.3483 732.294 Q101.177 728.729 101.177 721.623 Q101.177 714.493 99.3483 710.951 Q97.5428 707.387 93.9086 707.387 M93.9086 703.683 Q99.7187 703.683 102.774 708.289 Q105.853 712.873 105.853 721.623 Q105.853 730.35 102.774 734.956 Q99.7187 739.539 93.9086 739.539 Q88.0984 739.539 85.0197 734.956 Q81.9642 730.35 81.9642 721.623 Q81.9642 712.873 85.0197 708.289 Q88.0984 703.683 93.9086 703.683 Z\" fill=\"#000000\" fill-rule=\"evenodd\" fill-opacity=\"1\" /><path clip-path=\"url(#clip550)\" d=\"M64.3254 357.661 Q61.1773 357.661 59.3254 359.814 Q57.4967 361.966 57.4967 365.716 Q57.4967 369.443 59.3254 371.619 Q61.1773 373.772 64.3254 373.772 Q67.4735 373.772 69.3022 371.619 Q71.1541 369.443 71.1541 365.716 Q71.1541 361.966 69.3022 359.814 Q67.4735 357.661 64.3254 357.661 M73.6077 343.008 L73.6077 347.267 Q71.8485 346.434 70.0429 345.994 Q68.2606 345.554 66.5013 345.554 Q61.8717 345.554 59.418 348.679 Q56.9875 351.804 56.6402 358.124 Q58.006 356.11 60.0662 355.045 Q62.1263 353.957 64.6032 353.957 Q69.8115 353.957 72.8207 357.128 Q75.8531 360.276 75.8531 365.716 Q75.8531 371.04 72.705 374.258 Q69.5568 377.475 64.3254 377.475 Q58.33 377.475 55.1588 372.892 Q51.9875 368.286 51.9875 359.559 Q51.9875 351.364 55.8764 346.503 Q59.7652 341.619 66.3161 341.619 Q68.0754 341.619 69.8578 341.966 Q71.6633 342.314 73.6077 343.008 Z\" fill=\"#000000\" fill-rule=\"evenodd\" fill-opacity=\"1\" /><path clip-path=\"url(#clip550)\" d=\"M93.9086 345.323 Q90.2975 345.323 88.4688 348.888 Q86.6632 352.429 86.6632 359.559 Q86.6632 366.665 88.4688 370.23 Q90.2975 373.772 93.9086 373.772 Q97.5428 373.772 99.3483 370.23 Q101.177 366.665 101.177 359.559 Q101.177 352.429 99.3483 348.888 Q97.5428 345.323 93.9086 345.323 M93.9086 341.619 Q99.7187 341.619 102.774 346.226 Q105.853 350.809 105.853 359.559 Q105.853 368.286 102.774 372.892 Q99.7187 377.475 93.9086 377.475 Q88.0984 377.475 85.0197 372.892 Q81.9642 368.286 81.9642 359.559 Q81.9642 350.809 85.0197 346.226 Q88.0984 341.619 93.9086 341.619 Z\" fill=\"#000000\" fill-rule=\"evenodd\" fill-opacity=\"1\" /><path clip-path=\"url(#clip552)\" d=\"\n",
       "M263.457 87.9763 L263.457 1445.72 L361.841 1445.72 L361.841 87.9763 L263.457 87.9763 L263.457 87.9763  Z\n",
       "  \" fill=\"#009af9\" fill-rule=\"evenodd\" fill-opacity=\"1\"/>\n",
       "<polyline clip-path=\"url(#clip552)\" style=\"stroke:#000000; stroke-linecap:butt; stroke-linejoin:round; stroke-width:4; stroke-opacity:1; fill:none\" points=\"\n",
       "  263.457,87.9763 263.457,1445.72 361.841,1445.72 361.841,87.9763 263.457,87.9763 \n",
       "  \"/>\n",
       "<path clip-path=\"url(#clip552)\" d=\"\n",
       "M361.841 1282.79 L361.841 1445.72 L460.226 1445.72 L460.226 1282.79 L361.841 1282.79 L361.841 1282.79  Z\n",
       "  \" fill=\"#009af9\" fill-rule=\"evenodd\" fill-opacity=\"1\"/>\n",
       "<polyline clip-path=\"url(#clip552)\" style=\"stroke:#000000; stroke-linecap:butt; stroke-linejoin:round; stroke-width:4; stroke-opacity:1; fill:none\" points=\"\n",
       "  361.841,1282.79 361.841,1445.72 460.226,1445.72 460.226,1282.79 361.841,1282.79 \n",
       "  \"/>\n",
       "<path clip-path=\"url(#clip552)\" d=\"\n",
       "M460.226 1300.89 L460.226 1445.72 L558.611 1445.72 L558.611 1300.89 L460.226 1300.89 L460.226 1300.89  Z\n",
       "  \" fill=\"#009af9\" fill-rule=\"evenodd\" fill-opacity=\"1\"/>\n",
       "<polyline clip-path=\"url(#clip552)\" style=\"stroke:#000000; stroke-linecap:butt; stroke-linejoin:round; stroke-width:4; stroke-opacity:1; fill:none\" points=\"\n",
       "  460.226,1300.89 460.226,1445.72 558.611,1445.72 558.611,1300.89 460.226,1300.89 \n",
       "  \"/>\n",
       "<path clip-path=\"url(#clip552)\" d=\"\n",
       "M558.611 1318.99 L558.611 1445.72 L656.996 1445.72 L656.996 1318.99 L558.611 1318.99 L558.611 1318.99  Z\n",
       "  \" fill=\"#009af9\" fill-rule=\"evenodd\" fill-opacity=\"1\"/>\n",
       "<polyline clip-path=\"url(#clip552)\" style=\"stroke:#000000; stroke-linecap:butt; stroke-linejoin:round; stroke-width:4; stroke-opacity:1; fill:none\" points=\"\n",
       "  558.611,1318.99 558.611,1445.72 656.996,1445.72 656.996,1318.99 558.611,1318.99 \n",
       "  \"/>\n",
       "<path clip-path=\"url(#clip552)\" d=\"\n",
       "M656.996 1228.48 L656.996 1445.72 L755.38 1445.72 L755.38 1228.48 L656.996 1228.48 L656.996 1228.48  Z\n",
       "  \" fill=\"#009af9\" fill-rule=\"evenodd\" fill-opacity=\"1\"/>\n",
       "<polyline clip-path=\"url(#clip552)\" style=\"stroke:#000000; stroke-linecap:butt; stroke-linejoin:round; stroke-width:4; stroke-opacity:1; fill:none\" points=\"\n",
       "  656.996,1228.48 656.996,1445.72 755.38,1445.72 755.38,1228.48 656.996,1228.48 \n",
       "  \"/>\n",
       "<path clip-path=\"url(#clip552)\" d=\"\n",
       "M755.38 1391.41 L755.38 1445.72 L853.765 1445.72 L853.765 1391.41 L755.38 1391.41 L755.38 1391.41  Z\n",
       "  \" fill=\"#009af9\" fill-rule=\"evenodd\" fill-opacity=\"1\"/>\n",
       "<polyline clip-path=\"url(#clip552)\" style=\"stroke:#000000; stroke-linecap:butt; stroke-linejoin:round; stroke-width:4; stroke-opacity:1; fill:none\" points=\"\n",
       "  755.38,1391.41 755.38,1445.72 853.765,1445.72 853.765,1391.41 755.38,1391.41 \n",
       "  \"/>\n",
       "<path clip-path=\"url(#clip552)\" d=\"\n",
       "M853.765 1264.68 L853.765 1445.72 L952.15 1445.72 L952.15 1264.68 L853.765 1264.68 L853.765 1264.68  Z\n",
       "  \" fill=\"#009af9\" fill-rule=\"evenodd\" fill-opacity=\"1\"/>\n",
       "<polyline clip-path=\"url(#clip552)\" style=\"stroke:#000000; stroke-linecap:butt; stroke-linejoin:round; stroke-width:4; stroke-opacity:1; fill:none\" points=\"\n",
       "  853.765,1264.68 853.765,1445.72 952.15,1445.72 952.15,1264.68 853.765,1264.68 \n",
       "  \"/>\n",
       "<path clip-path=\"url(#clip552)\" d=\"\n",
       "M952.15 1300.89 L952.15 1445.72 L1050.53 1445.72 L1050.53 1300.89 L952.15 1300.89 L952.15 1300.89  Z\n",
       "  \" fill=\"#009af9\" fill-rule=\"evenodd\" fill-opacity=\"1\"/>\n",
       "<polyline clip-path=\"url(#clip552)\" style=\"stroke:#000000; stroke-linecap:butt; stroke-linejoin:round; stroke-width:4; stroke-opacity:1; fill:none\" points=\"\n",
       "  952.15,1300.89 952.15,1445.72 1050.53,1445.72 1050.53,1300.89 952.15,1300.89 \n",
       "  \"/>\n",
       "<path clip-path=\"url(#clip552)\" d=\"\n",
       "M1050.53 1391.41 L1050.53 1445.72 L1148.92 1445.72 L1148.92 1391.41 L1050.53 1391.41 L1050.53 1391.41  Z\n",
       "  \" fill=\"#009af9\" fill-rule=\"evenodd\" fill-opacity=\"1\"/>\n",
       "<polyline clip-path=\"url(#clip552)\" style=\"stroke:#000000; stroke-linecap:butt; stroke-linejoin:round; stroke-width:4; stroke-opacity:1; fill:none\" points=\"\n",
       "  1050.53,1391.41 1050.53,1445.72 1148.92,1445.72 1148.92,1391.41 1050.53,1391.41 \n",
       "  \"/>\n",
       "<path clip-path=\"url(#clip552)\" d=\"\n",
       "M1148.92 1337.1 L1148.92 1445.72 L1247.3 1445.72 L1247.3 1337.1 L1148.92 1337.1 L1148.92 1337.1  Z\n",
       "  \" fill=\"#009af9\" fill-rule=\"evenodd\" fill-opacity=\"1\"/>\n",
       "<polyline clip-path=\"url(#clip552)\" style=\"stroke:#000000; stroke-linecap:butt; stroke-linejoin:round; stroke-width:4; stroke-opacity:1; fill:none\" points=\"\n",
       "  1148.92,1337.1 1148.92,1445.72 1247.3,1445.72 1247.3,1337.1 1148.92,1337.1 \n",
       "  \"/>\n",
       "<path clip-path=\"url(#clip552)\" d=\"\n",
       "M1247.3 1337.1 L1247.3 1445.72 L1345.69 1445.72 L1345.69 1337.1 L1247.3 1337.1 L1247.3 1337.1  Z\n",
       "  \" fill=\"#009af9\" fill-rule=\"evenodd\" fill-opacity=\"1\"/>\n",
       "<polyline clip-path=\"url(#clip552)\" style=\"stroke:#000000; stroke-linecap:butt; stroke-linejoin:round; stroke-width:4; stroke-opacity:1; fill:none\" points=\"\n",
       "  1247.3,1337.1 1247.3,1445.72 1345.69,1445.72 1345.69,1337.1 1247.3,1337.1 \n",
       "  \"/>\n",
       "<path clip-path=\"url(#clip552)\" d=\"\n",
       "M1345.69 1337.1 L1345.69 1445.72 L1444.07 1445.72 L1444.07 1337.1 L1345.69 1337.1 L1345.69 1337.1  Z\n",
       "  \" fill=\"#009af9\" fill-rule=\"evenodd\" fill-opacity=\"1\"/>\n",
       "<polyline clip-path=\"url(#clip552)\" style=\"stroke:#000000; stroke-linecap:butt; stroke-linejoin:round; stroke-width:4; stroke-opacity:1; fill:none\" points=\"\n",
       "  1345.69,1337.1 1345.69,1445.72 1444.07,1445.72 1444.07,1337.1 1345.69,1337.1 \n",
       "  \"/>\n",
       "<path clip-path=\"url(#clip552)\" d=\"\n",
       "M1444.07 1337.1 L1444.07 1445.72 L1542.46 1445.72 L1542.46 1337.1 L1444.07 1337.1 L1444.07 1337.1  Z\n",
       "  \" fill=\"#009af9\" fill-rule=\"evenodd\" fill-opacity=\"1\"/>\n",
       "<polyline clip-path=\"url(#clip552)\" style=\"stroke:#000000; stroke-linecap:butt; stroke-linejoin:round; stroke-width:4; stroke-opacity:1; fill:none\" points=\"\n",
       "  1444.07,1337.1 1444.07,1445.72 1542.46,1445.72 1542.46,1337.1 1444.07,1337.1 \n",
       "  \"/>\n",
       "<path clip-path=\"url(#clip552)\" d=\"\n",
       "M1542.46 1409.51 L1542.46 1445.72 L1640.84 1445.72 L1640.84 1409.51 L1542.46 1409.51 L1542.46 1409.51  Z\n",
       "  \" fill=\"#009af9\" fill-rule=\"evenodd\" fill-opacity=\"1\"/>\n",
       "<polyline clip-path=\"url(#clip552)\" style=\"stroke:#000000; stroke-linecap:butt; stroke-linejoin:round; stroke-width:4; stroke-opacity:1; fill:none\" points=\"\n",
       "  1542.46,1409.51 1542.46,1445.72 1640.84,1445.72 1640.84,1409.51 1542.46,1409.51 \n",
       "  \"/>\n",
       "<path clip-path=\"url(#clip552)\" d=\"\n",
       "M1640.84 1409.51 L1640.84 1445.72 L1739.23 1445.72 L1739.23 1409.51 L1640.84 1409.51 L1640.84 1409.51  Z\n",
       "  \" fill=\"#009af9\" fill-rule=\"evenodd\" fill-opacity=\"1\"/>\n",
       "<polyline clip-path=\"url(#clip552)\" style=\"stroke:#000000; stroke-linecap:butt; stroke-linejoin:round; stroke-width:4; stroke-opacity:1; fill:none\" points=\"\n",
       "  1640.84,1409.51 1640.84,1445.72 1739.23,1445.72 1739.23,1409.51 1640.84,1409.51 \n",
       "  \"/>\n",
       "<path clip-path=\"url(#clip552)\" d=\"\n",
       "M1739.23 1409.51 L1739.23 1445.72 L1837.61 1445.72 L1837.61 1409.51 L1739.23 1409.51 L1739.23 1409.51  Z\n",
       "  \" fill=\"#009af9\" fill-rule=\"evenodd\" fill-opacity=\"1\"/>\n",
       "<polyline clip-path=\"url(#clip552)\" style=\"stroke:#000000; stroke-linecap:butt; stroke-linejoin:round; stroke-width:4; stroke-opacity:1; fill:none\" points=\"\n",
       "  1739.23,1409.51 1739.23,1445.72 1837.61,1445.72 1837.61,1409.51 1739.23,1409.51 \n",
       "  \"/>\n",
       "<path clip-path=\"url(#clip552)\" d=\"\n",
       "M1837.61 1355.2 L1837.61 1445.72 L1936 1445.72 L1936 1355.2 L1837.61 1355.2 L1837.61 1355.2  Z\n",
       "  \" fill=\"#009af9\" fill-rule=\"evenodd\" fill-opacity=\"1\"/>\n",
       "<polyline clip-path=\"url(#clip552)\" style=\"stroke:#000000; stroke-linecap:butt; stroke-linejoin:round; stroke-width:4; stroke-opacity:1; fill:none\" points=\"\n",
       "  1837.61,1355.2 1837.61,1445.72 1936,1445.72 1936,1355.2 1837.61,1355.2 \n",
       "  \"/>\n",
       "<path clip-path=\"url(#clip552)\" d=\"\n",
       "M1936 1337.1 L1936 1445.72 L2034.38 1445.72 L2034.38 1337.1 L1936 1337.1 L1936 1337.1  Z\n",
       "  \" fill=\"#009af9\" fill-rule=\"evenodd\" fill-opacity=\"1\"/>\n",
       "<polyline clip-path=\"url(#clip552)\" style=\"stroke:#000000; stroke-linecap:butt; stroke-linejoin:round; stroke-width:4; stroke-opacity:1; fill:none\" points=\"\n",
       "  1936,1337.1 1936,1445.72 2034.38,1445.72 2034.38,1337.1 1936,1337.1 \n",
       "  \"/>\n",
       "<path clip-path=\"url(#clip552)\" d=\"\n",
       "M2034.38 1246.58 L2034.38 1445.72 L2132.77 1445.72 L2132.77 1246.58 L2034.38 1246.58 L2034.38 1246.58  Z\n",
       "  \" fill=\"#009af9\" fill-rule=\"evenodd\" fill-opacity=\"1\"/>\n",
       "<polyline clip-path=\"url(#clip552)\" style=\"stroke:#000000; stroke-linecap:butt; stroke-linejoin:round; stroke-width:4; stroke-opacity:1; fill:none\" points=\"\n",
       "  2034.38,1246.58 2034.38,1445.72 2132.77,1445.72 2132.77,1246.58 2034.38,1246.58 \n",
       "  \"/>\n",
       "<path clip-path=\"url(#clip552)\" d=\"\n",
       "M2132.77 1337.1 L2132.77 1445.72 L2231.15 1445.72 L2231.15 1337.1 L2132.77 1337.1 L2132.77 1337.1  Z\n",
       "  \" fill=\"#009af9\" fill-rule=\"evenodd\" fill-opacity=\"1\"/>\n",
       "<polyline clip-path=\"url(#clip552)\" style=\"stroke:#000000; stroke-linecap:butt; stroke-linejoin:round; stroke-width:4; stroke-opacity:1; fill:none\" points=\"\n",
       "  2132.77,1337.1 2132.77,1445.72 2231.15,1445.72 2231.15,1337.1 2132.77,1337.1 \n",
       "  \"/>\n",
       "<circle clip-path=\"url(#clip552)\" style=\"fill:#009af9; stroke:none; fill-opacity:0\" cx=\"312.649\" cy=\"87.9763\" r=\"2\"/>\n",
       "<circle clip-path=\"url(#clip552)\" style=\"fill:#009af9; stroke:none; fill-opacity:0\" cx=\"411.034\" cy=\"1282.79\" r=\"2\"/>\n",
       "<circle clip-path=\"url(#clip552)\" style=\"fill:#009af9; stroke:none; fill-opacity:0\" cx=\"509.419\" cy=\"1300.89\" r=\"2\"/>\n",
       "<circle clip-path=\"url(#clip552)\" style=\"fill:#009af9; stroke:none; fill-opacity:0\" cx=\"607.803\" cy=\"1318.99\" r=\"2\"/>\n",
       "<circle clip-path=\"url(#clip552)\" style=\"fill:#009af9; stroke:none; fill-opacity:0\" cx=\"706.188\" cy=\"1228.48\" r=\"2\"/>\n",
       "<circle clip-path=\"url(#clip552)\" style=\"fill:#009af9; stroke:none; fill-opacity:0\" cx=\"804.573\" cy=\"1391.41\" r=\"2\"/>\n",
       "<circle clip-path=\"url(#clip552)\" style=\"fill:#009af9; stroke:none; fill-opacity:0\" cx=\"902.958\" cy=\"1264.68\" r=\"2\"/>\n",
       "<circle clip-path=\"url(#clip552)\" style=\"fill:#009af9; stroke:none; fill-opacity:0\" cx=\"1001.34\" cy=\"1300.89\" r=\"2\"/>\n",
       "<circle clip-path=\"url(#clip552)\" style=\"fill:#009af9; stroke:none; fill-opacity:0\" cx=\"1099.73\" cy=\"1391.41\" r=\"2\"/>\n",
       "<circle clip-path=\"url(#clip552)\" style=\"fill:#009af9; stroke:none; fill-opacity:0\" cx=\"1198.11\" cy=\"1337.1\" r=\"2\"/>\n",
       "<circle clip-path=\"url(#clip552)\" style=\"fill:#009af9; stroke:none; fill-opacity:0\" cx=\"1296.5\" cy=\"1337.1\" r=\"2\"/>\n",
       "<circle clip-path=\"url(#clip552)\" style=\"fill:#009af9; stroke:none; fill-opacity:0\" cx=\"1394.88\" cy=\"1337.1\" r=\"2\"/>\n",
       "<circle clip-path=\"url(#clip552)\" style=\"fill:#009af9; stroke:none; fill-opacity:0\" cx=\"1493.27\" cy=\"1337.1\" r=\"2\"/>\n",
       "<circle clip-path=\"url(#clip552)\" style=\"fill:#009af9; stroke:none; fill-opacity:0\" cx=\"1591.65\" cy=\"1409.51\" r=\"2\"/>\n",
       "<circle clip-path=\"url(#clip552)\" style=\"fill:#009af9; stroke:none; fill-opacity:0\" cx=\"1690.04\" cy=\"1409.51\" r=\"2\"/>\n",
       "<circle clip-path=\"url(#clip552)\" style=\"fill:#009af9; stroke:none; fill-opacity:0\" cx=\"1788.42\" cy=\"1409.51\" r=\"2\"/>\n",
       "<circle clip-path=\"url(#clip552)\" style=\"fill:#009af9; stroke:none; fill-opacity:0\" cx=\"1886.81\" cy=\"1355.2\" r=\"2\"/>\n",
       "<circle clip-path=\"url(#clip552)\" style=\"fill:#009af9; stroke:none; fill-opacity:0\" cx=\"1985.19\" cy=\"1337.1\" r=\"2\"/>\n",
       "<circle clip-path=\"url(#clip552)\" style=\"fill:#009af9; stroke:none; fill-opacity:0\" cx=\"2083.58\" cy=\"1246.58\" r=\"2\"/>\n",
       "<circle clip-path=\"url(#clip552)\" style=\"fill:#009af9; stroke:none; fill-opacity:0\" cx=\"2181.96\" cy=\"1337.1\" r=\"2\"/>\n",
       "<path clip-path=\"url(#clip550)\" d=\"\n",
       "M1980.97 198.898 L2279.06 198.898 L2279.06 95.2176 L1980.97 95.2176  Z\n",
       "  \" fill=\"#ffffff\" fill-rule=\"evenodd\" fill-opacity=\"1\"/>\n",
       "<polyline clip-path=\"url(#clip550)\" style=\"stroke:#000000; stroke-linecap:butt; stroke-linejoin:round; stroke-width:4; stroke-opacity:1; fill:none\" points=\"\n",
       "  1980.97,198.898 2279.06,198.898 2279.06,95.2176 1980.97,95.2176 1980.97,198.898 \n",
       "  \"/>\n",
       "<path clip-path=\"url(#clip550)\" d=\"\n",
       "M2005.54 167.794 L2152.93 167.794 L2152.93 126.322 L2005.54 126.322 L2005.54 167.794  Z\n",
       "  \" fill=\"#009af9\" fill-rule=\"evenodd\" fill-opacity=\"1\"/>\n",
       "<polyline clip-path=\"url(#clip550)\" style=\"stroke:#000000; stroke-linecap:butt; stroke-linejoin:round; stroke-width:4; stroke-opacity:1; fill:none\" points=\"\n",
       "  2005.54,167.794 2152.93,167.794 2152.93,126.322 2005.54,126.322 2005.54,167.794 \n",
       "  \"/>\n",
       "<path clip-path=\"url(#clip550)\" d=\"M2191.34 166.745 Q2189.53 171.375 2187.82 172.787 Q2186.11 174.199 2183.24 174.199 L2179.84 174.199 L2179.84 170.634 L2182.34 170.634 Q2184.09 170.634 2185.07 169.8 Q2186.04 168.967 2187.22 165.865 L2187.98 163.921 L2177.5 138.412 L2182.01 138.412 L2190.11 158.689 L2198.22 138.412 L2202.73 138.412 L2191.34 166.745 Z\" fill=\"#000000\" fill-rule=\"evenodd\" fill-opacity=\"1\" /><path clip-path=\"url(#clip550)\" d=\"M2210.02 160.402 L2217.66 160.402 L2217.66 134.037 L2209.35 135.703 L2209.35 131.444 L2217.61 129.778 L2222.29 129.778 L2222.29 160.402 L2229.93 160.402 L2229.93 164.338 L2210.02 164.338 L2210.02 160.402 Z\" fill=\"#000000\" fill-rule=\"evenodd\" fill-opacity=\"1\" /></svg>\n"
      ]
     },
     "execution_count": 182,
     "metadata": {},
     "output_type": "execute_result"
    }
   ],
   "source": [
    "histogram(pval,bins=0:0.05:1.0) #using full lower bound of h(x)"
   ]
  },
  {
   "cell_type": "code",
   "execution_count": 183,
   "id": "f6b2795f-d483-4fe2-a336-74c972019fb8",
   "metadata": {},
   "outputs": [
    {
     "data": {
      "image/svg+xml": [
       "<?xml version=\"1.0\" encoding=\"utf-8\"?>\n",
       "<svg xmlns=\"http://www.w3.org/2000/svg\" xmlns:xlink=\"http://www.w3.org/1999/xlink\" width=\"600\" height=\"400\" viewBox=\"0 0 2400 1600\">\n",
       "<defs>\n",
       "  <clipPath id=\"clip590\">\n",
       "    <rect x=\"0\" y=\"0\" width=\"2400\" height=\"1600\"/>\n",
       "  </clipPath>\n",
       "</defs>\n",
       "<path clip-path=\"url(#clip590)\" d=\"\n",
       "M0 1600 L2400 1600 L2400 0 L0 0  Z\n",
       "  \" fill=\"#ffffff\" fill-rule=\"evenodd\" fill-opacity=\"1\"/>\n",
       "<defs>\n",
       "  <clipPath id=\"clip591\">\n",
       "    <rect x=\"480\" y=\"0\" width=\"1681\" height=\"1600\"/>\n",
       "  </clipPath>\n",
       "</defs>\n",
       "<path clip-path=\"url(#clip590)\" d=\"\n",
       "M169.121 1486.45 L2352.76 1486.45 L2352.76 47.2441 L169.121 47.2441  Z\n",
       "  \" fill=\"#ffffff\" fill-rule=\"evenodd\" fill-opacity=\"1\"/>\n",
       "<defs>\n",
       "  <clipPath id=\"clip592\">\n",
       "    <rect x=\"169\" y=\"47\" width=\"2185\" height=\"1440\"/>\n",
       "  </clipPath>\n",
       "</defs>\n",
       "<polyline clip-path=\"url(#clip592)\" style=\"stroke:#000000; stroke-linecap:butt; stroke-linejoin:round; stroke-width:2; stroke-opacity:0.1; fill:none\" points=\"\n",
       "  289.225,1486.45 289.225,47.2441 \n",
       "  \"/>\n",
       "<polyline clip-path=\"url(#clip592)\" style=\"stroke:#000000; stroke-linecap:butt; stroke-linejoin:round; stroke-width:2; stroke-opacity:0.1; fill:none\" points=\"\n",
       "  775.082,1486.45 775.082,47.2441 \n",
       "  \"/>\n",
       "<polyline clip-path=\"url(#clip592)\" style=\"stroke:#000000; stroke-linecap:butt; stroke-linejoin:round; stroke-width:2; stroke-opacity:0.1; fill:none\" points=\"\n",
       "  1260.94,1486.45 1260.94,47.2441 \n",
       "  \"/>\n",
       "<polyline clip-path=\"url(#clip592)\" style=\"stroke:#000000; stroke-linecap:butt; stroke-linejoin:round; stroke-width:2; stroke-opacity:0.1; fill:none\" points=\"\n",
       "  1746.8,1486.45 1746.8,47.2441 \n",
       "  \"/>\n",
       "<polyline clip-path=\"url(#clip592)\" style=\"stroke:#000000; stroke-linecap:butt; stroke-linejoin:round; stroke-width:2; stroke-opacity:0.1; fill:none\" points=\"\n",
       "  2232.65,1486.45 2232.65,47.2441 \n",
       "  \"/>\n",
       "<polyline clip-path=\"url(#clip590)\" style=\"stroke:#000000; stroke-linecap:butt; stroke-linejoin:round; stroke-width:4; stroke-opacity:1; fill:none\" points=\"\n",
       "  169.121,1486.45 2352.76,1486.45 \n",
       "  \"/>\n",
       "<polyline clip-path=\"url(#clip590)\" style=\"stroke:#000000; stroke-linecap:butt; stroke-linejoin:round; stroke-width:4; stroke-opacity:1; fill:none\" points=\"\n",
       "  289.225,1486.45 289.225,1467.55 \n",
       "  \"/>\n",
       "<polyline clip-path=\"url(#clip590)\" style=\"stroke:#000000; stroke-linecap:butt; stroke-linejoin:round; stroke-width:4; stroke-opacity:1; fill:none\" points=\"\n",
       "  775.082,1486.45 775.082,1467.55 \n",
       "  \"/>\n",
       "<polyline clip-path=\"url(#clip590)\" style=\"stroke:#000000; stroke-linecap:butt; stroke-linejoin:round; stroke-width:4; stroke-opacity:1; fill:none\" points=\"\n",
       "  1260.94,1486.45 1260.94,1467.55 \n",
       "  \"/>\n",
       "<polyline clip-path=\"url(#clip590)\" style=\"stroke:#000000; stroke-linecap:butt; stroke-linejoin:round; stroke-width:4; stroke-opacity:1; fill:none\" points=\"\n",
       "  1746.8,1486.45 1746.8,1467.55 \n",
       "  \"/>\n",
       "<polyline clip-path=\"url(#clip590)\" style=\"stroke:#000000; stroke-linecap:butt; stroke-linejoin:round; stroke-width:4; stroke-opacity:1; fill:none\" points=\"\n",
       "  2232.65,1486.45 2232.65,1467.55 \n",
       "  \"/>\n",
       "<path clip-path=\"url(#clip590)\" d=\"M251.529 1517.37 Q247.917 1517.37 246.089 1520.93 Q244.283 1524.47 244.283 1531.6 Q244.283 1538.71 246.089 1542.27 Q247.917 1545.82 251.529 1545.82 Q255.163 1545.82 256.968 1542.27 Q258.797 1538.71 258.797 1531.6 Q258.797 1524.47 256.968 1520.93 Q255.163 1517.37 251.529 1517.37 M251.529 1513.66 Q257.339 1513.66 260.394 1518.27 Q263.473 1522.85 263.473 1531.6 Q263.473 1540.33 260.394 1544.94 Q257.339 1549.52 251.529 1549.52 Q245.718 1549.52 242.64 1544.94 Q239.584 1540.33 239.584 1531.6 Q239.584 1522.85 242.64 1518.27 Q245.718 1513.66 251.529 1513.66 Z\" fill=\"#000000\" fill-rule=\"evenodd\" fill-opacity=\"1\" /><path clip-path=\"url(#clip590)\" d=\"M271.69 1542.97 L276.575 1542.97 L276.575 1548.85 L271.69 1548.85 L271.69 1542.97 Z\" fill=\"#000000\" fill-rule=\"evenodd\" fill-opacity=\"1\" /><path clip-path=\"url(#clip590)\" d=\"M296.76 1517.37 Q293.149 1517.37 291.32 1520.93 Q289.514 1524.47 289.514 1531.6 Q289.514 1538.71 291.32 1542.27 Q293.149 1545.82 296.76 1545.82 Q300.394 1545.82 302.2 1542.27 Q304.028 1538.71 304.028 1531.6 Q304.028 1524.47 302.2 1520.93 Q300.394 1517.37 296.76 1517.37 M296.76 1513.66 Q302.57 1513.66 305.625 1518.27 Q308.704 1522.85 308.704 1531.6 Q308.704 1540.33 305.625 1544.94 Q302.57 1549.52 296.76 1549.52 Q290.95 1549.52 287.871 1544.94 Q284.815 1540.33 284.815 1531.6 Q284.815 1522.85 287.871 1518.27 Q290.95 1513.66 296.76 1513.66 Z\" fill=\"#000000\" fill-rule=\"evenodd\" fill-opacity=\"1\" /><path clip-path=\"url(#clip590)\" d=\"M326.922 1517.37 Q323.311 1517.37 321.482 1520.93 Q319.676 1524.47 319.676 1531.6 Q319.676 1538.71 321.482 1542.27 Q323.311 1545.82 326.922 1545.82 Q330.556 1545.82 332.361 1542.27 Q334.19 1538.71 334.19 1531.6 Q334.19 1524.47 332.361 1520.93 Q330.556 1517.37 326.922 1517.37 M326.922 1513.66 Q332.732 1513.66 335.787 1518.27 Q338.866 1522.85 338.866 1531.6 Q338.866 1540.33 335.787 1544.94 Q332.732 1549.52 326.922 1549.52 Q321.112 1549.52 318.033 1544.94 Q314.977 1540.33 314.977 1531.6 Q314.977 1522.85 318.033 1518.27 Q321.112 1513.66 326.922 1513.66 Z\" fill=\"#000000\" fill-rule=\"evenodd\" fill-opacity=\"1\" /><path clip-path=\"url(#clip590)\" d=\"M737.883 1517.37 Q734.272 1517.37 732.443 1520.93 Q730.638 1524.47 730.638 1531.6 Q730.638 1538.71 732.443 1542.27 Q734.272 1545.82 737.883 1545.82 Q741.517 1545.82 743.323 1542.27 Q745.151 1538.71 745.151 1531.6 Q745.151 1524.47 743.323 1520.93 Q741.517 1517.37 737.883 1517.37 M737.883 1513.66 Q743.693 1513.66 746.749 1518.27 Q749.827 1522.85 749.827 1531.6 Q749.827 1540.33 746.749 1544.94 Q743.693 1549.52 737.883 1549.52 Q732.073 1549.52 728.994 1544.94 Q725.939 1540.33 725.939 1531.6 Q725.939 1522.85 728.994 1518.27 Q732.073 1513.66 737.883 1513.66 Z\" fill=\"#000000\" fill-rule=\"evenodd\" fill-opacity=\"1\" /><path clip-path=\"url(#clip590)\" d=\"M758.045 1542.97 L762.929 1542.97 L762.929 1548.85 L758.045 1548.85 L758.045 1542.97 Z\" fill=\"#000000\" fill-rule=\"evenodd\" fill-opacity=\"1\" /><path clip-path=\"url(#clip590)\" d=\"M777.142 1544.91 L793.461 1544.91 L793.461 1548.85 L771.517 1548.85 L771.517 1544.91 Q774.179 1542.16 778.762 1537.53 Q783.369 1532.88 784.549 1531.53 Q786.795 1529.01 787.674 1527.27 Q788.577 1525.51 788.577 1523.82 Q788.577 1521.07 786.633 1519.33 Q784.711 1517.6 781.61 1517.6 Q779.411 1517.6 776.957 1518.36 Q774.526 1519.13 771.749 1520.68 L771.749 1515.95 Q774.573 1514.82 777.026 1514.24 Q779.48 1513.66 781.517 1513.66 Q786.887 1513.66 790.082 1516.35 Q793.276 1519.03 793.276 1523.52 Q793.276 1525.65 792.466 1527.57 Q791.679 1529.47 789.573 1532.07 Q788.994 1532.74 785.892 1535.95 Q782.79 1539.15 777.142 1544.91 Z\" fill=\"#000000\" fill-rule=\"evenodd\" fill-opacity=\"1\" /><path clip-path=\"url(#clip590)\" d=\"M803.322 1514.29 L821.679 1514.29 L821.679 1518.22 L807.605 1518.22 L807.605 1526.7 Q808.623 1526.35 809.642 1526.19 Q810.66 1526 811.679 1526 Q817.466 1526 820.846 1529.17 Q824.225 1532.34 824.225 1537.76 Q824.225 1543.34 820.753 1546.44 Q817.281 1549.52 810.961 1549.52 Q808.785 1549.52 806.517 1549.15 Q804.272 1548.78 801.864 1548.04 L801.864 1543.34 Q803.947 1544.47 806.17 1545.03 Q808.392 1545.58 810.869 1545.58 Q814.873 1545.58 817.211 1543.48 Q819.549 1541.37 819.549 1537.76 Q819.549 1534.15 817.211 1532.04 Q814.873 1529.94 810.869 1529.94 Q808.994 1529.94 807.119 1530.35 Q805.267 1530.77 803.322 1531.65 L803.322 1514.29 Z\" fill=\"#000000\" fill-rule=\"evenodd\" fill-opacity=\"1\" /><path clip-path=\"url(#clip590)\" d=\"M1223.24 1517.37 Q1219.63 1517.37 1217.8 1520.93 Q1216 1524.47 1216 1531.6 Q1216 1538.71 1217.8 1542.27 Q1219.63 1545.82 1223.24 1545.82 Q1226.88 1545.82 1228.68 1542.27 Q1230.51 1538.71 1230.51 1531.6 Q1230.51 1524.47 1228.68 1520.93 Q1226.88 1517.37 1223.24 1517.37 M1223.24 1513.66 Q1229.05 1513.66 1232.11 1518.27 Q1235.19 1522.85 1235.19 1531.6 Q1235.19 1540.33 1232.11 1544.94 Q1229.05 1549.52 1223.24 1549.52 Q1217.43 1549.52 1214.35 1544.94 Q1211.3 1540.33 1211.3 1531.6 Q1211.3 1522.85 1214.35 1518.27 Q1217.43 1513.66 1223.24 1513.66 Z\" fill=\"#000000\" fill-rule=\"evenodd\" fill-opacity=\"1\" /><path clip-path=\"url(#clip590)\" d=\"M1243.4 1542.97 L1248.29 1542.97 L1248.29 1548.85 L1243.4 1548.85 L1243.4 1542.97 Z\" fill=\"#000000\" fill-rule=\"evenodd\" fill-opacity=\"1\" /><path clip-path=\"url(#clip590)\" d=\"M1258.52 1514.29 L1276.88 1514.29 L1276.88 1518.22 L1262.8 1518.22 L1262.8 1526.7 Q1263.82 1526.35 1264.84 1526.19 Q1265.86 1526 1266.88 1526 Q1272.66 1526 1276.04 1529.17 Q1279.42 1532.34 1279.42 1537.76 Q1279.42 1543.34 1275.95 1546.44 Q1272.48 1549.52 1266.16 1549.52 Q1263.98 1549.52 1261.71 1549.15 Q1259.47 1548.78 1257.06 1548.04 L1257.06 1543.34 Q1259.14 1544.47 1261.37 1545.03 Q1263.59 1545.58 1266.07 1545.58 Q1270.07 1545.58 1272.41 1543.48 Q1274.75 1541.37 1274.75 1537.76 Q1274.75 1534.15 1272.41 1532.04 Q1270.07 1529.94 1266.07 1529.94 Q1264.19 1529.94 1262.32 1530.35 Q1260.46 1530.77 1258.52 1531.65 L1258.52 1514.29 Z\" fill=\"#000000\" fill-rule=\"evenodd\" fill-opacity=\"1\" /><path clip-path=\"url(#clip590)\" d=\"M1298.64 1517.37 Q1295.02 1517.37 1293.2 1520.93 Q1291.39 1524.47 1291.39 1531.6 Q1291.39 1538.71 1293.2 1542.27 Q1295.02 1545.82 1298.64 1545.82 Q1302.27 1545.82 1304.07 1542.27 Q1305.9 1538.71 1305.9 1531.6 Q1305.9 1524.47 1304.07 1520.93 Q1302.27 1517.37 1298.64 1517.37 M1298.64 1513.66 Q1304.45 1513.66 1307.5 1518.27 Q1310.58 1522.85 1310.58 1531.6 Q1310.58 1540.33 1307.5 1544.94 Q1304.45 1549.52 1298.64 1549.52 Q1292.83 1549.52 1289.75 1544.94 Q1286.69 1540.33 1286.69 1531.6 Q1286.69 1522.85 1289.75 1518.27 Q1292.83 1513.66 1298.64 1513.66 Z\" fill=\"#000000\" fill-rule=\"evenodd\" fill-opacity=\"1\" /><path clip-path=\"url(#clip590)\" d=\"M1709.6 1517.37 Q1705.99 1517.37 1704.16 1520.93 Q1702.35 1524.47 1702.35 1531.6 Q1702.35 1538.71 1704.16 1542.27 Q1705.99 1545.82 1709.6 1545.82 Q1713.23 1545.82 1715.04 1542.27 Q1716.86 1538.71 1716.86 1531.6 Q1716.86 1524.47 1715.04 1520.93 Q1713.23 1517.37 1709.6 1517.37 M1709.6 1513.66 Q1715.41 1513.66 1718.46 1518.27 Q1721.54 1522.85 1721.54 1531.6 Q1721.54 1540.33 1718.46 1544.94 Q1715.41 1549.52 1709.6 1549.52 Q1703.79 1549.52 1700.71 1544.94 Q1697.65 1540.33 1697.65 1531.6 Q1697.65 1522.85 1700.71 1518.27 Q1703.79 1513.66 1709.6 1513.66 Z\" fill=\"#000000\" fill-rule=\"evenodd\" fill-opacity=\"1\" /><path clip-path=\"url(#clip590)\" d=\"M1729.76 1542.97 L1734.64 1542.97 L1734.64 1548.85 L1729.76 1548.85 L1729.76 1542.97 Z\" fill=\"#000000\" fill-rule=\"evenodd\" fill-opacity=\"1\" /><path clip-path=\"url(#clip590)\" d=\"M1743.65 1514.29 L1765.87 1514.29 L1765.87 1516.28 L1753.32 1548.85 L1748.44 1548.85 L1760.24 1518.22 L1743.65 1518.22 L1743.65 1514.29 Z\" fill=\"#000000\" fill-rule=\"evenodd\" fill-opacity=\"1\" /><path clip-path=\"url(#clip590)\" d=\"M1775.04 1514.29 L1793.39 1514.29 L1793.39 1518.22 L1779.32 1518.22 L1779.32 1526.7 Q1780.34 1526.35 1781.36 1526.19 Q1782.37 1526 1783.39 1526 Q1789.18 1526 1792.56 1529.17 Q1795.94 1532.34 1795.94 1537.76 Q1795.94 1543.34 1792.47 1546.44 Q1788.99 1549.52 1782.67 1549.52 Q1780.5 1549.52 1778.23 1549.15 Q1775.99 1548.78 1773.58 1548.04 L1773.58 1543.34 Q1775.66 1544.47 1777.88 1545.03 Q1780.11 1545.58 1782.58 1545.58 Q1786.59 1545.58 1788.92 1543.48 Q1791.26 1541.37 1791.26 1537.76 Q1791.26 1534.15 1788.92 1532.04 Q1786.59 1529.94 1782.58 1529.94 Q1780.71 1529.94 1778.83 1530.35 Q1776.98 1530.77 1775.04 1531.65 L1775.04 1514.29 Z\" fill=\"#000000\" fill-rule=\"evenodd\" fill-opacity=\"1\" /><path clip-path=\"url(#clip590)\" d=\"M2184.72 1544.91 L2192.36 1544.91 L2192.36 1518.55 L2184.05 1520.21 L2184.05 1515.95 L2192.32 1514.29 L2196.99 1514.29 L2196.99 1544.91 L2204.63 1544.91 L2204.63 1548.85 L2184.72 1548.85 L2184.72 1544.91 Z\" fill=\"#000000\" fill-rule=\"evenodd\" fill-opacity=\"1\" /><path clip-path=\"url(#clip590)\" d=\"M2214.08 1542.97 L2218.96 1542.97 L2218.96 1548.85 L2214.08 1548.85 L2214.08 1542.97 Z\" fill=\"#000000\" fill-rule=\"evenodd\" fill-opacity=\"1\" /><path clip-path=\"url(#clip590)\" d=\"M2239.15 1517.37 Q2235.53 1517.37 2233.71 1520.93 Q2231.9 1524.47 2231.9 1531.6 Q2231.9 1538.71 2233.71 1542.27 Q2235.53 1545.82 2239.15 1545.82 Q2242.78 1545.82 2244.58 1542.27 Q2246.41 1538.71 2246.41 1531.6 Q2246.41 1524.47 2244.58 1520.93 Q2242.78 1517.37 2239.15 1517.37 M2239.15 1513.66 Q2244.96 1513.66 2248.01 1518.27 Q2251.09 1522.85 2251.09 1531.6 Q2251.09 1540.33 2248.01 1544.94 Q2244.96 1549.52 2239.15 1549.52 Q2233.33 1549.52 2230.26 1544.94 Q2227.2 1540.33 2227.2 1531.6 Q2227.2 1522.85 2230.26 1518.27 Q2233.33 1513.66 2239.15 1513.66 Z\" fill=\"#000000\" fill-rule=\"evenodd\" fill-opacity=\"1\" /><path clip-path=\"url(#clip590)\" d=\"M2269.31 1517.37 Q2265.7 1517.37 2263.87 1520.93 Q2262.06 1524.47 2262.06 1531.6 Q2262.06 1538.71 2263.87 1542.27 Q2265.7 1545.82 2269.31 1545.82 Q2272.94 1545.82 2274.75 1542.27 Q2276.58 1538.71 2276.58 1531.6 Q2276.58 1524.47 2274.75 1520.93 Q2272.94 1517.37 2269.31 1517.37 M2269.31 1513.66 Q2275.12 1513.66 2278.17 1518.27 Q2281.25 1522.85 2281.25 1531.6 Q2281.25 1540.33 2278.17 1544.94 Q2275.12 1549.52 2269.31 1549.52 Q2263.5 1549.52 2260.42 1544.94 Q2257.36 1540.33 2257.36 1531.6 Q2257.36 1522.85 2260.42 1518.27 Q2263.5 1513.66 2269.31 1513.66 Z\" fill=\"#000000\" fill-rule=\"evenodd\" fill-opacity=\"1\" /><polyline clip-path=\"url(#clip592)\" style=\"stroke:#000000; stroke-linecap:butt; stroke-linejoin:round; stroke-width:2; stroke-opacity:0.1; fill:none\" points=\"\n",
       "  169.121,1445.72 2352.76,1445.72 \n",
       "  \"/>\n",
       "<polyline clip-path=\"url(#clip592)\" style=\"stroke:#000000; stroke-linecap:butt; stroke-linejoin:round; stroke-width:2; stroke-opacity:0.1; fill:none\" points=\"\n",
       "  169.121,1150.55 2352.76,1150.55 \n",
       "  \"/>\n",
       "<polyline clip-path=\"url(#clip592)\" style=\"stroke:#000000; stroke-linecap:butt; stroke-linejoin:round; stroke-width:2; stroke-opacity:0.1; fill:none\" points=\"\n",
       "  169.121,855.394 2352.76,855.394 \n",
       "  \"/>\n",
       "<polyline clip-path=\"url(#clip592)\" style=\"stroke:#000000; stroke-linecap:butt; stroke-linejoin:round; stroke-width:2; stroke-opacity:0.1; fill:none\" points=\"\n",
       "  169.121,560.233 2352.76,560.233 \n",
       "  \"/>\n",
       "<polyline clip-path=\"url(#clip592)\" style=\"stroke:#000000; stroke-linecap:butt; stroke-linejoin:round; stroke-width:2; stroke-opacity:0.1; fill:none\" points=\"\n",
       "  169.121,265.073 2352.76,265.073 \n",
       "  \"/>\n",
       "<polyline clip-path=\"url(#clip590)\" style=\"stroke:#000000; stroke-linecap:butt; stroke-linejoin:round; stroke-width:4; stroke-opacity:1; fill:none\" points=\"\n",
       "  169.121,1486.45 169.121,47.2441 \n",
       "  \"/>\n",
       "<polyline clip-path=\"url(#clip590)\" style=\"stroke:#000000; stroke-linecap:butt; stroke-linejoin:round; stroke-width:4; stroke-opacity:1; fill:none\" points=\"\n",
       "  169.121,1445.72 188.019,1445.72 \n",
       "  \"/>\n",
       "<polyline clip-path=\"url(#clip590)\" style=\"stroke:#000000; stroke-linecap:butt; stroke-linejoin:round; stroke-width:4; stroke-opacity:1; fill:none\" points=\"\n",
       "  169.121,1150.55 188.019,1150.55 \n",
       "  \"/>\n",
       "<polyline clip-path=\"url(#clip590)\" style=\"stroke:#000000; stroke-linecap:butt; stroke-linejoin:round; stroke-width:4; stroke-opacity:1; fill:none\" points=\"\n",
       "  169.121,855.394 188.019,855.394 \n",
       "  \"/>\n",
       "<polyline clip-path=\"url(#clip590)\" style=\"stroke:#000000; stroke-linecap:butt; stroke-linejoin:round; stroke-width:4; stroke-opacity:1; fill:none\" points=\"\n",
       "  169.121,560.233 188.019,560.233 \n",
       "  \"/>\n",
       "<polyline clip-path=\"url(#clip590)\" style=\"stroke:#000000; stroke-linecap:butt; stroke-linejoin:round; stroke-width:4; stroke-opacity:1; fill:none\" points=\"\n",
       "  169.121,265.073 188.019,265.073 \n",
       "  \"/>\n",
       "<path clip-path=\"url(#clip590)\" d=\"M121.177 1431.51 Q117.566 1431.51 115.737 1435.08 Q113.932 1438.62 113.932 1445.75 Q113.932 1452.86 115.737 1456.42 Q117.566 1459.96 121.177 1459.96 Q124.811 1459.96 126.617 1456.42 Q128.445 1452.86 128.445 1445.75 Q128.445 1438.62 126.617 1435.08 Q124.811 1431.51 121.177 1431.51 M121.177 1427.81 Q126.987 1427.81 130.043 1432.42 Q133.121 1437 133.121 1445.75 Q133.121 1454.48 130.043 1459.08 Q126.987 1463.67 121.177 1463.67 Q115.367 1463.67 112.288 1459.08 Q109.233 1454.48 109.233 1445.75 Q109.233 1437 112.288 1432.42 Q115.367 1427.81 121.177 1427.81 Z\" fill=\"#000000\" fill-rule=\"evenodd\" fill-opacity=\"1\" /><path clip-path=\"url(#clip590)\" d=\"M86.0382 1163.9 L102.358 1163.9 L102.358 1167.83 L80.4133 1167.83 L80.4133 1163.9 Q83.0753 1161.15 87.6586 1156.52 Q92.2651 1151.86 93.4456 1150.52 Q95.691 1148 96.5706 1146.26 Q97.4734 1144.5 97.4734 1142.81 Q97.4734 1140.06 95.5289 1138.32 Q93.6076 1136.59 90.5058 1136.59 Q88.3067 1136.59 85.8531 1137.35 Q83.4225 1138.11 80.6447 1139.66 L80.6447 1134.94 Q83.4688 1133.81 85.9225 1133.23 Q88.3762 1132.65 90.4132 1132.65 Q95.7836 1132.65 98.978 1135.34 Q102.172 1138.02 102.172 1142.51 Q102.172 1144.64 101.362 1146.56 Q100.575 1148.46 98.4687 1151.05 Q97.89 1151.72 94.7882 1154.94 Q91.6864 1158.14 86.0382 1163.9 Z\" fill=\"#000000\" fill-rule=\"evenodd\" fill-opacity=\"1\" /><path clip-path=\"url(#clip590)\" d=\"M112.219 1133.27 L130.575 1133.27 L130.575 1137.21 L116.501 1137.21 L116.501 1145.68 Q117.52 1145.34 118.538 1145.17 Q119.557 1144.99 120.575 1144.99 Q126.362 1144.99 129.742 1148.16 Q133.121 1151.33 133.121 1156.75 Q133.121 1162.33 129.649 1165.43 Q126.177 1168.51 119.857 1168.51 Q117.682 1168.51 115.413 1168.14 Q113.168 1167.77 110.76 1167.02 L110.76 1162.33 Q112.844 1163.46 115.066 1164.02 Q117.288 1164.57 119.765 1164.57 Q123.77 1164.57 126.107 1162.46 Q128.445 1160.36 128.445 1156.75 Q128.445 1153.14 126.107 1151.03 Q123.77 1148.92 119.765 1148.92 Q117.89 1148.92 116.015 1149.34 Q114.163 1149.76 112.219 1150.64 L112.219 1133.27 Z\" fill=\"#000000\" fill-rule=\"evenodd\" fill-opacity=\"1\" /><path clip-path=\"url(#clip590)\" d=\"M81.0614 838.114 L99.4178 838.114 L99.4178 842.049 L85.3438 842.049 L85.3438 850.522 Q86.3623 850.174 87.3808 850.012 Q88.3993 849.827 89.4178 849.827 Q95.2049 849.827 98.5845 852.998 Q101.964 856.17 101.964 861.586 Q101.964 867.165 98.4919 870.267 Q95.0197 873.345 88.7003 873.345 Q86.5243 873.345 84.2558 872.975 Q82.0105 872.605 79.6031 871.864 L79.6031 867.165 Q81.6864 868.299 83.9086 868.855 Q86.1308 869.41 88.6077 869.41 Q92.6123 869.41 94.9502 867.304 Q97.2882 865.197 97.2882 861.586 Q97.2882 857.975 94.9502 855.869 Q92.6123 853.762 88.6077 853.762 Q86.7327 853.762 84.8577 854.179 Q83.0058 854.596 81.0614 855.475 L81.0614 838.114 Z\" fill=\"#000000\" fill-rule=\"evenodd\" fill-opacity=\"1\" /><path clip-path=\"url(#clip590)\" d=\"M121.177 841.193 Q117.566 841.193 115.737 844.758 Q113.932 848.299 113.932 855.429 Q113.932 862.535 115.737 866.1 Q117.566 869.642 121.177 869.642 Q124.811 869.642 126.617 866.1 Q128.445 862.535 128.445 855.429 Q128.445 848.299 126.617 844.758 Q124.811 841.193 121.177 841.193 M121.177 837.489 Q126.987 837.489 130.043 842.096 Q133.121 846.679 133.121 855.429 Q133.121 864.156 130.043 868.762 Q126.987 873.345 121.177 873.345 Q115.367 873.345 112.288 868.762 Q109.233 864.156 109.233 855.429 Q109.233 846.679 112.288 842.096 Q115.367 837.489 121.177 837.489 Z\" fill=\"#000000\" fill-rule=\"evenodd\" fill-opacity=\"1\" /><path clip-path=\"url(#clip590)\" d=\"M80.8299 542.953 L103.052 542.953 L103.052 544.944 L90.5058 577.513 L85.6216 577.513 L97.4271 546.889 L80.8299 546.889 L80.8299 542.953 Z\" fill=\"#000000\" fill-rule=\"evenodd\" fill-opacity=\"1\" /><path clip-path=\"url(#clip590)\" d=\"M112.219 542.953 L130.575 542.953 L130.575 546.889 L116.501 546.889 L116.501 555.361 Q117.52 555.014 118.538 554.852 Q119.557 554.666 120.575 554.666 Q126.362 554.666 129.742 557.838 Q133.121 561.009 133.121 566.426 Q133.121 572.004 129.649 575.106 Q126.177 578.185 119.857 578.185 Q117.682 578.185 115.413 577.814 Q113.168 577.444 110.76 576.703 L110.76 572.004 Q112.844 573.138 115.066 573.694 Q117.288 574.25 119.765 574.25 Q123.77 574.25 126.107 572.143 Q128.445 570.037 128.445 566.426 Q128.445 562.814 126.107 560.708 Q123.77 558.602 119.765 558.602 Q117.89 558.602 116.015 559.018 Q114.163 559.435 112.219 560.314 L112.219 542.953 Z\" fill=\"#000000\" fill-rule=\"evenodd\" fill-opacity=\"1\" /><path clip-path=\"url(#clip590)\" d=\"M51.6634 278.418 L59.3023 278.418 L59.3023 252.052 L50.9921 253.719 L50.9921 249.459 L59.256 247.793 L63.9319 247.793 L63.9319 278.418 L71.5707 278.418 L71.5707 282.353 L51.6634 282.353 L51.6634 278.418 Z\" fill=\"#000000\" fill-rule=\"evenodd\" fill-opacity=\"1\" /><path clip-path=\"url(#clip590)\" d=\"M91.0151 250.871 Q87.404 250.871 85.5753 254.436 Q83.7697 257.978 83.7697 265.107 Q83.7697 272.214 85.5753 275.779 Q87.404 279.32 91.0151 279.32 Q94.6493 279.32 96.4548 275.779 Q98.2835 272.214 98.2835 265.107 Q98.2835 257.978 96.4548 254.436 Q94.6493 250.871 91.0151 250.871 M91.0151 247.168 Q96.8252 247.168 99.8808 251.774 Q102.959 256.357 102.959 265.107 Q102.959 273.834 99.8808 278.441 Q96.8252 283.024 91.0151 283.024 Q85.2049 283.024 82.1262 278.441 Q79.0707 273.834 79.0707 265.107 Q79.0707 256.357 82.1262 251.774 Q85.2049 247.168 91.0151 247.168 Z\" fill=\"#000000\" fill-rule=\"evenodd\" fill-opacity=\"1\" /><path clip-path=\"url(#clip590)\" d=\"M121.177 250.871 Q117.566 250.871 115.737 254.436 Q113.932 257.978 113.932 265.107 Q113.932 272.214 115.737 275.779 Q117.566 279.32 121.177 279.32 Q124.811 279.32 126.617 275.779 Q128.445 272.214 128.445 265.107 Q128.445 257.978 126.617 254.436 Q124.811 250.871 121.177 250.871 M121.177 247.168 Q126.987 247.168 130.043 251.774 Q133.121 256.357 133.121 265.107 Q133.121 273.834 130.043 278.441 Q126.987 283.024 121.177 283.024 Q115.367 283.024 112.288 278.441 Q109.233 273.834 109.233 265.107 Q109.233 256.357 112.288 251.774 Q115.367 247.168 121.177 247.168 Z\" fill=\"#000000\" fill-rule=\"evenodd\" fill-opacity=\"1\" /><path clip-path=\"url(#clip592)\" d=\"\n",
       "M289.225 87.9763 L289.225 1445.72 L386.396 1445.72 L386.396 87.9763 L289.225 87.9763 L289.225 87.9763  Z\n",
       "  \" fill=\"#009af9\" fill-rule=\"evenodd\" fill-opacity=\"1\"/>\n",
       "<polyline clip-path=\"url(#clip592)\" style=\"stroke:#000000; stroke-linecap:butt; stroke-linejoin:round; stroke-width:4; stroke-opacity:1; fill:none\" points=\"\n",
       "  289.225,87.9763 289.225,1445.72 386.396,1445.72 386.396,87.9763 289.225,87.9763 \n",
       "  \"/>\n",
       "<path clip-path=\"url(#clip592)\" d=\"\n",
       "M386.396 1304.04 L386.396 1445.72 L483.568 1445.72 L483.568 1304.04 L386.396 1304.04 L386.396 1304.04  Z\n",
       "  \" fill=\"#009af9\" fill-rule=\"evenodd\" fill-opacity=\"1\"/>\n",
       "<polyline clip-path=\"url(#clip592)\" style=\"stroke:#000000; stroke-linecap:butt; stroke-linejoin:round; stroke-width:4; stroke-opacity:1; fill:none\" points=\"\n",
       "  386.396,1304.04 386.396,1445.72 483.568,1445.72 483.568,1304.04 386.396,1304.04 \n",
       "  \"/>\n",
       "<path clip-path=\"url(#clip592)\" d=\"\n",
       "M483.568 1315.84 L483.568 1445.72 L580.739 1445.72 L580.739 1315.84 L483.568 1315.84 L483.568 1315.84  Z\n",
       "  \" fill=\"#009af9\" fill-rule=\"evenodd\" fill-opacity=\"1\"/>\n",
       "<polyline clip-path=\"url(#clip592)\" style=\"stroke:#000000; stroke-linecap:butt; stroke-linejoin:round; stroke-width:4; stroke-opacity:1; fill:none\" points=\"\n",
       "  483.568,1315.84 483.568,1445.72 580.739,1445.72 580.739,1315.84 483.568,1315.84 \n",
       "  \"/>\n",
       "<path clip-path=\"url(#clip592)\" d=\"\n",
       "M580.739 1363.07 L580.739 1445.72 L677.911 1445.72 L677.911 1363.07 L580.739 1363.07 L580.739 1363.07  Z\n",
       "  \" fill=\"#009af9\" fill-rule=\"evenodd\" fill-opacity=\"1\"/>\n",
       "<polyline clip-path=\"url(#clip592)\" style=\"stroke:#000000; stroke-linecap:butt; stroke-linejoin:round; stroke-width:4; stroke-opacity:1; fill:none\" points=\"\n",
       "  580.739,1363.07 580.739,1445.72 677.911,1445.72 677.911,1363.07 580.739,1363.07 \n",
       "  \"/>\n",
       "<path clip-path=\"url(#clip592)\" d=\"\n",
       "M677.911 1339.46 L677.911 1445.72 L775.082 1445.72 L775.082 1339.46 L677.911 1339.46 L677.911 1339.46  Z\n",
       "  \" fill=\"#009af9\" fill-rule=\"evenodd\" fill-opacity=\"1\"/>\n",
       "<polyline clip-path=\"url(#clip592)\" style=\"stroke:#000000; stroke-linecap:butt; stroke-linejoin:round; stroke-width:4; stroke-opacity:1; fill:none\" points=\"\n",
       "  677.911,1339.46 677.911,1445.72 775.082,1445.72 775.082,1339.46 677.911,1339.46 \n",
       "  \"/>\n",
       "<path clip-path=\"url(#clip592)\" d=\"\n",
       "M775.082 1422.1 L775.082 1445.72 L872.253 1445.72 L872.253 1422.1 L775.082 1422.1 L775.082 1422.1  Z\n",
       "  \" fill=\"#009af9\" fill-rule=\"evenodd\" fill-opacity=\"1\"/>\n",
       "<polyline clip-path=\"url(#clip592)\" style=\"stroke:#000000; stroke-linecap:butt; stroke-linejoin:round; stroke-width:4; stroke-opacity:1; fill:none\" points=\"\n",
       "  775.082,1422.1 775.082,1445.72 872.253,1445.72 872.253,1422.1 775.082,1422.1 \n",
       "  \"/>\n",
       "<path clip-path=\"url(#clip592)\" d=\"\n",
       "M872.253 1410.3 L872.253 1445.72 L969.425 1445.72 L969.425 1410.3 L872.253 1410.3 L872.253 1410.3  Z\n",
       "  \" fill=\"#009af9\" fill-rule=\"evenodd\" fill-opacity=\"1\"/>\n",
       "<polyline clip-path=\"url(#clip592)\" style=\"stroke:#000000; stroke-linecap:butt; stroke-linejoin:round; stroke-width:4; stroke-opacity:1; fill:none\" points=\"\n",
       "  872.253,1410.3 872.253,1445.72 969.425,1445.72 969.425,1410.3 872.253,1410.3 \n",
       "  \"/>\n",
       "<path clip-path=\"url(#clip592)\" d=\"\n",
       "M969.425 1386.68 L969.425 1445.72 L1066.6 1445.72 L1066.6 1386.68 L969.425 1386.68 L969.425 1386.68  Z\n",
       "  \" fill=\"#009af9\" fill-rule=\"evenodd\" fill-opacity=\"1\"/>\n",
       "<polyline clip-path=\"url(#clip592)\" style=\"stroke:#000000; stroke-linecap:butt; stroke-linejoin:round; stroke-width:4; stroke-opacity:1; fill:none\" points=\"\n",
       "  969.425,1386.68 969.425,1445.72 1066.6,1445.72 1066.6,1386.68 969.425,1386.68 \n",
       "  \"/>\n",
       "<path clip-path=\"url(#clip592)\" d=\"\n",
       "M1066.6 1398.49 L1066.6 1445.72 L1163.77 1445.72 L1163.77 1398.49 L1066.6 1398.49 L1066.6 1398.49  Z\n",
       "  \" fill=\"#009af9\" fill-rule=\"evenodd\" fill-opacity=\"1\"/>\n",
       "<polyline clip-path=\"url(#clip592)\" style=\"stroke:#000000; stroke-linecap:butt; stroke-linejoin:round; stroke-width:4; stroke-opacity:1; fill:none\" points=\"\n",
       "  1066.6,1398.49 1066.6,1445.72 1163.77,1445.72 1163.77,1398.49 1066.6,1398.49 \n",
       "  \"/>\n",
       "<path clip-path=\"url(#clip592)\" d=\"\n",
       "M1163.77 1433.91 L1163.77 1445.72 L1260.94 1445.72 L1260.94 1433.91 L1163.77 1433.91 L1163.77 1433.91  Z\n",
       "  \" fill=\"#009af9\" fill-rule=\"evenodd\" fill-opacity=\"1\"/>\n",
       "<polyline clip-path=\"url(#clip592)\" style=\"stroke:#000000; stroke-linecap:butt; stroke-linejoin:round; stroke-width:4; stroke-opacity:1; fill:none\" points=\"\n",
       "  1163.77,1433.91 1163.77,1445.72 1260.94,1445.72 1260.94,1433.91 1163.77,1433.91 \n",
       "  \"/>\n",
       "<path clip-path=\"url(#clip592)\" d=\"\n",
       "M1260.94 1398.49 L1260.94 1445.72 L1358.11 1445.72 L1358.11 1398.49 L1260.94 1398.49 L1260.94 1398.49  Z\n",
       "  \" fill=\"#009af9\" fill-rule=\"evenodd\" fill-opacity=\"1\"/>\n",
       "<polyline clip-path=\"url(#clip592)\" style=\"stroke:#000000; stroke-linecap:butt; stroke-linejoin:round; stroke-width:4; stroke-opacity:1; fill:none\" points=\"\n",
       "  1260.94,1398.49 1260.94,1445.72 1358.11,1445.72 1358.11,1398.49 1260.94,1398.49 \n",
       "  \"/>\n",
       "<path clip-path=\"url(#clip592)\" d=\"\n",
       "M1358.11 1386.68 L1358.11 1445.72 L1455.28 1445.72 L1455.28 1386.68 L1358.11 1386.68 L1358.11 1386.68  Z\n",
       "  \" fill=\"#009af9\" fill-rule=\"evenodd\" fill-opacity=\"1\"/>\n",
       "<polyline clip-path=\"url(#clip592)\" style=\"stroke:#000000; stroke-linecap:butt; stroke-linejoin:round; stroke-width:4; stroke-opacity:1; fill:none\" points=\"\n",
       "  1358.11,1386.68 1358.11,1445.72 1455.28,1445.72 1455.28,1386.68 1358.11,1386.68 \n",
       "  \"/>\n",
       "<path clip-path=\"url(#clip592)\" d=\"\n",
       "M1455.28 1445.72 L1455.28 1445.72 L1552.45 1445.72 L1552.45 1445.72 L1455.28 1445.72 L1455.28 1445.72  Z\n",
       "  \" fill=\"#009af9\" fill-rule=\"evenodd\" fill-opacity=\"1\"/>\n",
       "<polyline clip-path=\"url(#clip592)\" style=\"stroke:#000000; stroke-linecap:butt; stroke-linejoin:round; stroke-width:4; stroke-opacity:1; fill:none\" points=\"\n",
       "  1455.28,1445.72 1455.28,1445.72 1552.45,1445.72 1455.28,1445.72 \n",
       "  \"/>\n",
       "<path clip-path=\"url(#clip592)\" d=\"\n",
       "M1552.45 1410.3 L1552.45 1445.72 L1649.62 1445.72 L1649.62 1410.3 L1552.45 1410.3 L1552.45 1410.3  Z\n",
       "  \" fill=\"#009af9\" fill-rule=\"evenodd\" fill-opacity=\"1\"/>\n",
       "<polyline clip-path=\"url(#clip592)\" style=\"stroke:#000000; stroke-linecap:butt; stroke-linejoin:round; stroke-width:4; stroke-opacity:1; fill:none\" points=\"\n",
       "  1552.45,1410.3 1552.45,1445.72 1649.62,1445.72 1649.62,1410.3 1552.45,1410.3 \n",
       "  \"/>\n",
       "<path clip-path=\"url(#clip592)\" d=\"\n",
       "M1649.62 1433.91 L1649.62 1445.72 L1746.8 1445.72 L1746.8 1433.91 L1649.62 1433.91 L1649.62 1433.91  Z\n",
       "  \" fill=\"#009af9\" fill-rule=\"evenodd\" fill-opacity=\"1\"/>\n",
       "<polyline clip-path=\"url(#clip592)\" style=\"stroke:#000000; stroke-linecap:butt; stroke-linejoin:round; stroke-width:4; stroke-opacity:1; fill:none\" points=\"\n",
       "  1649.62,1433.91 1649.62,1445.72 1746.8,1445.72 1746.8,1433.91 1649.62,1433.91 \n",
       "  \"/>\n",
       "<path clip-path=\"url(#clip592)\" d=\"\n",
       "M1746.8 1398.49 L1746.8 1445.72 L1843.97 1445.72 L1843.97 1398.49 L1746.8 1398.49 L1746.8 1398.49  Z\n",
       "  \" fill=\"#009af9\" fill-rule=\"evenodd\" fill-opacity=\"1\"/>\n",
       "<polyline clip-path=\"url(#clip592)\" style=\"stroke:#000000; stroke-linecap:butt; stroke-linejoin:round; stroke-width:4; stroke-opacity:1; fill:none\" points=\"\n",
       "  1746.8,1398.49 1746.8,1445.72 1843.97,1445.72 1843.97,1398.49 1746.8,1398.49 \n",
       "  \"/>\n",
       "<path clip-path=\"url(#clip592)\" d=\"\n",
       "M1843.97 1422.1 L1843.97 1445.72 L1941.14 1445.72 L1941.14 1422.1 L1843.97 1422.1 L1843.97 1422.1  Z\n",
       "  \" fill=\"#009af9\" fill-rule=\"evenodd\" fill-opacity=\"1\"/>\n",
       "<polyline clip-path=\"url(#clip592)\" style=\"stroke:#000000; stroke-linecap:butt; stroke-linejoin:round; stroke-width:4; stroke-opacity:1; fill:none\" points=\"\n",
       "  1843.97,1422.1 1843.97,1445.72 1941.14,1445.72 1941.14,1422.1 1843.97,1422.1 \n",
       "  \"/>\n",
       "<path clip-path=\"url(#clip592)\" d=\"\n",
       "M1941.14 1433.91 L1941.14 1445.72 L2038.31 1445.72 L2038.31 1433.91 L1941.14 1433.91 L1941.14 1433.91  Z\n",
       "  \" fill=\"#009af9\" fill-rule=\"evenodd\" fill-opacity=\"1\"/>\n",
       "<polyline clip-path=\"url(#clip592)\" style=\"stroke:#000000; stroke-linecap:butt; stroke-linejoin:round; stroke-width:4; stroke-opacity:1; fill:none\" points=\"\n",
       "  1941.14,1433.91 1941.14,1445.72 2038.31,1445.72 2038.31,1433.91 1941.14,1433.91 \n",
       "  \"/>\n",
       "<path clip-path=\"url(#clip592)\" d=\"\n",
       "M2038.31 1410.3 L2038.31 1445.72 L2135.48 1445.72 L2135.48 1410.3 L2038.31 1410.3 L2038.31 1410.3  Z\n",
       "  \" fill=\"#009af9\" fill-rule=\"evenodd\" fill-opacity=\"1\"/>\n",
       "<polyline clip-path=\"url(#clip592)\" style=\"stroke:#000000; stroke-linecap:butt; stroke-linejoin:round; stroke-width:4; stroke-opacity:1; fill:none\" points=\"\n",
       "  2038.31,1410.3 2038.31,1445.72 2135.48,1445.72 2135.48,1410.3 2038.31,1410.3 \n",
       "  \"/>\n",
       "<path clip-path=\"url(#clip592)\" d=\"\n",
       "M2135.48 1445.72 L2135.48 1445.72 L2232.65 1445.72 L2232.65 1445.72 L2135.48 1445.72 L2135.48 1445.72  Z\n",
       "  \" fill=\"#009af9\" fill-rule=\"evenodd\" fill-opacity=\"1\"/>\n",
       "<polyline clip-path=\"url(#clip592)\" style=\"stroke:#000000; stroke-linecap:butt; stroke-linejoin:round; stroke-width:4; stroke-opacity:1; fill:none\" points=\"\n",
       "  2135.48,1445.72 2135.48,1445.72 2232.65,1445.72 2135.48,1445.72 \n",
       "  \"/>\n",
       "<circle clip-path=\"url(#clip592)\" style=\"fill:#009af9; stroke:none; fill-opacity:0\" cx=\"337.811\" cy=\"87.9763\" r=\"2\"/>\n",
       "<circle clip-path=\"url(#clip592)\" style=\"fill:#009af9; stroke:none; fill-opacity:0\" cx=\"434.982\" cy=\"1304.04\" r=\"2\"/>\n",
       "<circle clip-path=\"url(#clip592)\" style=\"fill:#009af9; stroke:none; fill-opacity:0\" cx=\"532.153\" cy=\"1315.84\" r=\"2\"/>\n",
       "<circle clip-path=\"url(#clip592)\" style=\"fill:#009af9; stroke:none; fill-opacity:0\" cx=\"629.325\" cy=\"1363.07\" r=\"2\"/>\n",
       "<circle clip-path=\"url(#clip592)\" style=\"fill:#009af9; stroke:none; fill-opacity:0\" cx=\"726.496\" cy=\"1339.46\" r=\"2\"/>\n",
       "<circle clip-path=\"url(#clip592)\" style=\"fill:#009af9; stroke:none; fill-opacity:0\" cx=\"823.668\" cy=\"1422.1\" r=\"2\"/>\n",
       "<circle clip-path=\"url(#clip592)\" style=\"fill:#009af9; stroke:none; fill-opacity:0\" cx=\"920.839\" cy=\"1410.3\" r=\"2\"/>\n",
       "<circle clip-path=\"url(#clip592)\" style=\"fill:#009af9; stroke:none; fill-opacity:0\" cx=\"1018.01\" cy=\"1386.68\" r=\"2\"/>\n",
       "<circle clip-path=\"url(#clip592)\" style=\"fill:#009af9; stroke:none; fill-opacity:0\" cx=\"1115.18\" cy=\"1398.49\" r=\"2\"/>\n",
       "<circle clip-path=\"url(#clip592)\" style=\"fill:#009af9; stroke:none; fill-opacity:0\" cx=\"1212.35\" cy=\"1433.91\" r=\"2\"/>\n",
       "<circle clip-path=\"url(#clip592)\" style=\"fill:#009af9; stroke:none; fill-opacity:0\" cx=\"1309.52\" cy=\"1398.49\" r=\"2\"/>\n",
       "<circle clip-path=\"url(#clip592)\" style=\"fill:#009af9; stroke:none; fill-opacity:0\" cx=\"1406.7\" cy=\"1386.68\" r=\"2\"/>\n",
       "<circle clip-path=\"url(#clip592)\" style=\"fill:#009af9; stroke:none; fill-opacity:0\" cx=\"1503.87\" cy=\"1445.72\" r=\"2\"/>\n",
       "<circle clip-path=\"url(#clip592)\" style=\"fill:#009af9; stroke:none; fill-opacity:0\" cx=\"1601.04\" cy=\"1410.3\" r=\"2\"/>\n",
       "<circle clip-path=\"url(#clip592)\" style=\"fill:#009af9; stroke:none; fill-opacity:0\" cx=\"1698.21\" cy=\"1433.91\" r=\"2\"/>\n",
       "<circle clip-path=\"url(#clip592)\" style=\"fill:#009af9; stroke:none; fill-opacity:0\" cx=\"1795.38\" cy=\"1398.49\" r=\"2\"/>\n",
       "<circle clip-path=\"url(#clip592)\" style=\"fill:#009af9; stroke:none; fill-opacity:0\" cx=\"1892.55\" cy=\"1422.1\" r=\"2\"/>\n",
       "<circle clip-path=\"url(#clip592)\" style=\"fill:#009af9; stroke:none; fill-opacity:0\" cx=\"1989.72\" cy=\"1433.91\" r=\"2\"/>\n",
       "<circle clip-path=\"url(#clip592)\" style=\"fill:#009af9; stroke:none; fill-opacity:0\" cx=\"2086.9\" cy=\"1410.3\" r=\"2\"/>\n",
       "<circle clip-path=\"url(#clip592)\" style=\"fill:#009af9; stroke:none; fill-opacity:0\" cx=\"2184.07\" cy=\"1445.72\" r=\"2\"/>\n",
       "<path clip-path=\"url(#clip590)\" d=\"\n",
       "M1984.91 198.898 L2279.97 198.898 L2279.97 95.2176 L1984.91 95.2176  Z\n",
       "  \" fill=\"#ffffff\" fill-rule=\"evenodd\" fill-opacity=\"1\"/>\n",
       "<polyline clip-path=\"url(#clip590)\" style=\"stroke:#000000; stroke-linecap:butt; stroke-linejoin:round; stroke-width:4; stroke-opacity:1; fill:none\" points=\"\n",
       "  1984.91,198.898 2279.97,198.898 2279.97,95.2176 1984.91,95.2176 1984.91,198.898 \n",
       "  \"/>\n",
       "<path clip-path=\"url(#clip590)\" d=\"\n",
       "M2009.17 167.794 L2154.75 167.794 L2154.75 126.322 L2009.17 126.322 L2009.17 167.794  Z\n",
       "  \" fill=\"#009af9\" fill-rule=\"evenodd\" fill-opacity=\"1\"/>\n",
       "<polyline clip-path=\"url(#clip590)\" style=\"stroke:#000000; stroke-linecap:butt; stroke-linejoin:round; stroke-width:4; stroke-opacity:1; fill:none\" points=\"\n",
       "  2009.17,167.794 2154.75,167.794 2154.75,126.322 2009.17,126.322 2009.17,167.794 \n",
       "  \"/>\n",
       "<path clip-path=\"url(#clip590)\" d=\"M2192.86 166.745 Q2191.05 171.375 2189.34 172.787 Q2187.62 174.199 2184.75 174.199 L2181.35 174.199 L2181.35 170.634 L2183.85 170.634 Q2185.61 170.634 2186.58 169.8 Q2187.55 168.967 2188.73 165.865 L2189.5 163.921 L2179.01 138.412 L2183.53 138.412 L2191.63 158.689 L2199.73 138.412 L2204.24 138.412 L2192.86 166.745 Z\" fill=\"#000000\" fill-rule=\"evenodd\" fill-opacity=\"1\" /><path clip-path=\"url(#clip590)\" d=\"M2211.54 160.402 L2219.17 160.402 L2219.17 134.037 L2210.86 135.703 L2210.86 131.444 L2219.13 129.778 L2223.8 129.778 L2223.8 160.402 L2231.44 160.402 L2231.44 164.338 L2211.54 164.338 L2211.54 160.402 Z\" fill=\"#000000\" fill-rule=\"evenodd\" fill-opacity=\"1\" /></svg>\n"
      ]
     },
     "execution_count": 183,
     "metadata": {},
     "output_type": "execute_result"
    }
   ],
   "source": [
    "histogram(pval1,bins=0:0.05:1.0)"
   ]
  },
  {
   "cell_type": "code",
   "execution_count": 160,
   "id": "271ca79f-ffd1-4e0b-a0da-6710f5ba8238",
   "metadata": {},
   "outputs": [
    {
     "data": {
      "text/plain": [
       "1.0"
      ]
     },
     "execution_count": 160,
     "metadata": {},
     "output_type": "execute_result"
    }
   ],
   "source": [
    "maximum(pval1)"
   ]
  },
  {
   "cell_type": "code",
   "execution_count": null,
   "id": "f05c5c19-78a4-4fc9-be70-85ad4a2bb75d",
   "metadata": {},
   "outputs": [],
   "source": []
  }
 ],
 "metadata": {
  "kernelspec": {
   "display_name": "Julia 1.7.2",
   "language": "julia",
   "name": "julia-1.7"
  },
  "language_info": {
   "file_extension": ".jl",
   "mimetype": "application/julia",
   "name": "julia",
   "version": "1.7.2"
  }
 },
 "nbformat": 4,
 "nbformat_minor": 5
}
